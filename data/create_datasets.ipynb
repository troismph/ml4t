{
 "cells": [
  {
   "cell_type": "markdown",
   "metadata": {},
   "source": [
    "# Download and store data"
   ]
  },
  {
   "cell_type": "markdown",
   "metadata": {},
   "source": [
    "This notebook contains information on downloading the Quandl Wiki stock prices and a few other sources that we use throughout the book. "
   ]
  },
  {
   "cell_type": "markdown",
   "metadata": {},
   "source": [
    "## Imports & Settings"
   ]
  },
  {
   "cell_type": "code",
   "execution_count": 1,
   "metadata": {
    "ExecuteTime": {
     "end_time": "2020-06-18T14:32:07.092623Z",
     "start_time": "2020-06-18T14:32:07.090885Z"
    }
   },
   "outputs": [],
   "source": [
    "import warnings\n",
    "warnings.filterwarnings('ignore')"
   ]
  },
  {
   "cell_type": "code",
   "execution_count": 2,
   "metadata": {
    "ExecuteTime": {
     "end_time": "2020-06-18T14:32:07.263130Z",
     "start_time": "2020-06-18T14:32:07.259861Z"
    }
   },
   "outputs": [],
   "source": [
    "from pathlib import Path\n",
    "import requests\n",
    "from io import BytesIO\n",
    "from zipfile import ZipFile, BadZipFile\n",
    "\n",
    "import numpy as np\n",
    "import pandas as pd\n",
    "import pandas_datareader.data as web\n",
    "from sklearn.datasets import fetch_openml\n",
    "\n",
    "pd.set_option('display.expand_frame_repr', False)"
   ]
  },
  {
   "cell_type": "markdown",
   "metadata": {},
   "source": [
    "## Set Data Store path"
   ]
  },
  {
   "cell_type": "markdown",
   "metadata": {},
   "source": [
    "Modify path if you would like to store the data elsewhere and change the notebooks accordingly"
   ]
  },
  {
   "cell_type": "code",
   "execution_count": 3,
   "metadata": {
    "ExecuteTime": {
     "end_time": "2020-06-19T02:27:54.832609Z",
     "start_time": "2020-06-19T02:27:54.824778Z"
    }
   },
   "outputs": [],
   "source": [
    "DATA_STORE = Path('assets.h5')"
   ]
  },
  {
   "cell_type": "markdown",
   "metadata": {},
   "source": [
    "## Quandl Wiki Prices"
   ]
  },
  {
   "cell_type": "markdown",
   "metadata": {},
   "source": [
    "> Quandl has been [acuqired by NASDAQ](https://www.nasdaq.com/about/press-center/nasdaq-acquires-quandl-advance-use-alternative-data) in late 2018. In 2021, NASDAQ [integrated Quandl's data platform](https://data.nasdaq.com/). Free US equity data is still available under a [new URL](https://data.nasdaq.com/databases/WIKIP/documentation), subject to the limitations mentioned below.\n",
    "\n",
    "[NASDAQ](https://data.nasdaq.com/) makes available a [dataset](/home/stefan/drive/machine-learning-for-trading/data/create_datasets.ipynb) with stock prices, dividends and splits for 3000 US publicly-traded companies. Prior to its acquisition (April 11, 2018), Quandl announced the end of community support (updates). The historical data are useful as a first step towards demonstrating the application of the machine learning solutions, just ensure you design and test your own algorithms using current, professional-grade data."
   ]
  },
  {
   "cell_type": "markdown",
   "metadata": {},
   "source": [
    "1. Follow the instructions to create a free [NASDAQ account](https://data.nasdaq.com/sign-up)\n",
    "2. [Download](https://data.nasdaq.com/tables/WIKIP/WIKI-PRICES/export) the entire WIKI/PRICES data\n",
    "3. Extract the .zip file,\n",
    "4. Move to this directory and rename to wiki_prices.csv\n",
    "5. Run the below code to store in fast HDF format (see [Chapter 02 on Market & Fundamental Data](../02_market_and_fundamental_data) for details)."
   ]
  },
  {
   "cell_type": "code",
   "execution_count": 4,
   "metadata": {
    "ExecuteTime": {
     "end_time": "2020-06-16T21:38:46.759327Z",
     "start_time": "2020-06-16T21:37:48.398856Z"
    }
   },
   "outputs": [
    {
     "name": "stdout",
     "output_type": "stream",
     "text": [
      "<class 'pandas.core.frame.DataFrame'>\n",
      "MultiIndex: 15389314 entries, (Timestamp('1962-01-02 00:00:00'), 'ARNC') to (Timestamp('2018-03-27 00:00:00'), 'ZUMZ')\n",
      "Data columns (total 12 columns):\n",
      " #   Column       Non-Null Count     Dtype  \n",
      "---  ------       --------------     -----  \n",
      " 0   open         15388776 non-null  float64\n",
      " 1   high         15389259 non-null  float64\n",
      " 2   low          15389259 non-null  float64\n",
      " 3   close        15389313 non-null  float64\n",
      " 4   volume       15389314 non-null  float64\n",
      " 5   ex-dividend  15389314 non-null  float64\n",
      " 6   split_ratio  15389313 non-null  float64\n",
      " 7   adj_open     15388776 non-null  float64\n",
      " 8   adj_high     15389259 non-null  float64\n",
      " 9   adj_low      15389259 non-null  float64\n",
      " 10  adj_close    15389313 non-null  float64\n",
      " 11  adj_volume   15389314 non-null  float64\n",
      "dtypes: float64(12)\n",
      "memory usage: 1.4+ GB\n",
      "None\n"
     ]
    }
   ],
   "source": [
    "df = (pd.read_csv('wiki_prices.csv',\n",
    "                 parse_dates=['date'],\n",
    "                 index_col=['date', 'ticker'],\n",
    "                 infer_datetime_format=True)\n",
    "     .sort_index())\n",
    "\n",
    "print(df.info(show_counts=True, verbose=True))\n",
    "with pd.HDFStore(DATA_STORE) as store:\n",
    "    store.put('quandl/wiki/prices', df)"
   ]
  },
  {
   "cell_type": "code",
   "execution_count": 5,
   "metadata": {},
   "outputs": [
    {
     "name": "stdout",
     "output_type": "stream",
     "text": [
      "<class 'pandas.core.frame.DataFrame'>\n",
      "MultiIndex: 15389314 entries, (Timestamp('1962-01-02 00:00:00'), 'ARNC') to (Timestamp('2018-03-27 00:00:00'), 'ZUMZ')\n",
      "Data columns (total 12 columns):\n",
      " #   Column       Non-Null Count     Dtype  \n",
      "---  ------       --------------     -----  \n",
      " 0   open         15388776 non-null  float64\n",
      " 1   high         15389259 non-null  float64\n",
      " 2   low          15389259 non-null  float64\n",
      " 3   close        15389313 non-null  float64\n",
      " 4   volume       15389314 non-null  float64\n",
      " 5   ex-dividend  15389314 non-null  float64\n",
      " 6   split_ratio  15389313 non-null  float64\n",
      " 7   adj_open     15388776 non-null  float64\n",
      " 8   adj_high     15389259 non-null  float64\n",
      " 9   adj_low      15389259 non-null  float64\n",
      " 10  adj_close    15389313 non-null  float64\n",
      " 11  adj_volume   15389314 non-null  float64\n",
      "dtypes: float64(12)\n",
      "memory usage: 1.4+ GB\n"
     ]
    }
   ],
   "source": [
    "df.info(verbose=True, show_counts=True)"
   ]
  },
  {
   "cell_type": "markdown",
   "metadata": {},
   "source": [
    "### Wiki Prices Metadata"
   ]
  },
  {
   "cell_type": "markdown",
   "metadata": {},
   "source": [
    "> QUANDL used to make some stock meta data be available on its website; I'm making the file available to allow readers to run some examples in the book:\n",
    "\n",
    "Instead of using the QUANDL API, load the file `wiki_stocks.csv` as described and store in HDF5 format."
   ]
  },
  {
   "cell_type": "code",
   "execution_count": 6,
   "metadata": {},
   "outputs": [
    {
     "name": "stdout",
     "output_type": "stream",
     "text": [
      "<class 'pandas.core.frame.DataFrame'>\n",
      "RangeIndex: 3199 entries, 0 to 3198\n",
      "Data columns (total 2 columns):\n",
      " #   Column  Non-Null Count  Dtype \n",
      "---  ------  --------------  ----- \n",
      " 0   code    3199 non-null   object\n",
      " 1   name    3199 non-null   object\n",
      "dtypes: object(2)\n",
      "memory usage: 50.1+ KB\n",
      "None\n"
     ]
    }
   ],
   "source": [
    "df = pd.read_csv('wiki_stocks.csv')\n",
    "# no longer needed\n",
    "# df = pd.concat([df.loc[:, 'code'].str.strip(),\n",
    "#                 df.loc[:, 'name'].str.split('(', expand=True)[0].str.strip().to_frame('name')], axis=1)\n",
    "\n",
    "print(df.info(show_counts=True, verbose=True))\n",
    "with pd.HDFStore(DATA_STORE) as store:\n",
    "    store.put('quandl/wiki/stocks', df)"
   ]
  },
  {
   "cell_type": "markdown",
   "metadata": {},
   "source": [
    "## S&P 500 Prices"
   ]
  },
  {
   "cell_type": "markdown",
   "metadata": {},
   "source": [
    "The following code downloads historical S&P 500 prices from FRED (only last 10 years of daily data is freely available)"
   ]
  },
  {
   "cell_type": "code",
   "execution_count": 7,
   "metadata": {},
   "outputs": [
    {
     "name": "stdout",
     "output_type": "stream",
     "text": [
      "<class 'pandas.core.frame.DataFrame'>\n",
      "DatetimeIndex: 2608 entries, 2013-10-11 to 2023-10-10\n",
      "Data columns (total 1 columns):\n",
      " #   Column  Non-Null Count  Dtype  \n",
      "---  ------  --------------  -----  \n",
      " 0   close   2516 non-null   float64\n",
      "dtypes: float64(1)\n",
      "memory usage: 40.8 KB\n",
      "None\n"
     ]
    }
   ],
   "source": [
    "df = web.DataReader(name='SP500', data_source='fred', start=2009).squeeze().to_frame('close')\n",
    "print(df.info())\n",
    "with pd.HDFStore(DATA_STORE) as store:\n",
    "    store.put('sp500/fred', df)"
   ]
  },
  {
   "cell_type": "markdown",
   "metadata": {},
   "source": [
    "Alternatively, download S&P500 data from [stooq.com](https://stooq.com/q/?s=%5Espx&c=1d&t=l&a=lg&b=0); at the time of writing the data was available since 1789. You can switch from Polish to English on the lower right-hand side.\n",
    "\n",
    "We store the data from 1950-2020:"
   ]
  },
  {
   "cell_type": "code",
   "execution_count": 8,
   "metadata": {
    "ExecuteTime": {
     "end_time": "2020-06-16T21:42:08.524471Z",
     "start_time": "2020-06-16T21:42:08.415664Z"
    }
   },
   "outputs": [
    {
     "name": "stdout",
     "output_type": "stream",
     "text": [
      "<class 'pandas.core.frame.DataFrame'>\n",
      "DatetimeIndex: 17700 entries, 1950-01-03 to 2019-12-31\n",
      "Data columns (total 5 columns):\n",
      " #   Column  Non-Null Count  Dtype  \n",
      "---  ------  --------------  -----  \n",
      " 0   open    17700 non-null  float64\n",
      " 1   high    17700 non-null  float64\n",
      " 2   low     17700 non-null  float64\n",
      " 3   close   17700 non-null  float64\n",
      " 4   volume  17700 non-null  float64\n",
      "dtypes: float64(5)\n",
      "memory usage: 829.7 KB\n",
      "None\n"
     ]
    }
   ],
   "source": [
    "sp500_stooq = (pd.read_csv('^spx_d.csv', index_col=0,\n",
    "                     parse_dates=True).loc['1950':'2019'].rename(columns=str.lower))\n",
    "print(sp500_stooq.info())"
   ]
  },
  {
   "cell_type": "code",
   "execution_count": 9,
   "metadata": {
    "ExecuteTime": {
     "end_time": "2020-06-16T21:42:09.567451Z",
     "start_time": "2020-06-16T21:42:09.556832Z"
    }
   },
   "outputs": [],
   "source": [
    "with pd.HDFStore(DATA_STORE) as store:\n",
    "    store.put('sp500/stooq', sp500_stooq)"
   ]
  },
  {
   "cell_type": "markdown",
   "metadata": {},
   "source": [
    "### S&P 500 Constituents"
   ]
  },
  {
   "cell_type": "markdown",
   "metadata": {},
   "source": [
    "The following code downloads the current S&P 500 constituents from [Wikipedia](https://en.wikipedia.org/wiki/List_of_S%26P_500_companies)."
   ]
  },
  {
   "cell_type": "code",
   "execution_count": 11,
   "metadata": {
    "ExecuteTime": {
     "end_time": "2020-06-17T10:50:19.998830Z",
     "start_time": "2020-06-17T10:50:18.784120Z"
    }
   },
   "outputs": [],
   "source": [
    "url = 'https://en.wikipedia.org/wiki/List_of_S%26P_500_companies'\n",
    "df = pd.read_html(url, header=0)[0]"
   ]
  },
  {
   "cell_type": "code",
   "execution_count": 12,
   "metadata": {
    "ExecuteTime": {
     "end_time": "2020-06-17T10:50:21.745331Z",
     "start_time": "2020-06-17T10:50:21.724637Z"
    }
   },
   "outputs": [
    {
     "data": {
      "text/html": [
       "<div>\n",
       "<style scoped>\n",
       "    .dataframe tbody tr th:only-of-type {\n",
       "        vertical-align: middle;\n",
       "    }\n",
       "\n",
       "    .dataframe tbody tr th {\n",
       "        vertical-align: top;\n",
       "    }\n",
       "\n",
       "    .dataframe thead th {\n",
       "        text-align: right;\n",
       "    }\n",
       "</style>\n",
       "<table border=\"1\" class=\"dataframe\">\n",
       "  <thead>\n",
       "    <tr style=\"text-align: right;\">\n",
       "      <th></th>\n",
       "      <th>Symbol</th>\n",
       "      <th>Security</th>\n",
       "      <th>GICS Sector</th>\n",
       "      <th>GICS Sub-Industry</th>\n",
       "      <th>Headquarters Location</th>\n",
       "      <th>Date added</th>\n",
       "      <th>CIK</th>\n",
       "      <th>Founded</th>\n",
       "    </tr>\n",
       "  </thead>\n",
       "  <tbody>\n",
       "    <tr>\n",
       "      <th>0</th>\n",
       "      <td>MMM</td>\n",
       "      <td>3M</td>\n",
       "      <td>Industrials</td>\n",
       "      <td>Industrial Conglomerates</td>\n",
       "      <td>Saint Paul, Minnesota</td>\n",
       "      <td>1957-03-04</td>\n",
       "      <td>66740</td>\n",
       "      <td>1902</td>\n",
       "    </tr>\n",
       "    <tr>\n",
       "      <th>1</th>\n",
       "      <td>AOS</td>\n",
       "      <td>A. O. Smith</td>\n",
       "      <td>Industrials</td>\n",
       "      <td>Building Products</td>\n",
       "      <td>Milwaukee, Wisconsin</td>\n",
       "      <td>2017-07-26</td>\n",
       "      <td>91142</td>\n",
       "      <td>1916</td>\n",
       "    </tr>\n",
       "    <tr>\n",
       "      <th>2</th>\n",
       "      <td>ABT</td>\n",
       "      <td>Abbott</td>\n",
       "      <td>Health Care</td>\n",
       "      <td>Health Care Equipment</td>\n",
       "      <td>North Chicago, Illinois</td>\n",
       "      <td>1957-03-04</td>\n",
       "      <td>1800</td>\n",
       "      <td>1888</td>\n",
       "    </tr>\n",
       "    <tr>\n",
       "      <th>3</th>\n",
       "      <td>ABBV</td>\n",
       "      <td>AbbVie</td>\n",
       "      <td>Health Care</td>\n",
       "      <td>Pharmaceuticals</td>\n",
       "      <td>North Chicago, Illinois</td>\n",
       "      <td>2012-12-31</td>\n",
       "      <td>1551152</td>\n",
       "      <td>2013 (1888)</td>\n",
       "    </tr>\n",
       "    <tr>\n",
       "      <th>4</th>\n",
       "      <td>ACN</td>\n",
       "      <td>Accenture</td>\n",
       "      <td>Information Technology</td>\n",
       "      <td>IT Consulting &amp; Other Services</td>\n",
       "      <td>Dublin, Ireland</td>\n",
       "      <td>2011-07-06</td>\n",
       "      <td>1467373</td>\n",
       "      <td>1989</td>\n",
       "    </tr>\n",
       "  </tbody>\n",
       "</table>\n",
       "</div>"
      ],
      "text/plain": [
       "  Symbol     Security             GICS Sector               GICS Sub-Industry    Headquarters Location  Date added      CIK      Founded\n",
       "0    MMM           3M             Industrials        Industrial Conglomerates    Saint Paul, Minnesota  1957-03-04    66740         1902\n",
       "1    AOS  A. O. Smith             Industrials               Building Products     Milwaukee, Wisconsin  2017-07-26    91142         1916\n",
       "2    ABT       Abbott             Health Care           Health Care Equipment  North Chicago, Illinois  1957-03-04     1800         1888\n",
       "3   ABBV       AbbVie             Health Care                 Pharmaceuticals  North Chicago, Illinois  2012-12-31  1551152  2013 (1888)\n",
       "4    ACN    Accenture  Information Technology  IT Consulting & Other Services          Dublin, Ireland  2011-07-06  1467373         1989"
      ]
     },
     "execution_count": 12,
     "metadata": {},
     "output_type": "execute_result"
    }
   ],
   "source": [
    "df.head()"
   ]
  },
  {
   "cell_type": "code",
   "execution_count": 13,
   "metadata": {
    "ExecuteTime": {
     "end_time": "2020-06-17T10:51:06.628859Z",
     "start_time": "2020-06-17T10:51:06.621125Z"
    }
   },
   "outputs": [],
   "source": [
    "df.columns = ['ticker', 'sec_filings', 'gics_sector', 'gics_sub_industry',\n",
    "              'location', 'first_added', 'cik', 'founded']\n",
    "df = df.drop('sec_filings', axis=1).set_index('ticker')"
   ]
  },
  {
   "cell_type": "code",
   "execution_count": 14,
   "metadata": {
    "ExecuteTime": {
     "end_time": "2020-06-17T10:51:14.523579Z",
     "start_time": "2020-06-17T10:51:14.515004Z"
    }
   },
   "outputs": [
    {
     "name": "stdout",
     "output_type": "stream",
     "text": [
      "<class 'pandas.core.frame.DataFrame'>\n",
      "Index: 503 entries, MMM to ZTS\n",
      "Data columns (total 6 columns):\n",
      " #   Column             Non-Null Count  Dtype \n",
      "---  ------             --------------  ----- \n",
      " 0   gics_sector        503 non-null    object\n",
      " 1   gics_sub_industry  502 non-null    object\n",
      " 2   location           503 non-null    object\n",
      " 3   first_added        493 non-null    object\n",
      " 4   cik                503 non-null    int64 \n",
      " 5   founded            503 non-null    object\n",
      "dtypes: int64(1), object(5)\n",
      "memory usage: 27.5+ KB\n",
      "None\n"
     ]
    }
   ],
   "source": [
    "print(df.info())"
   ]
  },
  {
   "cell_type": "code",
   "execution_count": 15,
   "metadata": {
    "ExecuteTime": {
     "end_time": "2020-06-17T10:51:17.814771Z",
     "start_time": "2020-06-17T10:51:17.788608Z"
    }
   },
   "outputs": [],
   "source": [
    "with pd.HDFStore(DATA_STORE) as store:\n",
    "    store.put('sp500/stocks', df)"
   ]
  },
  {
   "cell_type": "markdown",
   "metadata": {},
   "source": [
    "## Metadata on US-traded companies"
   ]
  },
  {
   "cell_type": "markdown",
   "metadata": {},
   "source": [
    "The following downloads several attributes for [companies](https://www.nasdaq.com/screening/companies-by-name.aspx) traded on NASDAQ, AMEX and NYSE\n",
    "\n",
    "> Update: unfortunately, NASDAQ has disabled automatic downloads. However, you can still access and manually download the files at the below URL when you fill in the exchange names. So for AMEX, URL becomes `https://www.nasdaq.com/market-activity/stocks/screener?exchange=AMEX&letter=0&render=download`.\n",
    ">"
   ]
  },
  {
   "cell_type": "code",
   "execution_count": 16,
   "metadata": {},
   "outputs": [
    {
     "name": "stdout",
     "output_type": "stream",
     "text": [
      "<class 'pandas.core.frame.DataFrame'>\n",
      "Index: 7400 entries, AACG to ZWS\n",
      "Data columns (total 10 columns):\n",
      " #   Column      Non-Null Count  Dtype  \n",
      "---  ------      --------------  -----  \n",
      " 0   name        7400 non-null   object \n",
      " 1   last sale   7400 non-null   object \n",
      " 2   net change  7400 non-null   float64\n",
      " 3   % change    7396 non-null   object \n",
      " 4   marketcap   6973 non-null   float64\n",
      " 5   country     7001 non-null   object \n",
      " 6   ipo year    4248 non-null   float64\n",
      " 7   volume      7400 non-null   int64  \n",
      " 8   sector      6740 non-null   object \n",
      " 9   industry    6740 non-null   object \n",
      "dtypes: float64(3), int64(1), object(6)\n",
      "memory usage: 894.0+ KB\n",
      "None\n"
     ]
    }
   ],
   "source": [
    "# no longer works!\n",
    "url = 'https://old.nasdaq.com/screening/companies-by-name.aspx?letter=0&exchange={}&render=download'\n",
    "exchanges = ['NASDAQ', 'AMEX', 'NYSE']\n",
    "# 原始代码已无法工作, 需要手动下载\n",
    "# df = pd.concat([pd.read_csv(url.format(ex)) for ex in exchanges]).dropna(how='all', axis=1)\n",
    "fn = \"companies_{}.csv\"\n",
    "df = pd.concat([pd.read_csv(fn.format(ex)) for ex in exchanges]).dropna(how='all', axis=1)\n",
    "df = df.rename(columns=str.lower).rename(columns={\"market cap\": \"marketcap\"}).set_index('symbol')\n",
    "df = df[~df.index.duplicated()]\n",
    "print(df.info()) "
   ]
  },
  {
   "cell_type": "code",
   "execution_count": 17,
   "metadata": {},
   "outputs": [
    {
     "name": "stdout",
     "output_type": "stream",
     "text": [
      "<class 'pandas.core.series.Series'>\n",
      "Index: 7400 entries, AACG to ZWS\n",
      "Series name: marketcap\n",
      "Non-Null Count  Dtype  \n",
      "--------------  -----  \n",
      "6973 non-null   float64\n",
      "dtypes: float64(1)\n",
      "memory usage: 373.7+ KB\n"
     ]
    }
   ],
   "source": [
    "df['marketcap'].info()"
   ]
  },
  {
   "cell_type": "markdown",
   "metadata": {},
   "source": [
    "### Convert market cap information to numerical format"
   ]
  },
  {
   "cell_type": "markdown",
   "metadata": {},
   "source": [
    "Market cap is provided as strings so we need to convert it to numerical format."
   ]
  },
  {
   "cell_type": "code",
   "execution_count": 18,
   "metadata": {},
   "outputs": [],
   "source": [
    "# most of this operation is no longer necessary in new data format\n",
    "mcap = df[['marketcap']].dropna()\n",
    "# mcap['suffix'] = mcap.marketcap.str[-1]\n",
    "# mcap.suffix.value_counts()"
   ]
  },
  {
   "cell_type": "markdown",
   "metadata": {},
   "source": [
    "Keep only values with value units:"
   ]
  },
  {
   "cell_type": "code",
   "execution_count": 19,
   "metadata": {},
   "outputs": [
    {
     "name": "stdout",
     "output_type": "stream",
     "text": [
      "<class 'pandas.core.frame.DataFrame'>\n",
      "Index: 6973 entries, AACG to ZWS\n",
      "Data columns (total 1 columns):\n",
      " #   Column     Non-Null Count  Dtype  \n",
      "---  ------     --------------  -----  \n",
      " 0   marketcap  6973 non-null   float64\n",
      "dtypes: float64(1)\n",
      "memory usage: 109.0+ KB\n"
     ]
    }
   ],
   "source": [
    "# mcap = mcap[mcap.suffix.str.endswith(('B', 'M'))]\n",
    "# mcap.marketcap = pd.to_numeric(mcap.marketcap.str[1:-1])\n",
    "# mcaps = {'M': 1e6, 'B': 1e9}\n",
    "# for symbol, factor in mcaps.items():\n",
    "#     mcap.loc[mcap.suffix == symbol, 'marketcap'] *= factor\n",
    "mcap.info()"
   ]
  },
  {
   "cell_type": "code",
   "execution_count": 20,
   "metadata": {},
   "outputs": [
    {
     "data": {
      "text/plain": [
       "count                6,973\n",
       "mean         8,778,866,865\n",
       "std         64,981,915,673\n",
       "min                      0\n",
       "10%                      0\n",
       "20%              9,611,545\n",
       "30%             46,092,730\n",
       "40%            141,625,643\n",
       "50%            329,728,000\n",
       "60%            760,771,356\n",
       "70%          1,609,940,311\n",
       "80%          3,829,039,582\n",
       "90%         12,315,280,961\n",
       "max      2,727,313,601,240\n",
       "Name: marketcap, dtype: object"
      ]
     },
     "execution_count": 20,
     "metadata": {},
     "output_type": "execute_result"
    }
   ],
   "source": [
    "df['marketcap'] = mcap.marketcap\n",
    "df.marketcap.describe(percentiles=np.arange(.1, 1, .1).round(1)).apply(lambda x: f'{int(x):,d}')"
   ]
  },
  {
   "cell_type": "markdown",
   "metadata": {},
   "source": [
    "### Store result"
   ]
  },
  {
   "cell_type": "markdown",
   "metadata": {},
   "source": [
    "The file `us_equities_meta_data.csv` contains a version of the data used for many of the examples. Load using \n",
    "```\n",
    "df = pd.read_csv('us_equities_meta_data.csv')\n",
    "```\n",
    "and proceed to store in HDF5 format."
   ]
  },
  {
   "cell_type": "code",
   "execution_count": 21,
   "metadata": {
    "ExecuteTime": {
     "end_time": "2020-06-16T21:35:00.910722Z",
     "start_time": "2020-06-16T21:35:00.862761Z"
    }
   },
   "outputs": [
    {
     "name": "stdout",
     "output_type": "stream",
     "text": [
      "<class 'pandas.core.frame.DataFrame'>\n",
      "RangeIndex: 6834 entries, 0 to 6833\n",
      "Data columns (total 7 columns):\n",
      " #   Column     Non-Null Count  Dtype  \n",
      "---  ------     --------------  -----  \n",
      " 0   ticker     6834 non-null   object \n",
      " 1   name       6834 non-null   object \n",
      " 2   lastsale   6718 non-null   float64\n",
      " 3   marketcap  5766 non-null   float64\n",
      " 4   ipoyear    3038 non-null   float64\n",
      " 5   sector     5288 non-null   object \n",
      " 6   industry   5288 non-null   object \n",
      "dtypes: float64(3), object(4)\n",
      "memory usage: 373.9+ KB\n"
     ]
    }
   ],
   "source": [
    "df = pd.read_csv('us_equities_meta_data.csv')\n",
    "df.info()"
   ]
  },
  {
   "cell_type": "code",
   "execution_count": 22,
   "metadata": {
    "ExecuteTime": {
     "end_time": "2020-06-16T21:35:22.388412Z",
     "start_time": "2020-06-16T21:35:22.356828Z"
    }
   },
   "outputs": [],
   "source": [
    "with pd.HDFStore(DATA_STORE) as store:\n",
    "    store.put('us_equities/stocks', df.set_index('ticker'))"
   ]
  },
  {
   "cell_type": "code",
   "execution_count": 23,
   "metadata": {},
   "outputs": [
    {
     "name": "stdout",
     "output_type": "stream",
     "text": [
      "['/engineered_features', '/model_data', '/us_equities/stocks', '/sp500/fred', '/sp500/stocks', '/sp500/stooq', '/quandl/wiki/prices', '/quandl/wiki/stocks']\n"
     ]
    }
   ],
   "source": [
    "with pd.HDFStore(DATA_STORE) as store:\n",
    "    print(store.keys())"
   ]
  },
  {
   "cell_type": "markdown",
   "metadata": {},
   "source": [
    "## MNIST Data"
   ]
  },
  {
   "cell_type": "code",
   "execution_count": 24,
   "metadata": {
    "ExecuteTime": {
     "end_time": "2020-06-18T17:19:11.720146Z",
     "start_time": "2020-06-18T17:18:53.948739Z"
    }
   },
   "outputs": [],
   "source": [
    "mnist = fetch_openml('mnist_784', version=1)"
   ]
  },
  {
   "cell_type": "code",
   "execution_count": 25,
   "metadata": {
    "ExecuteTime": {
     "end_time": "2020-06-18T17:19:11.723222Z",
     "start_time": "2020-06-18T17:19:11.721079Z"
    }
   },
   "outputs": [
    {
     "name": "stdout",
     "output_type": "stream",
     "text": [
      "**Author**: Yann LeCun, Corinna Cortes, Christopher J.C. Burges  \n",
      "**Source**: [MNIST Website](http://yann.lecun.com/exdb/mnist/) - Date unknown  \n",
      "**Please cite**:  \n",
      "\n",
      "The MNIST database of handwritten digits with 784 features, raw data available at: http://yann.lecun.com/exdb/mnist/. It can be split in a training set of the first 60,000 examples, and a test set of 10,000 examples  \n",
      "\n",
      "It is a subset of a larger set available from NIST. The digits have been size-normalized and centered in a fixed-size image. It is a good database for people who want to try learning techniques and pattern recognition methods on real-world data while spending minimal efforts on preprocessing and formatting. The original black and white (bilevel) images from NIST were size normalized to fit in a 20x20 pixel box while preserving their aspect ratio. The resulting images contain grey levels as a result of the anti-aliasing technique used by the normalization algorithm. the images were centered in a 28x28 image by computing the center of mass of the pixels, and translating the image so as to position this point at the center of the 28x28 field.  \n",
      "\n",
      "With some classification methods (particularly template-based methods, such as SVM and K-nearest neighbors), the error rate improves when the digits are centered by bounding box rather than center of mass. If you do this kind of pre-processing, you should report it in your publications. The MNIST database was constructed from NIST's NIST originally designated SD-3 as their training set and SD-1 as their test set. However, SD-3 is much cleaner and easier to recognize than SD-1. The reason for this can be found on the fact that SD-3 was collected among Census Bureau employees, while SD-1 was collected among high-school students. Drawing sensible conclusions from learning experiments requires that the result be independent of the choice of training set and test among the complete set of samples. Therefore it was necessary to build a new database by mixing NIST's datasets.  \n",
      "\n",
      "The MNIST training set is composed of 30,000 patterns from SD-3 and 30,000 patterns from SD-1. Our test set was composed of 5,000 patterns from SD-3 and 5,000 patterns from SD-1. The 60,000 pattern training set contained examples from approximately 250 writers. We made sure that the sets of writers of the training set and test set were disjoint. SD-1 contains 58,527 digit images written by 500 different writers. In contrast to SD-3, where blocks of data from each writer appeared in sequence, the data in SD-1 is scrambled. Writer identities for SD-1 is available and we used this information to unscramble the writers. We then split SD-1 in two: characters written by the first 250 writers went into our new training set. The remaining 250 writers were placed in our test set. Thus we had two sets with nearly 30,000 examples each. The new training set was completed with enough examples from SD-3, starting at pattern # 0, to make a full set of 60,000 training patterns. Similarly, the new test set was completed with SD-3 examples starting at pattern # 35,000 to make a full set with 60,000 test patterns. Only a subset of 10,000 test images (5,000 from SD-1 and 5,000 from SD-3) is available on this site. The full 60,000 sample training set is available.\n",
      "\n",
      "Downloaded from openml.org.\n"
     ]
    }
   ],
   "source": [
    "print(mnist.DESCR)"
   ]
  },
  {
   "cell_type": "code",
   "execution_count": 26,
   "metadata": {
    "ExecuteTime": {
     "end_time": "2020-06-18T17:19:21.823457Z",
     "start_time": "2020-06-18T17:19:21.815369Z"
    }
   },
   "outputs": [
    {
     "data": {
      "text/plain": [
       "dict_keys(['data', 'target', 'frame', 'categories', 'feature_names', 'target_names', 'DESCR', 'details', 'url'])"
      ]
     },
     "execution_count": 26,
     "metadata": {},
     "output_type": "execute_result"
    }
   ],
   "source": [
    "mnist.keys()"
   ]
  },
  {
   "cell_type": "code",
   "execution_count": 27,
   "metadata": {
    "ExecuteTime": {
     "end_time": "2020-06-18T17:19:59.989715Z",
     "start_time": "2020-06-18T17:19:59.983320Z"
    }
   },
   "outputs": [],
   "source": [
    "mnist_path = Path('mnist')\n",
    "if not mnist_path.exists():\n",
    "    mnist_path.mkdir()"
   ]
  },
  {
   "cell_type": "code",
   "execution_count": 28,
   "metadata": {
    "ExecuteTime": {
     "end_time": "2020-06-18T17:20:25.489271Z",
     "start_time": "2020-06-18T17:20:25.418621Z"
    }
   },
   "outputs": [],
   "source": [
    "np.save(mnist_path / 'data', mnist.data.astype(np.uint8))\n",
    "np.save(mnist_path / 'labels', mnist.target.astype(np.uint8))"
   ]
  },
  {
   "cell_type": "markdown",
   "metadata": {},
   "source": [
    "## Fashion MNIST Image Data"
   ]
  },
  {
   "cell_type": "markdown",
   "metadata": {},
   "source": [
    "We will use the Fashion MNIST image data created by [Zalando Research](https://github.com/zalandoresearch/fashion-mnist) for some demonstrations."
   ]
  },
  {
   "cell_type": "code",
   "execution_count": 29,
   "metadata": {
    "ExecuteTime": {
     "end_time": "2020-06-18T14:42:51.598398Z",
     "start_time": "2020-06-18T14:42:38.233167Z"
    }
   },
   "outputs": [],
   "source": [
    "fashion_mnist = fetch_openml(name='Fashion-MNIST')"
   ]
  },
  {
   "cell_type": "code",
   "execution_count": 30,
   "metadata": {
    "ExecuteTime": {
     "end_time": "2020-06-18T14:42:51.604464Z",
     "start_time": "2020-06-18T14:42:51.599373Z"
    }
   },
   "outputs": [
    {
     "name": "stdout",
     "output_type": "stream",
     "text": [
      "**Author**: Han Xiao, Kashif Rasul, Roland Vollgraf  \n",
      "**Source**: [Zalando Research](https://github.com/zalandoresearch/fashion-mnist)  \n",
      "**Please cite**: Han Xiao and Kashif Rasul and Roland Vollgraf, Fashion-MNIST: a Novel Image Dataset for Benchmarking Machine Learning Algorithms, arXiv, cs.LG/1708.07747  \n",
      "\n",
      "Fashion-MNIST is a dataset of Zalando's article images, consisting of a training set of 60,000 examples and a test set of 10,000 examples. Each example is a 28x28 grayscale image, associated with a label from 10 classes. Fashion-MNIST is intended to serve as a direct drop-in replacement for the original MNIST dataset for benchmarking machine learning algorithms. It shares the same image size and structure of training and testing splits. \n",
      "\n",
      "Raw data available at: https://github.com/zalandoresearch/fashion-mnist\n",
      "\n",
      "### Target classes\n",
      "Each training and test example is assigned to one of the following labels:\n",
      "Label  Description  \n",
      "0  T-shirt/top  \n",
      "1  Trouser  \n",
      "2  Pullover  \n",
      "3  Dress  \n",
      "4  Coat  \n",
      "5  Sandal  \n",
      "6  Shirt  \n",
      "7  Sneaker  \n",
      "8  Bag  \n",
      "9  Ankle boot\n",
      "\n",
      "Downloaded from openml.org.\n"
     ]
    }
   ],
   "source": [
    "print(fashion_mnist.DESCR)"
   ]
  },
  {
   "cell_type": "code",
   "execution_count": 31,
   "metadata": {
    "ExecuteTime": {
     "end_time": "2020-06-18T15:14:10.969125Z",
     "start_time": "2020-06-18T15:14:10.960466Z"
    }
   },
   "outputs": [],
   "source": [
    "label_dict = {0: 'T-shirt/top',\n",
    "              1: 'Trouser',\n",
    "              2: 'Pullover',\n",
    "              3: 'Dress',\n",
    "              4: 'Coat',\n",
    "              5: 'Sandal',\n",
    "              6: 'Shirt',\n",
    "              7: 'Sneaker',\n",
    "              8: 'Bag',\n",
    "              9: 'Ankle boot'}"
   ]
  },
  {
   "cell_type": "code",
   "execution_count": 32,
   "metadata": {
    "ExecuteTime": {
     "end_time": "2020-06-18T15:14:11.293906Z",
     "start_time": "2020-06-18T15:14:11.290279Z"
    }
   },
   "outputs": [],
   "source": [
    "fashion_path = Path('fashion_mnist')\n",
    "if not fashion_path.exists():\n",
    "    fashion_path.mkdir()"
   ]
  },
  {
   "cell_type": "code",
   "execution_count": 33,
   "metadata": {
    "ExecuteTime": {
     "end_time": "2020-06-18T15:14:11.941092Z",
     "start_time": "2020-06-18T15:14:11.926416Z"
    }
   },
   "outputs": [],
   "source": [
    "pd.Series(label_dict).to_csv(fashion_path / 'label_dict.csv', index=False, header=None)"
   ]
  },
  {
   "cell_type": "code",
   "execution_count": 34,
   "metadata": {
    "ExecuteTime": {
     "end_time": "2020-06-18T14:45:50.376114Z",
     "start_time": "2020-06-18T14:45:50.301028Z"
    }
   },
   "outputs": [],
   "source": [
    "np.save(fashion_path / 'data', fashion_mnist.data.astype(np.uint8))\n",
    "np.save(fashion_path / 'labels', fashion_mnist.target.astype(np.uint8))\n"
   ]
  },
  {
   "cell_type": "markdown",
   "metadata": {},
   "source": [
    "## Bond Price Indexes"
   ]
  },
  {
   "cell_type": "markdown",
   "metadata": {},
   "source": [
    "The following code downloads several bond indexes from the Federal Reserve Economic Data service ([FRED](https://fred.stlouisfed.org/))"
   ]
  },
  {
   "cell_type": "markdown",
   "metadata": {},
   "source": [
    "> Warning: Unfortunately, most of this data has been [recently removed](https://news.research.stlouisfed.org/2022/01/ice-benchmark-administration-ltd-iba-data-to-be-removed-from-fred/) from the FRED service. It is not important for the examples in the book, so you can just ignore this."
   ]
  },
  {
   "cell_type": "code",
   "execution_count": 35,
   "metadata": {},
   "outputs": [
    {
     "ename": "RemoteDataError",
     "evalue": "Unable to read URL: https://fred.stlouisfed.org/graph/fredgraph.csv?id=GOLDAMGBD228NLBM\nResponse Text:\nb'<!DOCTYPE html>\\r\\n<html lang=\"en\">\\r\\n<head>\\r\\n    <meta charset=\"utf-8\">\\r\\n    <meta http-equiv=\"X-UA-Compatible\" content=\"IE=edge\">\\r\\n    <meta name=\"viewport\" content=\"width=device-width, initial-scale=1\">\\r\\n    <title>Error - St. Louis Fed</title>\\r\\n    <meta name=\"description\" content=\"\">\\r\\n    <meta name=\"keywords\" content=\"\">    \\r\\n    <link rel=\"stylesheet\" type=\"text/css\" href=\"/assets/bootstrap/dist/css/bootstrap.min.css\">\\r\\n    <link rel=\"stylesheet\" type=\"text/css\" href=\"/css/home.min.css?1553087253\">\\r\\n    <link rel=\"stylesheet\" type=\"text/css\" href=\"/assets/fontawesome-free/css/all.min.css\">\\r\\n    <link rel=\"stylesheet\" type=\"text/css\" href=\"/assets/select2/dist/css/select2.min.css\">\\r\\n    <style>p {\\r\\n        margin-bottom: 1.5em;\\r\\n    }</style>\\r\\n</head>\\r\\n<body>\\r\\n<link rel=\"preconnect\" href=\"https://fonts.gstatic.com\">\\n<link href=\"https://fonts.googleapis.com/css2?family=Roboto&display=swap\" rel=\"stylesheet\">\\n<link href=\"https://fonts.googleapis.com/css2?family=Roboto+Slab&display=swap\" rel=\"stylesheet\">\\n<!--googleoff: snippet-->\\n<a href=\"#content-container\" class=\"skip-to\">Skip to main content</a>\\n<!--googleon: snippet-->\\n<a name=\"top\" id=\"top\"></a>\\n<div id=\"container\" class=\"container\">\\n    <header style=\"display:block;height:auto;background:inherit;\">\\n        <h1 class=\"visually-hidden\">Federal Reserve Economic Data: Your trusted data source since 1991</h1>\\n        <nav class=\"navbar navbar-expand-lg header-not-home py-0 EL-nonhomepage-header EL-header-and-subheader\">\\n            <div id=\"hidden-user\" class=\\'hide\\'></div>\\n            <div id=\"action-modal\"></div>\\n            <div class=\"container-fluid align-items-stretch gx-0\">\\n                <div class=\"col-3\" style=\"padding-left: 15px; padding-right: 15px;\">\\n                    <a class=\"research-logo-gtm\" target=\"_\" href=\"//research.stlouisfed.org/\">\\n                        <img class=\"header-logo-eagle d-none d-lg-block\" src=\"//fred.stlouisfed.org/images/masthead-no-bank.png\" alt=\"Eagle Economic Research Logo\">\\n                        <img class=\"header-logo-eagle d-lg-none\" src=\"//fred.stlouisfed.org/images/logo-eagle.png\" alt=\"Eagle Logo\">\\n                    </a>\\n                </div>\\n                <div class=\"fred-logo-div col-6 d-lg-none\">\\n                    <a class=\"fred-logo-gtm\" href=\"//fred.stlouisfed.org/\">\\n                        <picture>\\n                            <img class=\"header-logo\" src=\"//fred.stlouisfed.org/images/fred-masthead-mobile-2x.png\" alt=\"mini fred logo\">\\n                        </picture>\\n                    </a>\\n                </div>\\n                <div class=\"col-lg-8 col-3 d-flex justify-content-end\" style=\"padding-left: 15px; padding-right: 0px;\">\\n                    <nav id=\"blueheader-navbar-nav\" style=\"height:100%s\">\\n                        <ul id=\"blueheader-navbar\" class=\"nav float-end\">\\n                            <li class=\"blueheader-navbar-item center-content-vertically d-none d-lg-block\">\\n                                <span id=\"research-resources-popover-container\" class=\"research-resources-dropdown-gtm header-popover research-resources-popover-container\">\\n    <span id=\"research-resources-link\" data-toggle=\"popover\" class=\"align-icon\" tabindex=\"0\" style=\"cursor: pointer\">Economic Research Resources\\n        <i class=\"fas fa-angle-down fa-lg header-icon-padding\" alt=\"Open Research Resources Menu Icon\"></i>\\n    </span>\\n</span>\\n\\n<div class=\"hide\">\\n    <div id=\"research-resources-popover\">\\n        <div class=\"container research-resources\" style=\"padding: 7px 25px 0px 25px;\">\\n            <div class=\"row\">\\n                <div class=\"col-7 research-resources-left-column\">\\n                    <div class=\"research-resources-text\">Explore resources provided by the Research Division at the Federal Reserve Bank of St. Louis</div>\\n                    <div>\\n                        <a rel=\"noopener\" target=\"_blank\" class=\"errd-research-link-gtm\" href=\"https://research.stlouisfed.org\" style=\"color: #364E71; font-family: Roboto; font-weight: 700px\">research.stlouisfed.org <i class=\"fas fa-external-link-alt\" aria-hidden=\"true\" style=\"font-size: 12px\"></i></a>\\n                    </div>\\n                </div>\\n                <div class=\"col-5 research-resources-right-column\">\\n                    <ul class=\"header-list-popover list-group flush-list\">\\n                        <li class=\"list-group-item\">\\n                            <a rel=\"noopener\" target=\"_blank\" class=\"errd-research-news-gtm\" href=\"https://research.stlouisfed.org/publications/research-news/\">Research News</a>\\n                        </li>\\n                        <li class=\"list-group-item\">\\n                            <a rel=\"noopener\" target=\"_blank\" class=\"errd-economists-gtm\" href=\"https://research.stlouisfed.org/econ/\">Economists</a>\\n                        </li>\\n                        <li class=\"list-group-item\">\\n                            <a rel=\"noopener\" target=\"_blank\" class=\"errd-publications-gtm\"  href=\"https://research.stlouisfed.org/publications/\">Publications</a>\\n                        </li>\\n                        <li class=\"list-group-item\">\\n                            <a rel=\"noopener\" target=\"_blank\" class=\"errd-working-papers-gtm\" href=\"https://research.stlouisfed.org/wp/\">Working Papers</a>\\n                        </li>\\n                        <li class=\"list-group-item\">\\n                            <a rel=\"noopener\" target=\"_blank\" class=\"errd-info-services-gtm\" href=\"https://research.stlouisfed.org/info-services.html\">Information Services</a>\\n                        </li>\\n                    </ul>\\n                </div>\\n            </div>\\n        </div>\\n    </div>\\n</div>                            </li>\\n                            <li class=\"blueheader-navbar-item center-content-vertically d-none d-lg-block\">\\n                                <span id=\"switchprod-popover-container\" class=\"Switch-Products-gtm header-popover switchprod-popover-container\">\\n  <span id=\"switchProd\" data-toggle=\"popover\" data-toggle=\"popover\" class=\"align-icon\" tabindex=\"0\" style=\"cursor: pointer\"> Switch Products\\n    <i class=\"fas fa-angle-down fa-lg header-icon-padding\" alt=\"Open Switch Products Menu Icon\"></i>\\n  </span>\\n</span>\\n\\n<div class=\"hide\">\\n  <div id=\"switchprod-popover\">\\n    <ul id=\"switch-prod-list\" class=\"list-group switch-products-list\" role=\"menu\" aria-labelledby=\"switchProduct\">\\n    <li id=\"ham-fred-dev\" class=\"list-group-item product-fred\">\\n        <a class=\"d-flex burger-fred-gtm\" role=\"menuitem\" href=\"//fred.stlouisfed.org\">\\n            <span class=\"w-100 fred-ultra-selected fred-ultra burger-fred-gtm\">FRED</span>\\n            <span class=\"flex-shrink-1 float-end switch-icon-padding burger-fred-gtm\"><img src=\"//fred.stlouisfed.org/images/favicon.ico\" width=\"16\" height=\"16\"></span>\\n        </a>\\n      </li>\\n      <li id=\"ham-alfred\" class=\"hover-nav list-group-item\">\\n          <a rel=\"noopener\" target=\"_blank\" class=\"d-flex burger-alfred-gtm\" role=\"menuitem\" href=\"//alfred.stlouisfed.org\">\\n            <span class=\"fred-thin burger-alfred-gtm\">AL</span>\\n            <span class=\"w-100 fred-ultra burger-alfred-gtm\">FRED</span>\\n            <span class=\"flex-shrink-1 float-end switch-icon-padding burger-alfred-gtm\"><div style=\"width: 16px; height: 16px; background-color: #364e71; border-radius: 2px;\"></div></span>\\n        </a>\\n      </li>\\n      <li id=\"ham-fraser\" class=\"hover-nav list-group-item\">\\n          <a rel=\"noopener\" target=\"_blank\" class=\"d-flex burger-fraser-gtm\" role=\"menuitem\" href=\"https://fraser.stlouisfed.org/\">\\n            <span class=\"w-100 fred-ultra burger-fraser-gtm\">FRASER</span>\\n            <span class=\"flex-shrink-1 float-end switch-icon-padding burger-fraser-gtm\"><div style=\"width: 16px; height: 16px; background-color: #364e71; border-radius: 2px;\"></div></span>\\n        </a>\\n      </li>\\n      <li id=\"ham-ecolowdown\" class=\"hover-nav-econ hover-nav list-group-item\">\\n          <a rel=\"noopener\" target=\"_blank\" class=\"d-flex burger-econlowdown-gtm\" role=\"menuitem\" href=\"https://www.econlowdown.org/\">\\n            <span class=\"w-100 fred-ultra-econ burger-econlowdown-gtm\">ECON<br>LOWDOWN</span>\\n              <span class=\"flex-shrink-1 float-end burger-econlowdown-gtm\" style=\"padding-top: 15px\"><div style=\"width: 16px; height: 16px; background-color: #364e71; border-radius: 2px;\"></div></span>\\n        </a>\\n    </li>\\n</ul>\\n  </div>\\n</div>                            </li>\\n                            <li class=\"blueheader-navbar-item center-content-vertically d-none d-lg-block\">\\n                                <div class=\"hidden-xs\" id=\"signin-wrap\">\\n                                    <div id=\"user-nav\" class=\"EL-my-account-link\"></div>\\n                                </div>\\n                            </li>\\n                            <li class=\"blueheader-navbar-item center-content-vertically d-lg-none\">\\n                                <a class=\"hamburger-popover-container header-popover hamburger-gtm\" href=\"#\">\\n    <i id=\"hamburger\" data-toggle=\"popover\" class=\"fas fa-bars hamburger-header\" alt=\"Open Mobile Hamburger Menu\"></i>\\n</a>\\n\\n<div class=\"hide\">\\n    <div id=\"hamburger-popover\">\\n        <div class=\"hamburger-search-padding\">\\n            <div class=\\'input-group\\'>\\n                <input type=\"text\" class=\"form-control search-input nav-search\" placeholder=\"Search FRED data...\">\\n                <button class=\"btn search-submit nav-search-button\" type=\"submit\">\\n                    <i class=\"fa fa-search\" alt=\"Submit Mobile Hamburger Search\"></i>\\n                </button>\\n            </div>\\n        </div>\\n        <div id=\"hamburger-navigation\">\\n            <div id=\"hamburger-home\">\\n                <ul class=\"list-group flush-list hamburger-list col-12\" style=\"padding-bottom: 20px;\">\\n                    <li class=\"list-group-item\">\\n                        <a class=\"burger-calendar-gtm\" href=\"https://fred.stlouisfed.org/releases/calendar\">Release Calendar</a>\\n                    </li>\\n                    <li class=\"list-group-item hamburger-menu-item\" onclick=\"hamburgerMenuNavigation(\\'hamburger-tools\\')\">\\n                        <a class=\"burger-tools-gtm\" href=\"#\">FRED Tools\\n                            <i class=\"fas fa-angle-right hamburger-nxt-page-icon\" alt=\"FRED Tools Hamburger Submenu Icon\"></i>\\n                        </a>\\n                    </li>\\n                    <li class=\"list-group-item\">\\n                        <a class=\"burger-blog-gtm\" href=\"https://fredblog.stlouisfed.org\">FRED Blog</a>\\n                    </li>\\n                    <li class=\"list-group-item\">\\n                        <a class=\"burger-news-gtm\" href=\"https://news.research.stlouisfed.org/category/fred-announcements/\">FRED News</a>\\n                    </li>\\n                    <li class=\"list-group-item hamburger-menu-item\" onclick=\"hamburgerMenuNavigation(\\'hamburger-about-fred\\')\">\\n                        <a class=\"burger-about-gtm\" href=\"#\">About FRED\\n                            <i class=\"fas fa-angle-right hamburger-nxt-page-icon\" alt=\"About FRED Hamburger Submenu Icon\"></i>\\n                        </a>\\n                    </li>\\n                    <li class=\"list-group-item\">\\n                        <a class=\"burger-myaccount-gtm\" href=\"https://fredaccount.stlouisfed.org\">My Account</a>\\n                    </li>\\n                </ul>\\n                <ul class=\"list-group flush-list hamburger-list col-12\" style=\"padding-bottom: 0px;\">\\n                    <li class=\"list-group-item hamburger-menu-item\" onclick=\"hamburgerMenuNavigation(\\'hamburger-products\\')\">\\n                        <a class=\"burger-switch-gtm\" href=\"#\">\\n                            Switch Products<i class=\"fas fa-angle-right hamburger-nxt-page-icon\" alt=\"Switch Products Hamburger Submenu Icon\"></i>\\n                        </a>\\n                    </li>\\n                    <li class=\"list-group-item hamburger-menu-item\" onclick=\"hamburgerMenuNavigation(\\'hamburger-research\\')\">\\n                        <a class=\"burger-resources-gtm\" href=\"#\">\\n                            Economic Research Resources<i class=\"fas fa-angle-right hamburger-nxt-page-icon\" alt=\"Economic Research Resources Hamburger Submenu Icon\"></i>\\n                        </a>\\n                        <p>Explore resources provided by the Research Division at the Federal Reserve Bank of St. Louis.</p>\\n                    </li>\\n                </ui>\\n            </div>\\n            \\n            <div id=\"hamburger-about-fred\" class=\"hide\">\\n                <ul class=\"list-group hamburger-submenu-list col-12\">\\n                    <li class=\"list-group-item hamburger-menu-item\" onclick=\"hamburgerMenuNavigation(\\'hamburger-home\\')\">\\n                        <i class=\"fas fa-angle-left hamburger-previous-page-icon\" alt=\"Return to Mobile/Hamburger Main Menu Icon\"></i>\\n                        About FRED\\n                    </li>\\n                    <li class=\"list-group-item\">\\n                        <a class=\"burger-fred-about-gtm\" href=\"https://fredhelp.stlouisfed.org/fred/about/about-fred/what-is-fred/\"> What is FRED</a>\\n                    </li>\\n                    <li class=\"list-group-item\">\\n                        <a class=\"burger-tutorials-gtm\" href=\"https://fredhelp.stlouisfed.org\"> Tutorials</a>\\n                    </li>\\n                    <li class=\"list-group-item\">\\n                        <a class=\"burger-data-literacy-gtm\" href=\"https://www.stlouisfed.org/education/digital-badges/fred-data-practitioner\">\\n                        Data Literacy\\n                        </a>\\n                    </li>\\n                    <li class=\"list-group-item\">\\n                        <a class=\"burger-contact-us-gtm\" href=\"https://fred.stlouisfed.org/contactus/\"> Contact Us</a>\\n                    </li>\\n                </ul>\\n            </div>\\n            \\n            <div id=\"hamburger-tools\" class=\"hide\">\\n                <ul class=\"list-group hamburger-submenu-list col-12\">\\n                    <li class=\"list-group-item hamburger-menu-item\" onclick=\"hamburgerMenuNavigation(\\'hamburger-home\\')\">\\n                            <i class=\"fas fa-angle-left hamburger-previous-page-icon\" alt=\"Return to Mobile/Hamburger Main Menu Icon\"></i>\\n                            FRED Tools\\n                    </li>\\n                    <li class=\"list-group-item\">\\n                        <a class=\"burger-fred-excel-add-in-gtm\" href=\"https://fred.stlouisfed.org/fred-addin\"> FRED Add-in for Excel</a>\\n                    </li>\\n                    <li class=\"list-group-item\">\\n                        <a class=\"burger-fred-api-gtm\" href=\"https://fred.stlouisfed.org/docs/api/fred\"> FRED API</a>\\n                    </li>\\n                    <li class=\"list-group-item\">\\n                        <a class=\"burger-fred-mobile-apps-gtm\" href=\"https://fred.stlouisfed.org/fred-mobile\"> FRED Mobile Apps</a>\\n                    </li>\\n                </ul>\\n            </div>\\n            \\n            <div id=\"hamburger-research\" class=\"hide\">\\n                <ul class=\"list-group hamburger-submenu-list col-12\">\\n                    <li class=\"list-group-item hamburger-menu-item\" onclick=\"hamburgerMenuNavigation(\\'hamburger-home\\')\">\\n                        <span>\\n                            <i class=\"fas fa-angle-left hamburger-previous-page-icon\" alt=\"Return to Mobile/Hamburger Main Menu Icon\"></i>\\n                            Economic Research Resources\\n                        </span>\\n                    </li>\\n                    <li class=\"list-group-item\">\\n                        <a rel=\"noopener\" target=\"_blank\" class=\"burger-research-news-gtm\" href=\"https://research.stlouisfed.org/publications/research-news\"> Research News</a>\\n                    </li>\\n                    <li class=\"list-group-item\">\\n                        <a rel=\"noopener\" target=\"_blank\" class=\"burger-economists-gtm\" href=\"https://research.stlouisfed.org/econ/\"> Economists</a>\\n                    </li>\\n                    <li class=\"list-group-item\">\\n                        <a rel=\"noopener\" target=\"_blank\" class=\"burger-publications-gtm\" href=\"https://research.stlouisfed.org/publications/\"> Publications</a>\\n                    </li>\\n                    <li class=\"list-group-item\">\\n                        <a rel=\"noopener\" target=\"_blank\" class=\"burger-working-papers-gtm\" href=\"https://research.stlouisfed.org/wp/\"> Working Papers</a>\\n                    </li>\\n                    <li class=\"list-group-item\">\\n                        <a rel=\"noopener\" target=\"_blank\" class=\"burger-info-services-gtm\" href=\"https://research.stlouisfed.org/info-services.html\"> Information Services</a>\\n                    </li>\\n                </ul>\\n            </div>\\n            \\n            <div id=\"hamburger-products\" class=\"hide\">\\n                <ul class=\"list-group hamburger-submenu-list col-12\" style=\"padding-bottom: 0px !important\">\\n                    <li class=\"list-group-item hamburger-menu-item\" onclick=\"hamburgerMenuNavigation(\\'hamburger-home\\')\">\\n                            <i class=\"fas fa-angle-left hamburger-previous-page-icon\" alt=\"Return to Mobile/Hamburger Main Menu Icon\"></i>\\n                            Switch Products\\n                    </li>\\n                </ul>\\n                <ul id=\"switch-prod-list\" class=\"list-group switch-products-list\" role=\"menu\" aria-labelledby=\"switchProduct\">\\n    <li id=\"ham-fred-dev\" class=\"list-group-item product-fred\">\\n        <a class=\"d-flex burger-fred-gtm\" role=\"menuitem\" href=\"//fred.stlouisfed.org\">\\n            <span class=\"w-100 fred-ultra-selected fred-ultra burger-fred-gtm\">FRED</span>\\n            <span class=\"flex-shrink-1 float-end switch-icon-padding burger-fred-gtm\"><img src=\"//fred.stlouisfed.org/images/favicon.ico\" width=\"16\" height=\"16\"></span>\\n        </a>\\n      </li>\\n      <li id=\"ham-alfred\" class=\"hover-nav list-group-item\">\\n          <a rel=\"noopener\" target=\"_blank\" class=\"d-flex burger-alfred-gtm\" role=\"menuitem\" href=\"//alfred.stlouisfed.org\">\\n            <span class=\"fred-thin burger-alfred-gtm\">AL</span>\\n            <span class=\"w-100 fred-ultra burger-alfred-gtm\">FRED</span>\\n            <span class=\"flex-shrink-1 float-end switch-icon-padding burger-alfred-gtm\"><div style=\"width: 16px; height: 16px; background-color: #364e71; border-radius: 2px;\"></div></span>\\n        </a>\\n      </li>\\n      <li id=\"ham-fraser\" class=\"hover-nav list-group-item\">\\n          <a rel=\"noopener\" target=\"_blank\" class=\"d-flex burger-fraser-gtm\" role=\"menuitem\" href=\"https://fraser.stlouisfed.org/\">\\n            <span class=\"w-100 fred-ultra burger-fraser-gtm\">FRASER</span>\\n            <span class=\"flex-shrink-1 float-end switch-icon-padding burger-fraser-gtm\"><div style=\"width: 16px; height: 16px; background-color: #364e71; border-radius: 2px;\"></div></span>\\n        </a>\\n      </li>\\n      <li id=\"ham-ecolowdown\" class=\"hover-nav-econ hover-nav list-group-item\">\\n          <a rel=\"noopener\" target=\"_blank\" class=\"d-flex burger-econlowdown-gtm\" role=\"menuitem\" href=\"https://www.econlowdown.org/\">\\n            <span class=\"w-100 fred-ultra-econ burger-econlowdown-gtm\">ECON<br>LOWDOWN</span>\\n              <span class=\"flex-shrink-1 float-end burger-econlowdown-gtm\" style=\"padding-top: 15px\"><div style=\"width: 16px; height: 16px; background-color: #364e71; border-radius: 2px;\"></div></span>\\n        </a>\\n    </li>\\n</ul>\\n            </div>\\n        </div>\\n    </div>\\n</div>\\n                            </li>\\n                        </ul>\\n                    </nav>\\n                </div>\\n            </div>\\n        <div id=\"notifications-container\"></div>\\n    </nav>\\n    <div class=\\'navbar navbar-expand-lg sub-header EL-header-and-subheader\\'>\\n        <div class=\"container-fluid gx-0\">\\n            <div class=\"col-lg-3 col-md-3 d-none d-lg-block\" style=\"padding-left: 15px; padding-right: 15px;\" >\\n                <a class=\"fred-logo-gtm\" href=\"//fred.stlouisfed.org/\">\\n                        <img id=\"fred-logo-subheader\" src=\"//fred.stlouisfed.org/images/fred-logo-2x.png\" alt=\"FRED Economic Data, St. Louis FED\">\\n                </a>\\n            </div>\\n            <h1 class=\"col-lg-2 fred-trust-text d-none d-xl-block d-flex align-self-center\" role=\"presentation\" style=\"padding: 45px 0px 45px; margin-left: -1px; font-weight:400\">\\n                <p class=\"mb-0\">Your trusted data source</p> <p>since 1991.</p>\\n            </h1>\\n            <div class=\"col d-flex justify-content-end\" style=\"padding-left: 15px; padding-right: 15px;\">\\n                <div class=\"container-fluid gx-0\">\\n                    <div class=\"search-header-div float-end col-8 d-none d-lg-block\">\\n                        <div class=\\'input-group EL-header-search-container\\' id=\"search-container-header\">\\n                            <select id=\"head-search\" class=\\'EL-header-search\\' style=\"\\n                                border-radius: 25px 0 0 25px;\\n                                background-color: #5e88a2;\\n                                border-right: 0;\\n                                color: #fff;\\n                                font-family: Roboto,sans-serif;\\n                                border: none;\\n                                height: 45px;\\n                            \">\\n                                <option></option>\\n                            </select>\\n                            <input type=\"hidden\" name=\"st\" class=\"search-text-input\">\\n                            <button class=\"btn search-submit-select2\" id=\"select2-nav-search-button\" aria-label=\"search\" type=\"submit\">\\n                                <i class=\"fa fa-search\"></i>\\n                            </button>\\n                        </div>\\n                    </div>\\n                    <nav class=\"row col-12 navbar EL-main-nav navbar-expand-sm d-none d-lg-flex\" id=\"subheader-nav\" role=\"navigation\">\\n    <div class=\"navbar-padding navbar-collapse collapse d-flex justify-content-end\">\\n        <ul id=\"subheader-navbar\" class=\"nav float-end navbar-nav\">\\n            <li class=\"nav-li-subheader\">\\n                <a href=\"https://fred.stlouisfed.org/releases/calendar\" class=\"nav-releasecal-subheader-gtm\">Release Calendar</a>\\n            </li>\\n            <li class=\"nav-li-subheader\">\\n              <span class=\"sub-header-nav-tools-gtm  header-popover fred-tools-container\" tabindex=\"0\" aria-labelledby=\"fred-tools-link\">\\n  <span id=\"fred-tools-link\" data-toggle=\"popover\" class=\"align-icon\">FRED Tools\\n    <i class=\"fas fa-angle-down header-icon-padding\" alt=\"Open FRED Tools Menu Icon\"></i>\\n  </span>\\n</span>\\n\\n<div class=\"hide\">\\n  <div id=\"fred-tools-popover\">\\n    <ul class=\"header-list-popover list-group flush-list\">\\n      <li class=\"list-group-item\">\\n        <a class=\"homepage-nav-tools-fred-excel-addin-gtm\" href=\"https://fred.stlouisfed.org/fred-addin\">FRED Add-in for Excel</a>\\n      </li>\\n      <li class=\"list-group-item\">\\n        <a class=\"homepage-nav-tools-fred-api-gtm\" href=\"https://fred.stlouisfed.org/docs/api/fred\">FRED API</a>\\n      </li>\\n      <li class=\"list-group-item\">\\n        <a class=\"homepage-nav-tools-fred-mobile-gtm\" href=\"https://fred.stlouisfed.org/fred-mobile\">FRED Mobile Apps</a>\\n      </li>\\n    </ul>\\n  </div>\\n</div>            </li>\\n            <li class=\"nav-li-subheader\">\\n                <a href=\"https://news.research.stlouisfed.org/category/fred-announcements/\" class=\"nav-news-subheader-gtm\">FRED News</a>\\n            </li>\\n            <li class=\"nav-li-subheader\">\\n                <a href=\"https://fredblog.stlouisfed.org/\" class=\"nav-fredblog-subheader-gtm\">FRED Blog</a>\\n            </li>\\n            <li class=\"nav-li-subheader\">\\n              \\n<span class=\"subheader-nav-about-gtm header-popover about-fred-container\" tabindex=\"0\" aria-labelledby=\"about-fred-link\">\\n  <span id=\"about-fred-link\" data-toggle=\"popover\" class=\"align-icon\">About FRED\\n    <i class=\"fas fa-angle-down header-icon-padding\" alt=\"Open About FRED Menu Icon\"></i>\\n  </span>\\n</span>\\n\\n<div class=\"hide\">\\n  <div id=\"about-fred-popover\">\\n      <ul class=\"header-list-popover list-group flush-list\">\\n        <li class=\"list-group-item\">\\n          <a class=\"about-fred-what-is-gtm\" href=\"https://fredhelp.stlouisfed.org/fred/about/about-fred/what-is-fred/\">\\n            What is FRED\\n          </a>\\n        </li>\\n        <li class=\"list-group-item\">\\n          <a class=\"about-fred-tutorials-gtm\" href=\"https://fredhelp.stlouisfed.org\">\\n            Tutorials\\n          </a>\\n        </li>\\n        <li class=\"list-group-item\">\\n          <a class=\"about-research-data-literacy-gtm\" href=\"https://www.stlouisfed.org/education/digital-badges/fred-data-practitioner\">\\n            Data Literacy\\n          </a>\\n        </li>\\n        <li class=\"list-group-item\">\\n          <a class=\"about-fred-contact-gtm\" href=\"https://fred.stlouisfed.org/contactus/ \">\\n            Contact Us\\n          </a>\\n        </li>\\n      </ul>\\n  </div>\\n</div>\\n            </li>\\n        </ul>\\n    </div>\\n</nav>\\n                </div>\\n            </div>\\n        </div>\\n    </div>\\n    </header>\\n  <div class=\"clear row gx-0\" id=\"content-container\">\\n\\r\\n<!--BEGIN CONTENT-->\\r\\n<div class=\"error-container\">\\r\\n    <h1>Looking for Something?</h1>\\r\\n    <p class=\"large\">We\\'re sorry, the page you were looking for cannot be found. Please feel free\\r\\n        to <a href=\"/contactus/\">contact us</a> if the problem persists.</p>\\r\\n    <p class=\"large\">Searching may help find what are you looking for. If all else fails, you can head\\r\\n        <a href=\"/\">Home</a>\\r\\n    </p>\\r\\n    <form action=\"/searchresults\" id=\"search-form-404\">\\r\\n        <label for=\"search-text\">Search for:</label><br>\\r\\n        <input type=\"text\" name=\"st\" id=\"search-text\" size=\"50\" class=\"form-control\">\\r\\n        <input type=\"submit\" class=\"btn btn-default\" value=\"Search\" id=\"404-search-button\" name=\"404-search-button\">\\r\\n    </form>\\r\\n</div>\\r\\n<link href=\"/css/footer.min.css?1553087256\" rel=\"stylesheet\" media=\"all\">\\r\\n<!--END CONTENT-->\\r\\n<style>\\n    .h2-508 {\\n        font-size: 1em !important;\\n        margin-top:2px !important;\\n        margin-bottom: 2px !important\\n    }\\n</style>\\n\\n    <br class=\"clear\">\\n</div>\\n\\n<div id=\"footer\" class=\"EL-footer hidden-print row \">\\n    <form action=\"//fred.stlouisfed.org/searchresults\" id=\"foot-search-form\" class=\"d-md-none col-12\">\\n        <div id=\"foot-search-container\">\\n            <input type=\"text\" id=\"foot-search\" name=\"st\" class=\"js-placeholder\" title=\"Search FRED\"><button\\n                type=\\'submit\\' class=\"float-end\" id=\"foot-search-button\">&nbsp;</button>\\n        </div>\\n    </form>\\n\\n            <div class=\"col-12 col-md-2\">\\n            <h2 class=\"footer-section-header h2-508\">SERVICES</h2>\\n            <ul>\\n                <li><a href=\"//fred.stlouisfed.org/\">FRED&reg;</a></li>\\n                <li><a href=\"//alfred.stlouisfed.org/\">ALFRED&reg;</a></li>\\n                <li><a href=\"//fraser.stlouisfed.org\">FRASER&reg;</a></li>\\n            </ul>\\n        </div>\\n\\n        <div class=\"col-12 col-md-2 col-lg-3\">\\n            <h2 class=\"footer-section-header h2-508\">RESEARCH</h2>\\n            <ul>\\n                <li><a href=\"//research.stlouisfed.org/regecon/\">Eighth District Economy</a></li>\\n                <li><a href=\"//research.stlouisfed.org/wp/\">Working Papers</a></li>\\n                <li><a href=\"//research.stlouisfed.org/conferences/\">Events</a></li>\\n                <li><a href=\"//research.stlouisfed.org/publications/\">Publications</a></li>\\n            </ul>\\n        </div>\\n\\n        <div class=\"col-12 col-md-3\">\\n            <h2 class=\"h2-508 footer-section-header\">TOOLS</h2>\\n            <ul>\\n                <li><a href=\"//fred.stlouisfed.org/fred-mobile/\">FRED Mobile Apps</a></li>\\n                <li><a href=\"//fred.stlouisfed.org/fred-addin/\">FRED Add-In for Excel&reg;</a></li>\\n                <li><a href=\"//fredhelp.stlouisfed.org/fred/graphs/share-my-fred-graph/embedded-fred-a-widget-just-for-you/\">Embeddable FRED Widget</a></li>\\n                <li><a href=\"//fred.stlouisfed.org/docs/api/fred/\">Developer/APIs</a></li>\\n            </ul>\\n        </div>\\n        <div class=\"col-12 col-md-2 \">\\n            <h2 class=\"h2-508 footer-section-header\">ABOUT</h2>\\n            <ul>\\n                <li><a href=\"//research.stlouisfed.org/jobopps/\">Careers</a></li>\\n                <li><a class=\"contact-hash footer-contactus-link-gtm\" href=\"//fred.stlouisfed.org/contactus/\">Contact</a></li>\\n                <li><a href=\"//fred.stlouisfed.org/legal/\">Legal</a></li>\\n                <li><a href=\"//research.stlouisfed.org/privacy.html\">Privacy Notice & Policy</a></li>\\n            </ul>\\n        </div>\\n        <div class=\"col-12 col-md-3 col-lg-2\">\\n            <h2 class=\"h2-508 footer-section-header\">OUR SITES</h2>\\n            <ul>\\n                <li><a href=\"//www.stlouisfed.org/\">St. Louis Fed</a></li>\\n                <li><a href=\"//research.stlouisfed.org\">Research Division</a></li>\\n                <li><a href=\"//www.stlouisfed.org/education/\">Education Resources</a></li>\\n            </ul>\\n        </div>\\n    </div>\\n\\n<div class=\"footer2 hidden-print row EL-footer2\" style=\"padding-top: 20px;\">\\n    <div class=\"col-12 col-md-3\">\\n        <h3>Need Help?</h3>\\n        <div>\\n            <a class=\"footer-questions-gtm\" href=\"//fred.stlouisfed.org/contactus/\" class=\"q-and-a-link-gtm\">Questions or\\n                Comments</a>\\n        </div>\\n        <div style=\"padding: 10px 0 20px 0;\">\\n            <a class=\"footer-fredhelp-gtm\" href=\"//fredhelp.stlouisfed.org/\">FRED Help</a>\\n        </div>\\n    </div>\\n\\n    <div class=\"col-12 col-md-6\">\\n        <div class=\"col-12\">\\n            <h3>Subscribe to the FRED newsletter</h3>\\n            <form id=\"subscribe-div\" class=\"form-horizontal form-control newsletter-form\" style=\"padding:0;margin:0\">\\n                <div class=\"col-12\" style=\"padding-left: 0;\">\\n                    <div class=\"input-group\">\\n                        <input id=\"subscribe-email-input\" type=\"text\" name=\"email\" placeholder=\"Email\"\\n                            class=\"form-control email\" style=\"padding: 4px 0px 4px 14px;\" aria-label=\"email\">\\n                        <button id=\"subscribe-email-btn\" type=\"button\"\\n                            class=\"btn btn-default subscribe-newsletter-btn-gtm\"\\n                            style=\"color: #333; border-radius: 4px; border-color: #cccccc; padding: 0 7px 0px 7px; font-size: 14px;\">Subscribe</button>\\n                    </div>\\n                </div>\\n            </form>\\n        </div>\\n    </div>\\n    <hr class=\"d-md-none\" style=\"border: none;\">\\n    <div class=\"col-12 col-md-3\">\\n        <h3 style=\"width: 100%; text-align: center;\">Follow us</h3>\\n        <div class=\"col-12\" style=\"text-align: center;\">\\n            <a aria-label=\"Saint Louis Fed twitter page\"  href=\"http://bit.ly/9ngC3L\"><i class=\"fab fa-fw fa-2x fa-twitter\"></i></a>\\n            <a aria-label=\"Saint Louis Fed facebook page\"  href=\"http://bit.ly/HeaderFB\"><i class=\"fab fa-fw fa-2x fa-facebook\"></i></a>\\n            <a aria-label=\"Saint Louis Fed youtube page\"  href=\"http://bit.ly/aY9TVF\"><i class=\"fab fa-fw fa-2x fa-youtube\"></i></a>\\n            <a aria-label=\"Saint Louis Fed linkedin page\"  href=\"http://bit.ly/d056zL\"><i class=\"fab fa-fw fa-2x fa-linkedin\"></i></a>\\n        </div>\\n    </div>\\n</div>\\n\\n<div class=\"hidden-print d-md-none\">\\n    <a style=\"margin: 5px; display: block; padding:5px 10px; text-align: center\" href=\"#top\">Back to Top</a>\\n</div>\\n\\n<div id=\"footer-bottom\" class=\"EL-footer-bottom\">\\n    <div id=\"address\">\\n        Federal Reserve Bank of St. Louis,\\n        One Federal Reserve Bank Plaza,\\n        St. Louis, MO 63102\\n    </div>\\n</div>\\n\\n<script>\\n    // function to parse cookies, and return the value\\n    function getCookie(name) {\\n        var cookies = document.cookie.split(\\';\\');\\n        for (var i in cookies) {\\n            var cookie = cookies[i].trim().split(\\'=\\');\\n            if (cookie[0] == name) {\\n                return cookie[1];\\n            }\\n        }\\n        return null;\\n    }\\n    // certain pages in FRED set a custom tag variable\\n    // this gets sent to Google Analytics so we can see what tags people are using\\n    if (window.tags) {\\n        dataLayer.push({ \\'tags\\': tags });\\n\\n    }\\n\\n    // if the user is logged in, send the value of the liruid cookie to Google Analytics\\n    var researchLiruid = getCookie(\\'research-liruid\\');\\n    dataLayer.push({ \\'userId\\': researchLiruid });\\n\\n</script>\\n<script src=\"//fred.stlouisfed.org/assets/jquery/dist/1692737410.jquery.min.js\" type=\"text/javascript\"></script>\\n<script src=\"//fred.stlouisfed.org/assets/popperjs/dist/umd/1692737410.popper.min.js\"></script>\\n<script src=\"//fred.stlouisfed.org/assets/bootstrap/dist/js/1692737410.bootstrap.min.js\"></script>\\n<script src=\"//fred.stlouisfed.org/assets/select2/dist/js/1686149278.select2.full.min.js\"></script>\\n<script>\\n    // force expire the .fred.stlouisfed.org _ga cookie\\n    document.cookie = document.cookie + \\'_ga=;domain=.fred.stlouisfed.org;expires=Sat, 01-Jan-2000 00:00:00 GMT\\';\\n</script>\\n\\n<script defer src=\"//fred.stlouisfed.org/assets/jquery-menu-aim/1696526512.jquery.menu-aim.min.js\"></script>\\n\\n<script src=\"//fred.stlouisfed.org/js/1696526514.common.min.js\"></script>\\n\\n<script src=\"//fred.stlouisfed.org/assets/js-cookie/src/js.cookie.js\"></script>\\n<!-- script defer src=\"//fred.stlouisfed.org/js/1686260124.banner.js\"></script-->\\n\\n<script src=\"//fred.stlouisfed.org/js/1696526512.508.min.js\"></script>\\n\\n<script>\\n    var appConfig = {\\n        uapi_host: \\'https://fred.stlouisfed.org/uapi\\',\\n        research_host: \\'https://research.stlouisfed.org\\',\\n        fred_host: \\'https://fred.stlouisfed.org\\',\\n        alfred_host: \\'https://alfred.stlouisfed.org\\',\\n        gsi_client_id: \\'115290014367-vpb89b600koe9kn0njeeq38c1unfr3gk.apps.googleusercontent.com\\',\\n        fred_account_host: \\'https://fredaccount.stlouisfed.org\\',\\n    };\\n\\n    var domain_suffix = (window.location.hostname.split(\".\")[0].split(\"-\")[1] || \\'\\');\\n    appConfig.logged_in = Cookies.get(\\'research-lirua\\' + (domain_suffix ? \\'-\\' + domain_suffix : \\'\\')) !== null && Cookies.get(\\'research-lirua\\' + (domain_suffix ? \\'-\\' + domain_suffix : \\'\\')) !== undefined;\\n    var getAuth = function (callback) {\\n        if (typeof callback === \\'function\\') {\\n            callback();\\n        }\\n        return;\\n    };\\n    window.getAuth = getAuth;\\n\\n</script>\\n<script src=\"//accounts.google.com/gsi/client\" async defer></script>\\n<script src=\"//fred.stlouisfed.org/assets/research/fred-account-react/dist/1695316313.main.dist.js\"></script>\\n<script src=\"//fred.stlouisfed.org/assets/research/fred-account-react/dist/1695316313.vendor.dist.js\"></script>\\n\\n<script type=\"text/javascript\">\\n    window.addEventListener(\"DOMContentLoaded\", function(){\\n        $(document).ready(function () {\\n            // handle tabbing into and out of the subscribe text box\\n            $(\\'#subscribe-email-input\\').on(\\'focusout\\', function() {\\n              $(this).css(\\'outline-color\\', \\'white\\');\\n            });\\n\\n            $(\\'#subscribe-email-input\\').on(\\'keyup\\', function(e) {\\n              if (e.key == \\'Tab\\') { // tab into search input\\n                $(\\'#subscribe-email-input\\').css({\\'outline-color\\': \\'#364E71\\'});\\n              }\\n            });\\n\\n\\n        });\\n    });\\n</script>\\r\\n</body>\\r\\n</html>\\r\\n'",
     "output_type": "error",
     "traceback": [
      "\u001b[0;31m---------------------------------------------------------------------------\u001b[0m",
      "\u001b[0;31mRemoteDataError\u001b[0m                           Traceback (most recent call last)",
      "Cell \u001b[0;32mIn[35], line 8\u001b[0m\n\u001b[1;32m      1\u001b[0m securities \u001b[38;5;241m=\u001b[39m {\u001b[38;5;124m'\u001b[39m\u001b[38;5;124mBAMLCC0A0CMTRIV\u001b[39m\u001b[38;5;124m'\u001b[39m   : \u001b[38;5;124m'\u001b[39m\u001b[38;5;124mUS Corp Master TRI\u001b[39m\u001b[38;5;124m'\u001b[39m,\n\u001b[1;32m      2\u001b[0m               \u001b[38;5;124m'\u001b[39m\u001b[38;5;124mBAMLHYH0A0HYM2TRIV\u001b[39m\u001b[38;5;124m'\u001b[39m: \u001b[38;5;124m'\u001b[39m\u001b[38;5;124mUS High Yield TRI\u001b[39m\u001b[38;5;124m'\u001b[39m,\n\u001b[1;32m      3\u001b[0m               \u001b[38;5;124m'\u001b[39m\u001b[38;5;124mBAMLEMCBPITRIV\u001b[39m\u001b[38;5;124m'\u001b[39m    : \u001b[38;5;124m'\u001b[39m\u001b[38;5;124mEmerging Markets Corporate Plus TRI\u001b[39m\u001b[38;5;124m'\u001b[39m,\n\u001b[1;32m      4\u001b[0m               \u001b[38;5;124m'\u001b[39m\u001b[38;5;124mGOLDAMGBD228NLBM\u001b[39m\u001b[38;5;124m'\u001b[39m  : \u001b[38;5;124m'\u001b[39m\u001b[38;5;124mGold (London, USD)\u001b[39m\u001b[38;5;124m'\u001b[39m,\n\u001b[1;32m      5\u001b[0m               \u001b[38;5;124m'\u001b[39m\u001b[38;5;124mDGS10\u001b[39m\u001b[38;5;124m'\u001b[39m             : \u001b[38;5;124m'\u001b[39m\u001b[38;5;124m10-Year Treasury CMR\u001b[39m\u001b[38;5;124m'\u001b[39m,\n\u001b[1;32m      6\u001b[0m               }\n\u001b[0;32m----> 8\u001b[0m df \u001b[38;5;241m=\u001b[39m \u001b[43mweb\u001b[49m\u001b[38;5;241;43m.\u001b[39;49m\u001b[43mDataReader\u001b[49m\u001b[43m(\u001b[49m\u001b[43mname\u001b[49m\u001b[38;5;241;43m=\u001b[39;49m\u001b[38;5;28;43mlist\u001b[39;49m\u001b[43m(\u001b[49m\u001b[43msecurities\u001b[49m\u001b[38;5;241;43m.\u001b[39;49m\u001b[43mkeys\u001b[49m\u001b[43m(\u001b[49m\u001b[43m)\u001b[49m\u001b[43m)\u001b[49m\u001b[43m,\u001b[49m\u001b[43m \u001b[49m\u001b[43mdata_source\u001b[49m\u001b[38;5;241;43m=\u001b[39;49m\u001b[38;5;124;43m'\u001b[39;49m\u001b[38;5;124;43mfred\u001b[39;49m\u001b[38;5;124;43m'\u001b[39;49m\u001b[43m,\u001b[49m\u001b[43m \u001b[49m\u001b[43mstart\u001b[49m\u001b[38;5;241;43m=\u001b[39;49m\u001b[38;5;241;43m2000\u001b[39;49m\u001b[43m)\u001b[49m\n\u001b[1;32m      9\u001b[0m df \u001b[38;5;241m=\u001b[39m df\u001b[38;5;241m.\u001b[39mrename(columns\u001b[38;5;241m=\u001b[39msecurities)\u001b[38;5;241m.\u001b[39mdropna(how\u001b[38;5;241m=\u001b[39m\u001b[38;5;124m'\u001b[39m\u001b[38;5;124mall\u001b[39m\u001b[38;5;124m'\u001b[39m)\u001b[38;5;241m.\u001b[39mresample(\u001b[38;5;124m'\u001b[39m\u001b[38;5;124mB\u001b[39m\u001b[38;5;124m'\u001b[39m)\u001b[38;5;241m.\u001b[39mmean()\n\u001b[1;32m     11\u001b[0m \u001b[38;5;28;01mwith\u001b[39;00m pd\u001b[38;5;241m.\u001b[39mHDFStore(DATA_STORE) \u001b[38;5;28;01mas\u001b[39;00m store:\n",
      "File \u001b[0;32m~/.virtualenvs/ml4t/lib/python3.8/site-packages/pandas/util/_decorators.py:210\u001b[0m, in \u001b[0;36mdeprecate_kwarg.<locals>._deprecate_kwarg.<locals>.wrapper\u001b[0;34m(*args, **kwargs)\u001b[0m\n\u001b[1;32m    208\u001b[0m         \u001b[38;5;28;01mraise\u001b[39;00m \u001b[38;5;167;01mTypeError\u001b[39;00m(msg)\n\u001b[1;32m    209\u001b[0m     kwargs[new_arg_name] \u001b[38;5;241m=\u001b[39m new_arg_value\n\u001b[0;32m--> 210\u001b[0m \u001b[38;5;28;01mreturn\u001b[39;00m \u001b[43mfunc\u001b[49m\u001b[43m(\u001b[49m\u001b[38;5;241;43m*\u001b[39;49m\u001b[43margs\u001b[49m\u001b[43m,\u001b[49m\u001b[43m \u001b[49m\u001b[38;5;241;43m*\u001b[39;49m\u001b[38;5;241;43m*\u001b[39;49m\u001b[43mkwargs\u001b[49m\u001b[43m)\u001b[49m\n",
      "File \u001b[0;32m~/.virtualenvs/ml4t/lib/python3.8/site-packages/pandas_datareader/data.py:449\u001b[0m, in \u001b[0;36mDataReader\u001b[0;34m(name, data_source, start, end, retry_count, pause, session, api_key)\u001b[0m\n\u001b[1;32m    446\u001b[0m     \u001b[38;5;28;01mreturn\u001b[39;00m EnigmaReader(dataset_id\u001b[38;5;241m=\u001b[39mname, api_key\u001b[38;5;241m=\u001b[39mapi_key)\u001b[38;5;241m.\u001b[39mread()\n\u001b[1;32m    448\u001b[0m \u001b[38;5;28;01melif\u001b[39;00m data_source \u001b[38;5;241m==\u001b[39m \u001b[38;5;124m\"\u001b[39m\u001b[38;5;124mfred\u001b[39m\u001b[38;5;124m\"\u001b[39m:\n\u001b[0;32m--> 449\u001b[0m     \u001b[38;5;28;01mreturn\u001b[39;00m \u001b[43mFredReader\u001b[49m\u001b[43m(\u001b[49m\n\u001b[1;32m    450\u001b[0m \u001b[43m        \u001b[49m\u001b[43msymbols\u001b[49m\u001b[38;5;241;43m=\u001b[39;49m\u001b[43mname\u001b[49m\u001b[43m,\u001b[49m\n\u001b[1;32m    451\u001b[0m \u001b[43m        \u001b[49m\u001b[43mstart\u001b[49m\u001b[38;5;241;43m=\u001b[39;49m\u001b[43mstart\u001b[49m\u001b[43m,\u001b[49m\n\u001b[1;32m    452\u001b[0m \u001b[43m        \u001b[49m\u001b[43mend\u001b[49m\u001b[38;5;241;43m=\u001b[39;49m\u001b[43mend\u001b[49m\u001b[43m,\u001b[49m\n\u001b[1;32m    453\u001b[0m \u001b[43m        \u001b[49m\u001b[43mretry_count\u001b[49m\u001b[38;5;241;43m=\u001b[39;49m\u001b[43mretry_count\u001b[49m\u001b[43m,\u001b[49m\n\u001b[1;32m    454\u001b[0m \u001b[43m        \u001b[49m\u001b[43mpause\u001b[49m\u001b[38;5;241;43m=\u001b[39;49m\u001b[43mpause\u001b[49m\u001b[43m,\u001b[49m\n\u001b[1;32m    455\u001b[0m \u001b[43m        \u001b[49m\u001b[43msession\u001b[49m\u001b[38;5;241;43m=\u001b[39;49m\u001b[43msession\u001b[49m\u001b[43m,\u001b[49m\n\u001b[1;32m    456\u001b[0m \u001b[43m    \u001b[49m\u001b[43m)\u001b[49m\u001b[38;5;241;43m.\u001b[39;49m\u001b[43mread\u001b[49m\u001b[43m(\u001b[49m\u001b[43m)\u001b[49m\n\u001b[1;32m    458\u001b[0m \u001b[38;5;28;01melif\u001b[39;00m data_source \u001b[38;5;241m==\u001b[39m \u001b[38;5;124m\"\u001b[39m\u001b[38;5;124mfamafrench\u001b[39m\u001b[38;5;124m\"\u001b[39m:\n\u001b[1;32m    459\u001b[0m     \u001b[38;5;28;01mreturn\u001b[39;00m FamaFrenchReader(\n\u001b[1;32m    460\u001b[0m         symbols\u001b[38;5;241m=\u001b[39mname,\n\u001b[1;32m    461\u001b[0m         start\u001b[38;5;241m=\u001b[39mstart,\n\u001b[0;32m   (...)\u001b[0m\n\u001b[1;32m    465\u001b[0m         session\u001b[38;5;241m=\u001b[39msession,\n\u001b[1;32m    466\u001b[0m     )\u001b[38;5;241m.\u001b[39mread()\n",
      "File \u001b[0;32m~/.virtualenvs/ml4t/lib/python3.8/site-packages/pandas_datareader/fred.py:27\u001b[0m, in \u001b[0;36mFredReader.read\u001b[0;34m(self)\u001b[0m\n\u001b[1;32m     18\u001b[0m \u001b[38;5;250m\u001b[39m\u001b[38;5;124;03m\"\"\"Read data\u001b[39;00m\n\u001b[1;32m     19\u001b[0m \n\u001b[1;32m     20\u001b[0m \u001b[38;5;124;03mReturns\u001b[39;00m\n\u001b[0;32m   (...)\u001b[0m\n\u001b[1;32m     24\u001b[0m \u001b[38;5;124;03m    DataFrame is the outer join of the indicies of each series.\u001b[39;00m\n\u001b[1;32m     25\u001b[0m \u001b[38;5;124;03m\"\"\"\u001b[39;00m\n\u001b[1;32m     26\u001b[0m \u001b[38;5;28;01mtry\u001b[39;00m:\n\u001b[0;32m---> 27\u001b[0m     \u001b[38;5;28;01mreturn\u001b[39;00m \u001b[38;5;28;43mself\u001b[39;49m\u001b[38;5;241;43m.\u001b[39;49m\u001b[43m_read\u001b[49m\u001b[43m(\u001b[49m\u001b[43m)\u001b[49m\n\u001b[1;32m     28\u001b[0m \u001b[38;5;28;01mfinally\u001b[39;00m:\n\u001b[1;32m     29\u001b[0m     \u001b[38;5;28mself\u001b[39m\u001b[38;5;241m.\u001b[39mclose()\n",
      "File \u001b[0;32m~/.virtualenvs/ml4t/lib/python3.8/site-packages/pandas_datareader/fred.py:62\u001b[0m, in \u001b[0;36mFredReader._read\u001b[0;34m(self)\u001b[0m\n\u001b[1;32m     55\u001b[0m             \u001b[38;5;28;01mraise\u001b[39;00m \u001b[38;5;167;01mIOError\u001b[39;00m(\n\u001b[1;32m     56\u001b[0m                 \u001b[38;5;124m\"\u001b[39m\u001b[38;5;124mFailed to get the data. Check that \u001b[39m\u001b[38;5;124m\"\u001b[39m\n\u001b[1;32m     57\u001b[0m                 \u001b[38;5;124m\"\u001b[39m\u001b[38;5;132;01m{0!r}\u001b[39;00m\u001b[38;5;124m is a valid FRED series.\u001b[39m\u001b[38;5;124m\"\u001b[39m\u001b[38;5;241m.\u001b[39mformat(name)\n\u001b[1;32m     58\u001b[0m             )\n\u001b[1;32m     59\u001b[0m         \u001b[38;5;28;01mraise\u001b[39;00m\n\u001b[1;32m     61\u001b[0m df \u001b[38;5;241m=\u001b[39m concat(\n\u001b[0;32m---> 62\u001b[0m     [fetch_data(url, n) \u001b[38;5;28;01mfor\u001b[39;00m url, n \u001b[38;5;129;01min\u001b[39;00m \u001b[38;5;28mzip\u001b[39m(urls, names)], axis\u001b[38;5;241m=\u001b[39m\u001b[38;5;241m1\u001b[39m, join\u001b[38;5;241m=\u001b[39m\u001b[38;5;124m\"\u001b[39m\u001b[38;5;124mouter\u001b[39m\u001b[38;5;124m\"\u001b[39m\n\u001b[1;32m     63\u001b[0m )\n\u001b[1;32m     64\u001b[0m \u001b[38;5;28;01mreturn\u001b[39;00m df\n",
      "File \u001b[0;32m~/.virtualenvs/ml4t/lib/python3.8/site-packages/pandas_datareader/fred.py:62\u001b[0m, in \u001b[0;36m<listcomp>\u001b[0;34m(.0)\u001b[0m\n\u001b[1;32m     55\u001b[0m             \u001b[38;5;28;01mraise\u001b[39;00m \u001b[38;5;167;01mIOError\u001b[39;00m(\n\u001b[1;32m     56\u001b[0m                 \u001b[38;5;124m\"\u001b[39m\u001b[38;5;124mFailed to get the data. Check that \u001b[39m\u001b[38;5;124m\"\u001b[39m\n\u001b[1;32m     57\u001b[0m                 \u001b[38;5;124m\"\u001b[39m\u001b[38;5;132;01m{0!r}\u001b[39;00m\u001b[38;5;124m is a valid FRED series.\u001b[39m\u001b[38;5;124m\"\u001b[39m\u001b[38;5;241m.\u001b[39mformat(name)\n\u001b[1;32m     58\u001b[0m             )\n\u001b[1;32m     59\u001b[0m         \u001b[38;5;28;01mraise\u001b[39;00m\n\u001b[1;32m     61\u001b[0m df \u001b[38;5;241m=\u001b[39m concat(\n\u001b[0;32m---> 62\u001b[0m     [\u001b[43mfetch_data\u001b[49m\u001b[43m(\u001b[49m\u001b[43murl\u001b[49m\u001b[43m,\u001b[49m\u001b[43m \u001b[49m\u001b[43mn\u001b[49m\u001b[43m)\u001b[49m \u001b[38;5;28;01mfor\u001b[39;00m url, n \u001b[38;5;129;01min\u001b[39;00m \u001b[38;5;28mzip\u001b[39m(urls, names)], axis\u001b[38;5;241m=\u001b[39m\u001b[38;5;241m1\u001b[39m, join\u001b[38;5;241m=\u001b[39m\u001b[38;5;124m\"\u001b[39m\u001b[38;5;124mouter\u001b[39m\u001b[38;5;124m\"\u001b[39m\n\u001b[1;32m     63\u001b[0m )\n\u001b[1;32m     64\u001b[0m \u001b[38;5;28;01mreturn\u001b[39;00m df\n",
      "File \u001b[0;32m~/.virtualenvs/ml4t/lib/python3.8/site-packages/pandas_datareader/fred.py:41\u001b[0m, in \u001b[0;36mFredReader._read.<locals>.fetch_data\u001b[0;34m(url, name)\u001b[0m\n\u001b[1;32m     39\u001b[0m \u001b[38;5;28;01mdef\u001b[39;00m \u001b[38;5;21mfetch_data\u001b[39m(url, name):\n\u001b[1;32m     40\u001b[0m \u001b[38;5;250m    \u001b[39m\u001b[38;5;124;03m\"\"\"Utillity to fetch data\"\"\"\u001b[39;00m\n\u001b[0;32m---> 41\u001b[0m     resp \u001b[38;5;241m=\u001b[39m \u001b[38;5;28;43mself\u001b[39;49m\u001b[38;5;241;43m.\u001b[39;49m\u001b[43m_read_url_as_StringIO\u001b[49m\u001b[43m(\u001b[49m\u001b[43murl\u001b[49m\u001b[43m)\u001b[49m\n\u001b[1;32m     42\u001b[0m     data \u001b[38;5;241m=\u001b[39m read_csv(\n\u001b[1;32m     43\u001b[0m         resp,\n\u001b[1;32m     44\u001b[0m         index_col\u001b[38;5;241m=\u001b[39m\u001b[38;5;241m0\u001b[39m,\n\u001b[0;32m   (...)\u001b[0m\n\u001b[1;32m     49\u001b[0m         na_values\u001b[38;5;241m=\u001b[39m\u001b[38;5;124m\"\u001b[39m\u001b[38;5;124m.\u001b[39m\u001b[38;5;124m\"\u001b[39m,\n\u001b[1;32m     50\u001b[0m     )\n\u001b[1;32m     51\u001b[0m     \u001b[38;5;28;01mtry\u001b[39;00m:\n",
      "File \u001b[0;32m~/.virtualenvs/ml4t/lib/python3.8/site-packages/pandas_datareader/base.py:119\u001b[0m, in \u001b[0;36m_BaseReader._read_url_as_StringIO\u001b[0;34m(self, url, params)\u001b[0m\n\u001b[1;32m    115\u001b[0m \u001b[38;5;28;01mdef\u001b[39;00m \u001b[38;5;21m_read_url_as_StringIO\u001b[39m(\u001b[38;5;28mself\u001b[39m, url, params\u001b[38;5;241m=\u001b[39m\u001b[38;5;28;01mNone\u001b[39;00m):\n\u001b[1;32m    116\u001b[0m \u001b[38;5;250m    \u001b[39m\u001b[38;5;124;03m\"\"\"\u001b[39;00m\n\u001b[1;32m    117\u001b[0m \u001b[38;5;124;03m    Open url (and retry)\u001b[39;00m\n\u001b[1;32m    118\u001b[0m \u001b[38;5;124;03m    \"\"\"\u001b[39;00m\n\u001b[0;32m--> 119\u001b[0m     response \u001b[38;5;241m=\u001b[39m \u001b[38;5;28;43mself\u001b[39;49m\u001b[38;5;241;43m.\u001b[39;49m\u001b[43m_get_response\u001b[49m\u001b[43m(\u001b[49m\u001b[43murl\u001b[49m\u001b[43m,\u001b[49m\u001b[43m \u001b[49m\u001b[43mparams\u001b[49m\u001b[38;5;241;43m=\u001b[39;49m\u001b[43mparams\u001b[49m\u001b[43m)\u001b[49m\n\u001b[1;32m    120\u001b[0m     text \u001b[38;5;241m=\u001b[39m \u001b[38;5;28mself\u001b[39m\u001b[38;5;241m.\u001b[39m_sanitize_response(response)\n\u001b[1;32m    121\u001b[0m     out \u001b[38;5;241m=\u001b[39m StringIO()\n",
      "File \u001b[0;32m~/.virtualenvs/ml4t/lib/python3.8/site-packages/pandas_datareader/base.py:181\u001b[0m, in \u001b[0;36m_BaseReader._get_response\u001b[0;34m(self, url, params, headers)\u001b[0m\n\u001b[1;32m    178\u001b[0m \u001b[38;5;28;01mif\u001b[39;00m last_response_text:\n\u001b[1;32m    179\u001b[0m     msg \u001b[38;5;241m+\u001b[39m\u001b[38;5;241m=\u001b[39m \u001b[38;5;124m\"\u001b[39m\u001b[38;5;130;01m\\n\u001b[39;00m\u001b[38;5;124mResponse Text:\u001b[39m\u001b[38;5;130;01m\\n\u001b[39;00m\u001b[38;5;132;01m{0}\u001b[39;00m\u001b[38;5;124m\"\u001b[39m\u001b[38;5;241m.\u001b[39mformat(last_response_text)\n\u001b[0;32m--> 181\u001b[0m \u001b[38;5;28;01mraise\u001b[39;00m RemoteDataError(msg)\n",
      "\u001b[0;31mRemoteDataError\u001b[0m: Unable to read URL: https://fred.stlouisfed.org/graph/fredgraph.csv?id=GOLDAMGBD228NLBM\nResponse Text:\nb'<!DOCTYPE html>\\r\\n<html lang=\"en\">\\r\\n<head>\\r\\n    <meta charset=\"utf-8\">\\r\\n    <meta http-equiv=\"X-UA-Compatible\" content=\"IE=edge\">\\r\\n    <meta name=\"viewport\" content=\"width=device-width, initial-scale=1\">\\r\\n    <title>Error - St. Louis Fed</title>\\r\\n    <meta name=\"description\" content=\"\">\\r\\n    <meta name=\"keywords\" content=\"\">    \\r\\n    <link rel=\"stylesheet\" type=\"text/css\" href=\"/assets/bootstrap/dist/css/bootstrap.min.css\">\\r\\n    <link rel=\"stylesheet\" type=\"text/css\" href=\"/css/home.min.css?1553087253\">\\r\\n    <link rel=\"stylesheet\" type=\"text/css\" href=\"/assets/fontawesome-free/css/all.min.css\">\\r\\n    <link rel=\"stylesheet\" type=\"text/css\" href=\"/assets/select2/dist/css/select2.min.css\">\\r\\n    <style>p {\\r\\n        margin-bottom: 1.5em;\\r\\n    }</style>\\r\\n</head>\\r\\n<body>\\r\\n<link rel=\"preconnect\" href=\"https://fonts.gstatic.com\">\\n<link href=\"https://fonts.googleapis.com/css2?family=Roboto&display=swap\" rel=\"stylesheet\">\\n<link href=\"https://fonts.googleapis.com/css2?family=Roboto+Slab&display=swap\" rel=\"stylesheet\">\\n<!--googleoff: snippet-->\\n<a href=\"#content-container\" class=\"skip-to\">Skip to main content</a>\\n<!--googleon: snippet-->\\n<a name=\"top\" id=\"top\"></a>\\n<div id=\"container\" class=\"container\">\\n    <header style=\"display:block;height:auto;background:inherit;\">\\n        <h1 class=\"visually-hidden\">Federal Reserve Economic Data: Your trusted data source since 1991</h1>\\n        <nav class=\"navbar navbar-expand-lg header-not-home py-0 EL-nonhomepage-header EL-header-and-subheader\">\\n            <div id=\"hidden-user\" class=\\'hide\\'></div>\\n            <div id=\"action-modal\"></div>\\n            <div class=\"container-fluid align-items-stretch gx-0\">\\n                <div class=\"col-3\" style=\"padding-left: 15px; padding-right: 15px;\">\\n                    <a class=\"research-logo-gtm\" target=\"_\" href=\"//research.stlouisfed.org/\">\\n                        <img class=\"header-logo-eagle d-none d-lg-block\" src=\"//fred.stlouisfed.org/images/masthead-no-bank.png\" alt=\"Eagle Economic Research Logo\">\\n                        <img class=\"header-logo-eagle d-lg-none\" src=\"//fred.stlouisfed.org/images/logo-eagle.png\" alt=\"Eagle Logo\">\\n                    </a>\\n                </div>\\n                <div class=\"fred-logo-div col-6 d-lg-none\">\\n                    <a class=\"fred-logo-gtm\" href=\"//fred.stlouisfed.org/\">\\n                        <picture>\\n                            <img class=\"header-logo\" src=\"//fred.stlouisfed.org/images/fred-masthead-mobile-2x.png\" alt=\"mini fred logo\">\\n                        </picture>\\n                    </a>\\n                </div>\\n                <div class=\"col-lg-8 col-3 d-flex justify-content-end\" style=\"padding-left: 15px; padding-right: 0px;\">\\n                    <nav id=\"blueheader-navbar-nav\" style=\"height:100%s\">\\n                        <ul id=\"blueheader-navbar\" class=\"nav float-end\">\\n                            <li class=\"blueheader-navbar-item center-content-vertically d-none d-lg-block\">\\n                                <span id=\"research-resources-popover-container\" class=\"research-resources-dropdown-gtm header-popover research-resources-popover-container\">\\n    <span id=\"research-resources-link\" data-toggle=\"popover\" class=\"align-icon\" tabindex=\"0\" style=\"cursor: pointer\">Economic Research Resources\\n        <i class=\"fas fa-angle-down fa-lg header-icon-padding\" alt=\"Open Research Resources Menu Icon\"></i>\\n    </span>\\n</span>\\n\\n<div class=\"hide\">\\n    <div id=\"research-resources-popover\">\\n        <div class=\"container research-resources\" style=\"padding: 7px 25px 0px 25px;\">\\n            <div class=\"row\">\\n                <div class=\"col-7 research-resources-left-column\">\\n                    <div class=\"research-resources-text\">Explore resources provided by the Research Division at the Federal Reserve Bank of St. Louis</div>\\n                    <div>\\n                        <a rel=\"noopener\" target=\"_blank\" class=\"errd-research-link-gtm\" href=\"https://research.stlouisfed.org\" style=\"color: #364E71; font-family: Roboto; font-weight: 700px\">research.stlouisfed.org <i class=\"fas fa-external-link-alt\" aria-hidden=\"true\" style=\"font-size: 12px\"></i></a>\\n                    </div>\\n                </div>\\n                <div class=\"col-5 research-resources-right-column\">\\n                    <ul class=\"header-list-popover list-group flush-list\">\\n                        <li class=\"list-group-item\">\\n                            <a rel=\"noopener\" target=\"_blank\" class=\"errd-research-news-gtm\" href=\"https://research.stlouisfed.org/publications/research-news/\">Research News</a>\\n                        </li>\\n                        <li class=\"list-group-item\">\\n                            <a rel=\"noopener\" target=\"_blank\" class=\"errd-economists-gtm\" href=\"https://research.stlouisfed.org/econ/\">Economists</a>\\n                        </li>\\n                        <li class=\"list-group-item\">\\n                            <a rel=\"noopener\" target=\"_blank\" class=\"errd-publications-gtm\"  href=\"https://research.stlouisfed.org/publications/\">Publications</a>\\n                        </li>\\n                        <li class=\"list-group-item\">\\n                            <a rel=\"noopener\" target=\"_blank\" class=\"errd-working-papers-gtm\" href=\"https://research.stlouisfed.org/wp/\">Working Papers</a>\\n                        </li>\\n                        <li class=\"list-group-item\">\\n                            <a rel=\"noopener\" target=\"_blank\" class=\"errd-info-services-gtm\" href=\"https://research.stlouisfed.org/info-services.html\">Information Services</a>\\n                        </li>\\n                    </ul>\\n                </div>\\n            </div>\\n        </div>\\n    </div>\\n</div>                            </li>\\n                            <li class=\"blueheader-navbar-item center-content-vertically d-none d-lg-block\">\\n                                <span id=\"switchprod-popover-container\" class=\"Switch-Products-gtm header-popover switchprod-popover-container\">\\n  <span id=\"switchProd\" data-toggle=\"popover\" data-toggle=\"popover\" class=\"align-icon\" tabindex=\"0\" style=\"cursor: pointer\"> Switch Products\\n    <i class=\"fas fa-angle-down fa-lg header-icon-padding\" alt=\"Open Switch Products Menu Icon\"></i>\\n  </span>\\n</span>\\n\\n<div class=\"hide\">\\n  <div id=\"switchprod-popover\">\\n    <ul id=\"switch-prod-list\" class=\"list-group switch-products-list\" role=\"menu\" aria-labelledby=\"switchProduct\">\\n    <li id=\"ham-fred-dev\" class=\"list-group-item product-fred\">\\n        <a class=\"d-flex burger-fred-gtm\" role=\"menuitem\" href=\"//fred.stlouisfed.org\">\\n            <span class=\"w-100 fred-ultra-selected fred-ultra burger-fred-gtm\">FRED</span>\\n            <span class=\"flex-shrink-1 float-end switch-icon-padding burger-fred-gtm\"><img src=\"//fred.stlouisfed.org/images/favicon.ico\" width=\"16\" height=\"16\"></span>\\n        </a>\\n      </li>\\n      <li id=\"ham-alfred\" class=\"hover-nav list-group-item\">\\n          <a rel=\"noopener\" target=\"_blank\" class=\"d-flex burger-alfred-gtm\" role=\"menuitem\" href=\"//alfred.stlouisfed.org\">\\n            <span class=\"fred-thin burger-alfred-gtm\">AL</span>\\n            <span class=\"w-100 fred-ultra burger-alfred-gtm\">FRED</span>\\n            <span class=\"flex-shrink-1 float-end switch-icon-padding burger-alfred-gtm\"><div style=\"width: 16px; height: 16px; background-color: #364e71; border-radius: 2px;\"></div></span>\\n        </a>\\n      </li>\\n      <li id=\"ham-fraser\" class=\"hover-nav list-group-item\">\\n          <a rel=\"noopener\" target=\"_blank\" class=\"d-flex burger-fraser-gtm\" role=\"menuitem\" href=\"https://fraser.stlouisfed.org/\">\\n            <span class=\"w-100 fred-ultra burger-fraser-gtm\">FRASER</span>\\n            <span class=\"flex-shrink-1 float-end switch-icon-padding burger-fraser-gtm\"><div style=\"width: 16px; height: 16px; background-color: #364e71; border-radius: 2px;\"></div></span>\\n        </a>\\n      </li>\\n      <li id=\"ham-ecolowdown\" class=\"hover-nav-econ hover-nav list-group-item\">\\n          <a rel=\"noopener\" target=\"_blank\" class=\"d-flex burger-econlowdown-gtm\" role=\"menuitem\" href=\"https://www.econlowdown.org/\">\\n            <span class=\"w-100 fred-ultra-econ burger-econlowdown-gtm\">ECON<br>LOWDOWN</span>\\n              <span class=\"flex-shrink-1 float-end burger-econlowdown-gtm\" style=\"padding-top: 15px\"><div style=\"width: 16px; height: 16px; background-color: #364e71; border-radius: 2px;\"></div></span>\\n        </a>\\n    </li>\\n</ul>\\n  </div>\\n</div>                            </li>\\n                            <li class=\"blueheader-navbar-item center-content-vertically d-none d-lg-block\">\\n                                <div class=\"hidden-xs\" id=\"signin-wrap\">\\n                                    <div id=\"user-nav\" class=\"EL-my-account-link\"></div>\\n                                </div>\\n                            </li>\\n                            <li class=\"blueheader-navbar-item center-content-vertically d-lg-none\">\\n                                <a class=\"hamburger-popover-container header-popover hamburger-gtm\" href=\"#\">\\n    <i id=\"hamburger\" data-toggle=\"popover\" class=\"fas fa-bars hamburger-header\" alt=\"Open Mobile Hamburger Menu\"></i>\\n</a>\\n\\n<div class=\"hide\">\\n    <div id=\"hamburger-popover\">\\n        <div class=\"hamburger-search-padding\">\\n            <div class=\\'input-group\\'>\\n                <input type=\"text\" class=\"form-control search-input nav-search\" placeholder=\"Search FRED data...\">\\n                <button class=\"btn search-submit nav-search-button\" type=\"submit\">\\n                    <i class=\"fa fa-search\" alt=\"Submit Mobile Hamburger Search\"></i>\\n                </button>\\n            </div>\\n        </div>\\n        <div id=\"hamburger-navigation\">\\n            <div id=\"hamburger-home\">\\n                <ul class=\"list-group flush-list hamburger-list col-12\" style=\"padding-bottom: 20px;\">\\n                    <li class=\"list-group-item\">\\n                        <a class=\"burger-calendar-gtm\" href=\"https://fred.stlouisfed.org/releases/calendar\">Release Calendar</a>\\n                    </li>\\n                    <li class=\"list-group-item hamburger-menu-item\" onclick=\"hamburgerMenuNavigation(\\'hamburger-tools\\')\">\\n                        <a class=\"burger-tools-gtm\" href=\"#\">FRED Tools\\n                            <i class=\"fas fa-angle-right hamburger-nxt-page-icon\" alt=\"FRED Tools Hamburger Submenu Icon\"></i>\\n                        </a>\\n                    </li>\\n                    <li class=\"list-group-item\">\\n                        <a class=\"burger-blog-gtm\" href=\"https://fredblog.stlouisfed.org\">FRED Blog</a>\\n                    </li>\\n                    <li class=\"list-group-item\">\\n                        <a class=\"burger-news-gtm\" href=\"https://news.research.stlouisfed.org/category/fred-announcements/\">FRED News</a>\\n                    </li>\\n                    <li class=\"list-group-item hamburger-menu-item\" onclick=\"hamburgerMenuNavigation(\\'hamburger-about-fred\\')\">\\n                        <a class=\"burger-about-gtm\" href=\"#\">About FRED\\n                            <i class=\"fas fa-angle-right hamburger-nxt-page-icon\" alt=\"About FRED Hamburger Submenu Icon\"></i>\\n                        </a>\\n                    </li>\\n                    <li class=\"list-group-item\">\\n                        <a class=\"burger-myaccount-gtm\" href=\"https://fredaccount.stlouisfed.org\">My Account</a>\\n                    </li>\\n                </ul>\\n                <ul class=\"list-group flush-list hamburger-list col-12\" style=\"padding-bottom: 0px;\">\\n                    <li class=\"list-group-item hamburger-menu-item\" onclick=\"hamburgerMenuNavigation(\\'hamburger-products\\')\">\\n                        <a class=\"burger-switch-gtm\" href=\"#\">\\n                            Switch Products<i class=\"fas fa-angle-right hamburger-nxt-page-icon\" alt=\"Switch Products Hamburger Submenu Icon\"></i>\\n                        </a>\\n                    </li>\\n                    <li class=\"list-group-item hamburger-menu-item\" onclick=\"hamburgerMenuNavigation(\\'hamburger-research\\')\">\\n                        <a class=\"burger-resources-gtm\" href=\"#\">\\n                            Economic Research Resources<i class=\"fas fa-angle-right hamburger-nxt-page-icon\" alt=\"Economic Research Resources Hamburger Submenu Icon\"></i>\\n                        </a>\\n                        <p>Explore resources provided by the Research Division at the Federal Reserve Bank of St. Louis.</p>\\n                    </li>\\n                </ui>\\n            </div>\\n            \\n            <div id=\"hamburger-about-fred\" class=\"hide\">\\n                <ul class=\"list-group hamburger-submenu-list col-12\">\\n                    <li class=\"list-group-item hamburger-menu-item\" onclick=\"hamburgerMenuNavigation(\\'hamburger-home\\')\">\\n                        <i class=\"fas fa-angle-left hamburger-previous-page-icon\" alt=\"Return to Mobile/Hamburger Main Menu Icon\"></i>\\n                        About FRED\\n                    </li>\\n                    <li class=\"list-group-item\">\\n                        <a class=\"burger-fred-about-gtm\" href=\"https://fredhelp.stlouisfed.org/fred/about/about-fred/what-is-fred/\"> What is FRED</a>\\n                    </li>\\n                    <li class=\"list-group-item\">\\n                        <a class=\"burger-tutorials-gtm\" href=\"https://fredhelp.stlouisfed.org\"> Tutorials</a>\\n                    </li>\\n                    <li class=\"list-group-item\">\\n                        <a class=\"burger-data-literacy-gtm\" href=\"https://www.stlouisfed.org/education/digital-badges/fred-data-practitioner\">\\n                        Data Literacy\\n                        </a>\\n                    </li>\\n                    <li class=\"list-group-item\">\\n                        <a class=\"burger-contact-us-gtm\" href=\"https://fred.stlouisfed.org/contactus/\"> Contact Us</a>\\n                    </li>\\n                </ul>\\n            </div>\\n            \\n            <div id=\"hamburger-tools\" class=\"hide\">\\n                <ul class=\"list-group hamburger-submenu-list col-12\">\\n                    <li class=\"list-group-item hamburger-menu-item\" onclick=\"hamburgerMenuNavigation(\\'hamburger-home\\')\">\\n                            <i class=\"fas fa-angle-left hamburger-previous-page-icon\" alt=\"Return to Mobile/Hamburger Main Menu Icon\"></i>\\n                            FRED Tools\\n                    </li>\\n                    <li class=\"list-group-item\">\\n                        <a class=\"burger-fred-excel-add-in-gtm\" href=\"https://fred.stlouisfed.org/fred-addin\"> FRED Add-in for Excel</a>\\n                    </li>\\n                    <li class=\"list-group-item\">\\n                        <a class=\"burger-fred-api-gtm\" href=\"https://fred.stlouisfed.org/docs/api/fred\"> FRED API</a>\\n                    </li>\\n                    <li class=\"list-group-item\">\\n                        <a class=\"burger-fred-mobile-apps-gtm\" href=\"https://fred.stlouisfed.org/fred-mobile\"> FRED Mobile Apps</a>\\n                    </li>\\n                </ul>\\n            </div>\\n            \\n            <div id=\"hamburger-research\" class=\"hide\">\\n                <ul class=\"list-group hamburger-submenu-list col-12\">\\n                    <li class=\"list-group-item hamburger-menu-item\" onclick=\"hamburgerMenuNavigation(\\'hamburger-home\\')\">\\n                        <span>\\n                            <i class=\"fas fa-angle-left hamburger-previous-page-icon\" alt=\"Return to Mobile/Hamburger Main Menu Icon\"></i>\\n                            Economic Research Resources\\n                        </span>\\n                    </li>\\n                    <li class=\"list-group-item\">\\n                        <a rel=\"noopener\" target=\"_blank\" class=\"burger-research-news-gtm\" href=\"https://research.stlouisfed.org/publications/research-news\"> Research News</a>\\n                    </li>\\n                    <li class=\"list-group-item\">\\n                        <a rel=\"noopener\" target=\"_blank\" class=\"burger-economists-gtm\" href=\"https://research.stlouisfed.org/econ/\"> Economists</a>\\n                    </li>\\n                    <li class=\"list-group-item\">\\n                        <a rel=\"noopener\" target=\"_blank\" class=\"burger-publications-gtm\" href=\"https://research.stlouisfed.org/publications/\"> Publications</a>\\n                    </li>\\n                    <li class=\"list-group-item\">\\n                        <a rel=\"noopener\" target=\"_blank\" class=\"burger-working-papers-gtm\" href=\"https://research.stlouisfed.org/wp/\"> Working Papers</a>\\n                    </li>\\n                    <li class=\"list-group-item\">\\n                        <a rel=\"noopener\" target=\"_blank\" class=\"burger-info-services-gtm\" href=\"https://research.stlouisfed.org/info-services.html\"> Information Services</a>\\n                    </li>\\n                </ul>\\n            </div>\\n            \\n            <div id=\"hamburger-products\" class=\"hide\">\\n                <ul class=\"list-group hamburger-submenu-list col-12\" style=\"padding-bottom: 0px !important\">\\n                    <li class=\"list-group-item hamburger-menu-item\" onclick=\"hamburgerMenuNavigation(\\'hamburger-home\\')\">\\n                            <i class=\"fas fa-angle-left hamburger-previous-page-icon\" alt=\"Return to Mobile/Hamburger Main Menu Icon\"></i>\\n                            Switch Products\\n                    </li>\\n                </ul>\\n                <ul id=\"switch-prod-list\" class=\"list-group switch-products-list\" role=\"menu\" aria-labelledby=\"switchProduct\">\\n    <li id=\"ham-fred-dev\" class=\"list-group-item product-fred\">\\n        <a class=\"d-flex burger-fred-gtm\" role=\"menuitem\" href=\"//fred.stlouisfed.org\">\\n            <span class=\"w-100 fred-ultra-selected fred-ultra burger-fred-gtm\">FRED</span>\\n            <span class=\"flex-shrink-1 float-end switch-icon-padding burger-fred-gtm\"><img src=\"//fred.stlouisfed.org/images/favicon.ico\" width=\"16\" height=\"16\"></span>\\n        </a>\\n      </li>\\n      <li id=\"ham-alfred\" class=\"hover-nav list-group-item\">\\n          <a rel=\"noopener\" target=\"_blank\" class=\"d-flex burger-alfred-gtm\" role=\"menuitem\" href=\"//alfred.stlouisfed.org\">\\n            <span class=\"fred-thin burger-alfred-gtm\">AL</span>\\n            <span class=\"w-100 fred-ultra burger-alfred-gtm\">FRED</span>\\n            <span class=\"flex-shrink-1 float-end switch-icon-padding burger-alfred-gtm\"><div style=\"width: 16px; height: 16px; background-color: #364e71; border-radius: 2px;\"></div></span>\\n        </a>\\n      </li>\\n      <li id=\"ham-fraser\" class=\"hover-nav list-group-item\">\\n          <a rel=\"noopener\" target=\"_blank\" class=\"d-flex burger-fraser-gtm\" role=\"menuitem\" href=\"https://fraser.stlouisfed.org/\">\\n            <span class=\"w-100 fred-ultra burger-fraser-gtm\">FRASER</span>\\n            <span class=\"flex-shrink-1 float-end switch-icon-padding burger-fraser-gtm\"><div style=\"width: 16px; height: 16px; background-color: #364e71; border-radius: 2px;\"></div></span>\\n        </a>\\n      </li>\\n      <li id=\"ham-ecolowdown\" class=\"hover-nav-econ hover-nav list-group-item\">\\n          <a rel=\"noopener\" target=\"_blank\" class=\"d-flex burger-econlowdown-gtm\" role=\"menuitem\" href=\"https://www.econlowdown.org/\">\\n            <span class=\"w-100 fred-ultra-econ burger-econlowdown-gtm\">ECON<br>LOWDOWN</span>\\n              <span class=\"flex-shrink-1 float-end burger-econlowdown-gtm\" style=\"padding-top: 15px\"><div style=\"width: 16px; height: 16px; background-color: #364e71; border-radius: 2px;\"></div></span>\\n        </a>\\n    </li>\\n</ul>\\n            </div>\\n        </div>\\n    </div>\\n</div>\\n                            </li>\\n                        </ul>\\n                    </nav>\\n                </div>\\n            </div>\\n        <div id=\"notifications-container\"></div>\\n    </nav>\\n    <div class=\\'navbar navbar-expand-lg sub-header EL-header-and-subheader\\'>\\n        <div class=\"container-fluid gx-0\">\\n            <div class=\"col-lg-3 col-md-3 d-none d-lg-block\" style=\"padding-left: 15px; padding-right: 15px;\" >\\n                <a class=\"fred-logo-gtm\" href=\"//fred.stlouisfed.org/\">\\n                        <img id=\"fred-logo-subheader\" src=\"//fred.stlouisfed.org/images/fred-logo-2x.png\" alt=\"FRED Economic Data, St. Louis FED\">\\n                </a>\\n            </div>\\n            <h1 class=\"col-lg-2 fred-trust-text d-none d-xl-block d-flex align-self-center\" role=\"presentation\" style=\"padding: 45px 0px 45px; margin-left: -1px; font-weight:400\">\\n                <p class=\"mb-0\">Your trusted data source</p> <p>since 1991.</p>\\n            </h1>\\n            <div class=\"col d-flex justify-content-end\" style=\"padding-left: 15px; padding-right: 15px;\">\\n                <div class=\"container-fluid gx-0\">\\n                    <div class=\"search-header-div float-end col-8 d-none d-lg-block\">\\n                        <div class=\\'input-group EL-header-search-container\\' id=\"search-container-header\">\\n                            <select id=\"head-search\" class=\\'EL-header-search\\' style=\"\\n                                border-radius: 25px 0 0 25px;\\n                                background-color: #5e88a2;\\n                                border-right: 0;\\n                                color: #fff;\\n                                font-family: Roboto,sans-serif;\\n                                border: none;\\n                                height: 45px;\\n                            \">\\n                                <option></option>\\n                            </select>\\n                            <input type=\"hidden\" name=\"st\" class=\"search-text-input\">\\n                            <button class=\"btn search-submit-select2\" id=\"select2-nav-search-button\" aria-label=\"search\" type=\"submit\">\\n                                <i class=\"fa fa-search\"></i>\\n                            </button>\\n                        </div>\\n                    </div>\\n                    <nav class=\"row col-12 navbar EL-main-nav navbar-expand-sm d-none d-lg-flex\" id=\"subheader-nav\" role=\"navigation\">\\n    <div class=\"navbar-padding navbar-collapse collapse d-flex justify-content-end\">\\n        <ul id=\"subheader-navbar\" class=\"nav float-end navbar-nav\">\\n            <li class=\"nav-li-subheader\">\\n                <a href=\"https://fred.stlouisfed.org/releases/calendar\" class=\"nav-releasecal-subheader-gtm\">Release Calendar</a>\\n            </li>\\n            <li class=\"nav-li-subheader\">\\n              <span class=\"sub-header-nav-tools-gtm  header-popover fred-tools-container\" tabindex=\"0\" aria-labelledby=\"fred-tools-link\">\\n  <span id=\"fred-tools-link\" data-toggle=\"popover\" class=\"align-icon\">FRED Tools\\n    <i class=\"fas fa-angle-down header-icon-padding\" alt=\"Open FRED Tools Menu Icon\"></i>\\n  </span>\\n</span>\\n\\n<div class=\"hide\">\\n  <div id=\"fred-tools-popover\">\\n    <ul class=\"header-list-popover list-group flush-list\">\\n      <li class=\"list-group-item\">\\n        <a class=\"homepage-nav-tools-fred-excel-addin-gtm\" href=\"https://fred.stlouisfed.org/fred-addin\">FRED Add-in for Excel</a>\\n      </li>\\n      <li class=\"list-group-item\">\\n        <a class=\"homepage-nav-tools-fred-api-gtm\" href=\"https://fred.stlouisfed.org/docs/api/fred\">FRED API</a>\\n      </li>\\n      <li class=\"list-group-item\">\\n        <a class=\"homepage-nav-tools-fred-mobile-gtm\" href=\"https://fred.stlouisfed.org/fred-mobile\">FRED Mobile Apps</a>\\n      </li>\\n    </ul>\\n  </div>\\n</div>            </li>\\n            <li class=\"nav-li-subheader\">\\n                <a href=\"https://news.research.stlouisfed.org/category/fred-announcements/\" class=\"nav-news-subheader-gtm\">FRED News</a>\\n            </li>\\n            <li class=\"nav-li-subheader\">\\n                <a href=\"https://fredblog.stlouisfed.org/\" class=\"nav-fredblog-subheader-gtm\">FRED Blog</a>\\n            </li>\\n            <li class=\"nav-li-subheader\">\\n              \\n<span class=\"subheader-nav-about-gtm header-popover about-fred-container\" tabindex=\"0\" aria-labelledby=\"about-fred-link\">\\n  <span id=\"about-fred-link\" data-toggle=\"popover\" class=\"align-icon\">About FRED\\n    <i class=\"fas fa-angle-down header-icon-padding\" alt=\"Open About FRED Menu Icon\"></i>\\n  </span>\\n</span>\\n\\n<div class=\"hide\">\\n  <div id=\"about-fred-popover\">\\n      <ul class=\"header-list-popover list-group flush-list\">\\n        <li class=\"list-group-item\">\\n          <a class=\"about-fred-what-is-gtm\" href=\"https://fredhelp.stlouisfed.org/fred/about/about-fred/what-is-fred/\">\\n            What is FRED\\n          </a>\\n        </li>\\n        <li class=\"list-group-item\">\\n          <a class=\"about-fred-tutorials-gtm\" href=\"https://fredhelp.stlouisfed.org\">\\n            Tutorials\\n          </a>\\n        </li>\\n        <li class=\"list-group-item\">\\n          <a class=\"about-research-data-literacy-gtm\" href=\"https://www.stlouisfed.org/education/digital-badges/fred-data-practitioner\">\\n            Data Literacy\\n          </a>\\n        </li>\\n        <li class=\"list-group-item\">\\n          <a class=\"about-fred-contact-gtm\" href=\"https://fred.stlouisfed.org/contactus/ \">\\n            Contact Us\\n          </a>\\n        </li>\\n      </ul>\\n  </div>\\n</div>\\n            </li>\\n        </ul>\\n    </div>\\n</nav>\\n                </div>\\n            </div>\\n        </div>\\n    </div>\\n    </header>\\n  <div class=\"clear row gx-0\" id=\"content-container\">\\n\\r\\n<!--BEGIN CONTENT-->\\r\\n<div class=\"error-container\">\\r\\n    <h1>Looking for Something?</h1>\\r\\n    <p class=\"large\">We\\'re sorry, the page you were looking for cannot be found. Please feel free\\r\\n        to <a href=\"/contactus/\">contact us</a> if the problem persists.</p>\\r\\n    <p class=\"large\">Searching may help find what are you looking for. If all else fails, you can head\\r\\n        <a href=\"/\">Home</a>\\r\\n    </p>\\r\\n    <form action=\"/searchresults\" id=\"search-form-404\">\\r\\n        <label for=\"search-text\">Search for:</label><br>\\r\\n        <input type=\"text\" name=\"st\" id=\"search-text\" size=\"50\" class=\"form-control\">\\r\\n        <input type=\"submit\" class=\"btn btn-default\" value=\"Search\" id=\"404-search-button\" name=\"404-search-button\">\\r\\n    </form>\\r\\n</div>\\r\\n<link href=\"/css/footer.min.css?1553087256\" rel=\"stylesheet\" media=\"all\">\\r\\n<!--END CONTENT-->\\r\\n<style>\\n    .h2-508 {\\n        font-size: 1em !important;\\n        margin-top:2px !important;\\n        margin-bottom: 2px !important\\n    }\\n</style>\\n\\n    <br class=\"clear\">\\n</div>\\n\\n<div id=\"footer\" class=\"EL-footer hidden-print row \">\\n    <form action=\"//fred.stlouisfed.org/searchresults\" id=\"foot-search-form\" class=\"d-md-none col-12\">\\n        <div id=\"foot-search-container\">\\n            <input type=\"text\" id=\"foot-search\" name=\"st\" class=\"js-placeholder\" title=\"Search FRED\"><button\\n                type=\\'submit\\' class=\"float-end\" id=\"foot-search-button\">&nbsp;</button>\\n        </div>\\n    </form>\\n\\n            <div class=\"col-12 col-md-2\">\\n            <h2 class=\"footer-section-header h2-508\">SERVICES</h2>\\n            <ul>\\n                <li><a href=\"//fred.stlouisfed.org/\">FRED&reg;</a></li>\\n                <li><a href=\"//alfred.stlouisfed.org/\">ALFRED&reg;</a></li>\\n                <li><a href=\"//fraser.stlouisfed.org\">FRASER&reg;</a></li>\\n            </ul>\\n        </div>\\n\\n        <div class=\"col-12 col-md-2 col-lg-3\">\\n            <h2 class=\"footer-section-header h2-508\">RESEARCH</h2>\\n            <ul>\\n                <li><a href=\"//research.stlouisfed.org/regecon/\">Eighth District Economy</a></li>\\n                <li><a href=\"//research.stlouisfed.org/wp/\">Working Papers</a></li>\\n                <li><a href=\"//research.stlouisfed.org/conferences/\">Events</a></li>\\n                <li><a href=\"//research.stlouisfed.org/publications/\">Publications</a></li>\\n            </ul>\\n        </div>\\n\\n        <div class=\"col-12 col-md-3\">\\n            <h2 class=\"h2-508 footer-section-header\">TOOLS</h2>\\n            <ul>\\n                <li><a href=\"//fred.stlouisfed.org/fred-mobile/\">FRED Mobile Apps</a></li>\\n                <li><a href=\"//fred.stlouisfed.org/fred-addin/\">FRED Add-In for Excel&reg;</a></li>\\n                <li><a href=\"//fredhelp.stlouisfed.org/fred/graphs/share-my-fred-graph/embedded-fred-a-widget-just-for-you/\">Embeddable FRED Widget</a></li>\\n                <li><a href=\"//fred.stlouisfed.org/docs/api/fred/\">Developer/APIs</a></li>\\n            </ul>\\n        </div>\\n        <div class=\"col-12 col-md-2 \">\\n            <h2 class=\"h2-508 footer-section-header\">ABOUT</h2>\\n            <ul>\\n                <li><a href=\"//research.stlouisfed.org/jobopps/\">Careers</a></li>\\n                <li><a class=\"contact-hash footer-contactus-link-gtm\" href=\"//fred.stlouisfed.org/contactus/\">Contact</a></li>\\n                <li><a href=\"//fred.stlouisfed.org/legal/\">Legal</a></li>\\n                <li><a href=\"//research.stlouisfed.org/privacy.html\">Privacy Notice & Policy</a></li>\\n            </ul>\\n        </div>\\n        <div class=\"col-12 col-md-3 col-lg-2\">\\n            <h2 class=\"h2-508 footer-section-header\">OUR SITES</h2>\\n            <ul>\\n                <li><a href=\"//www.stlouisfed.org/\">St. Louis Fed</a></li>\\n                <li><a href=\"//research.stlouisfed.org\">Research Division</a></li>\\n                <li><a href=\"//www.stlouisfed.org/education/\">Education Resources</a></li>\\n            </ul>\\n        </div>\\n    </div>\\n\\n<div class=\"footer2 hidden-print row EL-footer2\" style=\"padding-top: 20px;\">\\n    <div class=\"col-12 col-md-3\">\\n        <h3>Need Help?</h3>\\n        <div>\\n            <a class=\"footer-questions-gtm\" href=\"//fred.stlouisfed.org/contactus/\" class=\"q-and-a-link-gtm\">Questions or\\n                Comments</a>\\n        </div>\\n        <div style=\"padding: 10px 0 20px 0;\">\\n            <a class=\"footer-fredhelp-gtm\" href=\"//fredhelp.stlouisfed.org/\">FRED Help</a>\\n        </div>\\n    </div>\\n\\n    <div class=\"col-12 col-md-6\">\\n        <div class=\"col-12\">\\n            <h3>Subscribe to the FRED newsletter</h3>\\n            <form id=\"subscribe-div\" class=\"form-horizontal form-control newsletter-form\" style=\"padding:0;margin:0\">\\n                <div class=\"col-12\" style=\"padding-left: 0;\">\\n                    <div class=\"input-group\">\\n                        <input id=\"subscribe-email-input\" type=\"text\" name=\"email\" placeholder=\"Email\"\\n                            class=\"form-control email\" style=\"padding: 4px 0px 4px 14px;\" aria-label=\"email\">\\n                        <button id=\"subscribe-email-btn\" type=\"button\"\\n                            class=\"btn btn-default subscribe-newsletter-btn-gtm\"\\n                            style=\"color: #333; border-radius: 4px; border-color: #cccccc; padding: 0 7px 0px 7px; font-size: 14px;\">Subscribe</button>\\n                    </div>\\n                </div>\\n            </form>\\n        </div>\\n    </div>\\n    <hr class=\"d-md-none\" style=\"border: none;\">\\n    <div class=\"col-12 col-md-3\">\\n        <h3 style=\"width: 100%; text-align: center;\">Follow us</h3>\\n        <div class=\"col-12\" style=\"text-align: center;\">\\n            <a aria-label=\"Saint Louis Fed twitter page\"  href=\"http://bit.ly/9ngC3L\"><i class=\"fab fa-fw fa-2x fa-twitter\"></i></a>\\n            <a aria-label=\"Saint Louis Fed facebook page\"  href=\"http://bit.ly/HeaderFB\"><i class=\"fab fa-fw fa-2x fa-facebook\"></i></a>\\n            <a aria-label=\"Saint Louis Fed youtube page\"  href=\"http://bit.ly/aY9TVF\"><i class=\"fab fa-fw fa-2x fa-youtube\"></i></a>\\n            <a aria-label=\"Saint Louis Fed linkedin page\"  href=\"http://bit.ly/d056zL\"><i class=\"fab fa-fw fa-2x fa-linkedin\"></i></a>\\n        </div>\\n    </div>\\n</div>\\n\\n<div class=\"hidden-print d-md-none\">\\n    <a style=\"margin: 5px; display: block; padding:5px 10px; text-align: center\" href=\"#top\">Back to Top</a>\\n</div>\\n\\n<div id=\"footer-bottom\" class=\"EL-footer-bottom\">\\n    <div id=\"address\">\\n        Federal Reserve Bank of St. Louis,\\n        One Federal Reserve Bank Plaza,\\n        St. Louis, MO 63102\\n    </div>\\n</div>\\n\\n<script>\\n    // function to parse cookies, and return the value\\n    function getCookie(name) {\\n        var cookies = document.cookie.split(\\';\\');\\n        for (var i in cookies) {\\n            var cookie = cookies[i].trim().split(\\'=\\');\\n            if (cookie[0] == name) {\\n                return cookie[1];\\n            }\\n        }\\n        return null;\\n    }\\n    // certain pages in FRED set a custom tag variable\\n    // this gets sent to Google Analytics so we can see what tags people are using\\n    if (window.tags) {\\n        dataLayer.push({ \\'tags\\': tags });\\n\\n    }\\n\\n    // if the user is logged in, send the value of the liruid cookie to Google Analytics\\n    var researchLiruid = getCookie(\\'research-liruid\\');\\n    dataLayer.push({ \\'userId\\': researchLiruid });\\n\\n</script>\\n<script src=\"//fred.stlouisfed.org/assets/jquery/dist/1692737410.jquery.min.js\" type=\"text/javascript\"></script>\\n<script src=\"//fred.stlouisfed.org/assets/popperjs/dist/umd/1692737410.popper.min.js\"></script>\\n<script src=\"//fred.stlouisfed.org/assets/bootstrap/dist/js/1692737410.bootstrap.min.js\"></script>\\n<script src=\"//fred.stlouisfed.org/assets/select2/dist/js/1686149278.select2.full.min.js\"></script>\\n<script>\\n    // force expire the .fred.stlouisfed.org _ga cookie\\n    document.cookie = document.cookie + \\'_ga=;domain=.fred.stlouisfed.org;expires=Sat, 01-Jan-2000 00:00:00 GMT\\';\\n</script>\\n\\n<script defer src=\"//fred.stlouisfed.org/assets/jquery-menu-aim/1696526512.jquery.menu-aim.min.js\"></script>\\n\\n<script src=\"//fred.stlouisfed.org/js/1696526514.common.min.js\"></script>\\n\\n<script src=\"//fred.stlouisfed.org/assets/js-cookie/src/js.cookie.js\"></script>\\n<!-- script defer src=\"//fred.stlouisfed.org/js/1686260124.banner.js\"></script-->\\n\\n<script src=\"//fred.stlouisfed.org/js/1696526512.508.min.js\"></script>\\n\\n<script>\\n    var appConfig = {\\n        uapi_host: \\'https://fred.stlouisfed.org/uapi\\',\\n        research_host: \\'https://research.stlouisfed.org\\',\\n        fred_host: \\'https://fred.stlouisfed.org\\',\\n        alfred_host: \\'https://alfred.stlouisfed.org\\',\\n        gsi_client_id: \\'115290014367-vpb89b600koe9kn0njeeq38c1unfr3gk.apps.googleusercontent.com\\',\\n        fred_account_host: \\'https://fredaccount.stlouisfed.org\\',\\n    };\\n\\n    var domain_suffix = (window.location.hostname.split(\".\")[0].split(\"-\")[1] || \\'\\');\\n    appConfig.logged_in = Cookies.get(\\'research-lirua\\' + (domain_suffix ? \\'-\\' + domain_suffix : \\'\\')) !== null && Cookies.get(\\'research-lirua\\' + (domain_suffix ? \\'-\\' + domain_suffix : \\'\\')) !== undefined;\\n    var getAuth = function (callback) {\\n        if (typeof callback === \\'function\\') {\\n            callback();\\n        }\\n        return;\\n    };\\n    window.getAuth = getAuth;\\n\\n</script>\\n<script src=\"//accounts.google.com/gsi/client\" async defer></script>\\n<script src=\"//fred.stlouisfed.org/assets/research/fred-account-react/dist/1695316313.main.dist.js\"></script>\\n<script src=\"//fred.stlouisfed.org/assets/research/fred-account-react/dist/1695316313.vendor.dist.js\"></script>\\n\\n<script type=\"text/javascript\">\\n    window.addEventListener(\"DOMContentLoaded\", function(){\\n        $(document).ready(function () {\\n            // handle tabbing into and out of the subscribe text box\\n            $(\\'#subscribe-email-input\\').on(\\'focusout\\', function() {\\n              $(this).css(\\'outline-color\\', \\'white\\');\\n            });\\n\\n            $(\\'#subscribe-email-input\\').on(\\'keyup\\', function(e) {\\n              if (e.key == \\'Tab\\') { // tab into search input\\n                $(\\'#subscribe-email-input\\').css({\\'outline-color\\': \\'#364E71\\'});\\n              }\\n            });\\n\\n\\n        });\\n    });\\n</script>\\r\\n</body>\\r\\n</html>\\r\\n'"
     ]
    }
   ],
   "source": [
    "securities = {'BAMLCC0A0CMTRIV'   : 'US Corp Master TRI',\n",
    "              'BAMLHYH0A0HYM2TRIV': 'US High Yield TRI',\n",
    "              'BAMLEMCBPITRIV'    : 'Emerging Markets Corporate Plus TRI',\n",
    "              'GOLDAMGBD228NLBM'  : 'Gold (London, USD)',\n",
    "              'DGS10'             : '10-Year Treasury CMR',\n",
    "              }\n",
    "\n",
    "df = web.DataReader(name=list(securities.keys()), data_source='fred', start=2000)\n",
    "df = df.rename(columns=securities).dropna(how='all').resample('B').mean()\n",
    "\n",
    "with pd.HDFStore(DATA_STORE) as store:\n",
    "    store.put('fred/assets', df)"
   ]
  },
  {
   "cell_type": "code",
   "execution_count": null,
   "metadata": {},
   "outputs": [],
   "source": []
  }
 ],
 "metadata": {
  "kernelspec": {
   "display_name": "Python 3 (ipykernel)",
   "language": "python",
   "name": "python3"
  },
  "language_info": {
   "codemirror_mode": {
    "name": "ipython",
    "version": 3
   },
   "file_extension": ".py",
   "mimetype": "text/x-python",
   "name": "python",
   "nbconvert_exporter": "python",
   "pygments_lexer": "ipython3",
   "version": "3.8.17"
  },
  "toc": {
   "base_numbering": 1,
   "nav_menu": {},
   "number_sections": true,
   "sideBar": true,
   "skip_h1_title": true,
   "title_cell": "Table of Contents",
   "title_sidebar": "Contents",
   "toc_cell": false,
   "toc_position": {},
   "toc_section_display": true,
   "toc_window_display": true
  }
 },
 "nbformat": 4,
 "nbformat_minor": 4
}
