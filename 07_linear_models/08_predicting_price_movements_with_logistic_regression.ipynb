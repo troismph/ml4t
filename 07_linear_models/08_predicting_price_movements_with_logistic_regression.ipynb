{
 "cells": [
  {
   "cell_type": "markdown",
   "metadata": {},
   "source": [
    "# Predicting stock price moves with Logistic Regression"
   ]
  },
  {
   "cell_type": "markdown",
   "metadata": {},
   "source": [
    "## Imports & Settings"
   ]
  },
  {
   "cell_type": "code",
   "execution_count": 1,
   "metadata": {
    "ExecuteTime": {
     "end_time": "2021-04-15T20:17:11.301878Z",
     "start_time": "2021-04-15T20:17:11.299202Z"
    }
   },
   "outputs": [],
   "source": [
    "import warnings\n",
    "warnings.filterwarnings('ignore')"
   ]
  },
  {
   "cell_type": "code",
   "execution_count": 2,
   "metadata": {
    "ExecuteTime": {
     "end_time": "2021-04-15T20:17:11.924039Z",
     "start_time": "2021-04-15T20:17:11.308933Z"
    }
   },
   "outputs": [],
   "source": [
    "from pathlib import Path\n",
    "import sys, os\n",
    "from time import time\n",
    "\n",
    "import pandas as pd\n",
    "import numpy as np\n",
    "\n",
    "from scipy.stats import spearmanr\n",
    "\n",
    "from sklearn.metrics import roc_auc_score\n",
    "from sklearn.linear_model import LogisticRegression\n",
    "from sklearn.pipeline import Pipeline\n",
    "from sklearn.preprocessing import StandardScaler\n",
    "\n",
    "import seaborn as sns\n",
    "import matplotlib.pyplot as plt"
   ]
  },
  {
   "cell_type": "code",
   "execution_count": 3,
   "metadata": {
    "ExecuteTime": {
     "end_time": "2021-04-15T20:17:11.932987Z",
     "start_time": "2021-04-15T20:17:11.925127Z"
    }
   },
   "outputs": [],
   "source": [
    "sys.path.insert(1, os.path.join(sys.path[0], '..'))\n",
    "from utils import MultipleTimeSeriesCV"
   ]
  },
  {
   "cell_type": "code",
   "execution_count": 4,
   "metadata": {
    "ExecuteTime": {
     "end_time": "2021-04-15T20:17:11.947014Z",
     "start_time": "2021-04-15T20:17:11.934249Z"
    }
   },
   "outputs": [],
   "source": [
    "sns.set_style('darkgrid')\n",
    "idx = pd.IndexSlice"
   ]
  },
  {
   "cell_type": "code",
   "execution_count": 6,
   "metadata": {
    "ExecuteTime": {
     "end_time": "2021-04-15T20:17:11.966976Z",
     "start_time": "2021-04-15T20:17:11.948028Z"
    }
   },
   "outputs": [],
   "source": [
    "YEAR = 252\n",
    "DATA_STORE = \"../data/linear.h5\""
   ]
  },
  {
   "cell_type": "markdown",
   "metadata": {},
   "source": [
    "## Load Data"
   ]
  },
  {
   "cell_type": "code",
   "execution_count": 7,
   "metadata": {
    "ExecuteTime": {
     "end_time": "2021-04-15T20:17:14.277183Z",
     "start_time": "2021-04-15T20:17:11.967819Z"
    }
   },
   "outputs": [],
   "source": [
    "with pd.HDFStore(DATA_STORE) as store:\n",
    "    data = (store['model_data']\n",
    "            .dropna()\n",
    "            .drop(['open', 'close', 'low', 'high'], axis=1))\n",
    "data = data.drop([c for c in data.columns if 'year' in c or 'lag' in c], axis=1)"
   ]
  },
  {
   "cell_type": "markdown",
   "metadata": {},
   "source": [
    "### Select Investment Universe"
   ]
  },
  {
   "cell_type": "code",
   "execution_count": 8,
   "metadata": {
    "ExecuteTime": {
     "end_time": "2021-04-15T20:17:14.301403Z",
     "start_time": "2021-04-15T20:17:14.280282Z"
    }
   },
   "outputs": [],
   "source": [
    "data = data[data.dollar_vol_rank<100]"
   ]
  },
  {
   "cell_type": "markdown",
   "metadata": {},
   "source": [
    "### Create Model Data"
   ]
  },
  {
   "cell_type": "code",
   "execution_count": 9,
   "metadata": {
    "ExecuteTime": {
     "end_time": "2021-04-15T20:17:14.311605Z",
     "start_time": "2021-04-15T20:17:14.302306Z"
    }
   },
   "outputs": [],
   "source": [
    "y = data.filter(like='target')\n",
    "X = data.drop(y.columns, axis=1)\n",
    "X = X.drop(['dollar_vol', 'dollar_vol_rank', 'volume', 'consumer_durables'], axis=1)"
   ]
  },
  {
   "cell_type": "markdown",
   "metadata": {},
   "source": [
    "## Logistic Regression"
   ]
  },
  {
   "cell_type": "markdown",
   "metadata": {},
   "source": [
    "### Define cross-validation parameters"
   ]
  },
  {
   "cell_type": "code",
   "execution_count": 10,
   "metadata": {
    "ExecuteTime": {
     "end_time": "2021-04-15T20:17:14.322985Z",
     "start_time": "2021-04-15T20:17:14.312772Z"
    }
   },
   "outputs": [],
   "source": [
    "train_period_length = 63\n",
    "test_period_length = 10\n",
    "lookahead =1\n",
    "n_splits = int(3 * YEAR/test_period_length)\n",
    "\n",
    "cv = MultipleTimeSeriesCV(n_splits=n_splits,\n",
    "                          test_period_length=test_period_length,\n",
    "                          lookahead=lookahead,\n",
    "                          train_period_length=train_period_length)"
   ]
  },
  {
   "cell_type": "code",
   "execution_count": 11,
   "metadata": {
    "ExecuteTime": {
     "end_time": "2021-04-15T20:17:14.332416Z",
     "start_time": "2021-04-15T20:17:14.323914Z"
    }
   },
   "outputs": [],
   "source": [
    "target = f'target_{lookahead}d'"
   ]
  },
  {
   "cell_type": "code",
   "execution_count": 12,
   "metadata": {
    "ExecuteTime": {
     "end_time": "2021-04-15T20:17:14.911301Z",
     "start_time": "2021-04-15T20:17:14.333178Z"
    }
   },
   "outputs": [
    {
     "data": {
      "text/plain": [
       "label\n",
       "1    56486\n",
       "0    53189\n",
       "Name: count, dtype: int64"
      ]
     },
     "execution_count": 12,
     "metadata": {},
     "output_type": "execute_result"
    }
   ],
   "source": [
    "y.loc[:, 'label'] = (y[target] > 0).astype(int)\n",
    "y.label.value_counts()"
   ]
  },
  {
   "cell_type": "code",
   "execution_count": 13,
   "metadata": {
    "ExecuteTime": {
     "end_time": "2021-04-15T20:17:14.914240Z",
     "start_time": "2021-04-15T20:17:14.912145Z"
    }
   },
   "outputs": [],
   "source": [
    "Cs = np.logspace(-5, 5, 11)"
   ]
  },
  {
   "cell_type": "code",
   "execution_count": 14,
   "metadata": {
    "ExecuteTime": {
     "end_time": "2021-04-15T20:17:14.927937Z",
     "start_time": "2021-04-15T20:17:14.915111Z"
    }
   },
   "outputs": [],
   "source": [
    "cols = ['C', 'date', 'auc', 'ic', 'pval']"
   ]
  },
  {
   "cell_type": "markdown",
   "metadata": {},
   "source": [
    "### Run cross-validation"
   ]
  },
  {
   "cell_type": "code",
   "execution_count": 15,
   "metadata": {
    "ExecuteTime": {
     "end_time": "2021-04-15T20:19:33.666469Z",
     "start_time": "2021-04-15T20:17:14.928766Z"
    }
   },
   "outputs": [
    {
     "name": "stdout",
     "output_type": "stream",
     "text": [
      "9.999999999999999e-06\n",
      "\t  6.9 | 010 |  -0.52% |  50.30%\n",
      "\t 13.0 | 020 |   1.71% |  51.82%\n",
      "\t 19.2 | 030 |   2.81% |  52.05%\n",
      "\t 29.3 | 040 |   3.25% |  52.06%\n",
      "\t 39.9 | 050 |   3.98% |  52.58%\n",
      "\t 50.5 | 060 |   3.64% |  52.25%\n",
      "\t 61.2 | 070 |   4.46% |  52.60%\n",
      "9.999999999999999e-05\n",
      "\t 10.6 | 010 |  -0.26% |  50.50%\n",
      "\t 21.2 | 020 |   2.06% |  52.01%\n",
      "\t 31.9 | 030 |   3.14% |  52.27%\n",
      "\t 42.5 | 040 |   3.29% |  52.15%\n",
      "\t 53.1 | 050 |   3.99% |  52.64%\n",
      "\t 63.7 | 060 |   3.70% |  52.32%\n",
      "\t 74.3 | 070 |   4.57% |  52.69%\n",
      "0.001\n",
      "\t 10.6 | 010 |   0.35% |  50.89%\n",
      "\t 21.3 | 020 |   2.42% |  52.15%\n",
      "\t 31.9 | 030 |   3.53% |  52.47%\n",
      "\t 42.5 | 040 |   3.15% |  52.11%\n",
      "\t 53.1 | 050 |   3.86% |  52.60%\n",
      "\t 63.7 | 060 |   3.91% |  52.40%\n",
      "\t 74.4 | 070 |   4.82% |  52.79%\n",
      "0.01\n",
      "\t 10.7 | 010 |   0.68% |  51.02%\n",
      "\t 21.5 | 020 |   2.22% |  51.89%\n",
      "\t 32.2 | 030 |   3.55% |  52.34%\n",
      "\t 43.0 | 040 |   3.00% |  51.90%\n",
      "\t 53.7 | 050 |   3.70% |  52.43%\n",
      "\t 64.4 | 060 |   3.96% |  52.32%\n",
      "\t 75.1 | 070 |   4.75% |  52.68%\n",
      "0.09999999999999999\n",
      "\t 10.9 | 010 |   0.85% |  51.04%\n",
      "\t 21.6 | 020 |   2.18% |  51.78%\n",
      "\t 32.4 | 030 |   3.55% |  52.27%\n",
      "\t 43.2 | 040 |   2.94% |  51.82%\n",
      "\t 54.1 | 050 |   3.61% |  52.33%\n",
      "\t 64.9 | 060 |   3.88% |  52.26%\n",
      "\t 75.8 | 070 |   4.62% |  52.60%\n",
      "1.0\n",
      "\t 10.8 | 010 |   0.86% |  51.03%\n",
      "\t 21.7 | 020 |   2.17% |  51.76%\n",
      "\t 32.6 | 030 |   3.55% |  52.25%\n",
      "\t 43.5 | 040 |   2.93% |  51.80%\n",
      "\t 54.4 | 050 |   3.58% |  52.32%\n",
      "\t 65.2 | 060 |   3.86% |  52.25%\n",
      "\t 76.0 | 070 |   4.58% |  52.58%\n",
      "10.0\n",
      "\t 10.8 | 010 |   0.87% |  51.03%\n",
      "\t 21.6 | 020 |   2.17% |  51.76%\n",
      "\t 32.4 | 030 |   3.55% |  52.25%\n",
      "\t 43.2 | 040 |   2.93% |  51.80%\n",
      "\t 54.0 | 050 |   3.59% |  52.32%\n",
      "\t 64.9 | 060 |   3.86% |  52.25%\n",
      "\t 75.7 | 070 |   4.58% |  52.58%\n",
      "100.0\n",
      "\t 10.8 | 010 |   0.87% |  51.03%\n",
      "\t 21.6 | 020 |   2.17% |  51.76%\n",
      "\t 32.4 | 030 |   3.55% |  52.25%\n",
      "\t 43.3 | 040 |   2.93% |  51.80%\n",
      "\t 54.2 | 050 |   3.58% |  52.32%\n",
      "\t 65.0 | 060 |   3.86% |  52.24%\n",
      "\t 75.8 | 070 |   4.58% |  52.58%\n",
      "1000.0\n",
      "\t 10.9 | 010 |   0.87% |  51.03%\n",
      "\t 21.7 | 020 |   2.17% |  51.76%\n",
      "\t 32.5 | 030 |   3.55% |  52.25%\n",
      "\t 43.3 | 040 |   2.93% |  51.80%\n",
      "\t 54.1 | 050 |   3.58% |  52.32%\n",
      "\t 65.0 | 060 |   3.86% |  52.24%\n",
      "\t 75.8 | 070 |   4.58% |  52.58%\n",
      "10000.0\n",
      "\t 10.8 | 010 |   0.87% |  51.03%\n",
      "\t 21.6 | 020 |   2.17% |  51.76%\n",
      "\t 32.4 | 030 |   3.55% |  52.25%\n",
      "\t 43.2 | 040 |   2.93% |  51.80%\n",
      "\t 54.1 | 050 |   3.58% |  52.32%\n",
      "\t 64.9 | 060 |   3.86% |  52.24%\n",
      "\t 75.8 | 070 |   4.58% |  52.58%\n",
      "100000.0\n",
      "\t 10.9 | 010 |   0.87% |  51.03%\n",
      "\t 21.7 | 020 |   2.17% |  51.76%\n",
      "\t 32.6 | 030 |   3.55% |  52.25%\n",
      "\t 43.3 | 040 |   2.93% |  51.80%\n",
      "\t 54.2 | 050 |   3.58% |  52.32%\n",
      "\t 65.1 | 060 |   3.86% |  52.24%\n",
      "\t 75.9 | 070 |   4.58% |  52.58%\n",
      "CPU times: user 11min 56s, sys: 42min 52s, total: 54min 48s\n",
      "Wall time: 14min 35s\n"
     ]
    }
   ],
   "source": [
    "%%time\n",
    "log_coeffs, log_scores, log_predictions = {}, [], []\n",
    "for C in Cs:\n",
    "    print(C)\n",
    "    model = LogisticRegression(C=C,\n",
    "                               fit_intercept=True,\n",
    "                               random_state=42,\n",
    "                               n_jobs=-1)\n",
    "\n",
    "    pipe = Pipeline([\n",
    "        ('scaler', StandardScaler()),\n",
    "        ('model', model)])\n",
    "    ics = aucs = 0\n",
    "    start = time()\n",
    "    coeffs = []\n",
    "    for i, (train_idx, test_idx) in enumerate(cv.split(X), 1):\n",
    "        X_train, y_train, = X.iloc[train_idx], y.label.iloc[train_idx]\n",
    "        pipe.fit(X=X_train, y=y_train)\n",
    "        X_test, y_test = X.iloc[test_idx], y.label.iloc[test_idx]\n",
    "        actuals = y[target].iloc[test_idx]\n",
    "        if len(y_test) < 10 or len(np.unique(y_test)) < 2:\n",
    "            continue\n",
    "        y_score = pipe.predict_proba(X_test)[:, 1]\n",
    "       \n",
    "        auc = roc_auc_score(y_score=y_score, y_true=y_test)\n",
    "        actuals = y[target].iloc[test_idx]\n",
    "        ic, pval = spearmanr(y_score, actuals)\n",
    "\n",
    "        log_predictions.append(y_test.to_frame('labels').assign(\n",
    "            predicted=y_score, C=C, actuals=actuals))\n",
    "        date = y_test.index.get_level_values('date').min()\n",
    "        log_scores.append([C, date, auc, ic * 100, pval])\n",
    "        coeffs.append(pipe.named_steps['model'].coef_)\n",
    "        ics += ic\n",
    "        aucs += auc\n",
    "        if i % 10 == 0:\n",
    "            print(f'\\t{time()-start:5.1f} | {i:03} | {ics/i:>7.2%} | {aucs/i:>7.2%}')\n",
    "\n",
    "    log_coeffs[C] = np.mean(coeffs, axis=0).squeeze()"
   ]
  },
  {
   "cell_type": "markdown",
   "metadata": {},
   "source": [
    "### Evaluate Results"
   ]
  },
  {
   "cell_type": "code",
   "execution_count": 16,
   "metadata": {
    "ExecuteTime": {
     "end_time": "2021-04-15T20:19:33.956450Z",
     "start_time": "2021-04-15T20:19:33.667672Z"
    }
   },
   "outputs": [],
   "source": [
    "log_scores = pd.DataFrame(log_scores, columns=cols)\n",
    "log_scores.to_hdf(DATA_STORE, 'logistic/scores')\n",
    "\n",
    "log_coeffs = pd.DataFrame(log_coeffs, index=X.columns).T\n",
    "log_coeffs.to_hdf(DATA_STORE, 'logistic/coeffs')\n",
    "\n",
    "log_predictions = pd.concat(log_predictions)\n",
    "log_predictions.to_hdf(DATA_STORE, 'logistic/predictions')"
   ]
  },
  {
   "cell_type": "code",
   "execution_count": 17,
   "metadata": {
    "ExecuteTime": {
     "end_time": "2021-04-15T20:19:33.965130Z",
     "start_time": "2021-04-15T20:19:33.957366Z"
    }
   },
   "outputs": [],
   "source": [
    "log_scores = pd.read_hdf(DATA_STORE, 'logistic/scores')"
   ]
  },
  {
   "cell_type": "code",
   "execution_count": 18,
   "metadata": {
    "ExecuteTime": {
     "end_time": "2021-04-15T20:19:33.977971Z",
     "start_time": "2021-04-15T20:19:33.966220Z"
    }
   },
   "outputs": [
    {
     "name": "stdout",
     "output_type": "stream",
     "text": [
      "<class 'pandas.core.frame.DataFrame'>\n",
      "Index: 825 entries, 0 to 824\n",
      "Data columns (total 5 columns):\n",
      " #   Column  Non-Null Count  Dtype         \n",
      "---  ------  --------------  -----         \n",
      " 0   C       825 non-null    float64       \n",
      " 1   date    825 non-null    datetime64[ns]\n",
      " 2   auc     825 non-null    float64       \n",
      " 3   ic      825 non-null    float64       \n",
      " 4   pval    825 non-null    float64       \n",
      "dtypes: datetime64[ns](1), float64(4)\n",
      "memory usage: 38.7 KB\n"
     ]
    }
   ],
   "source": [
    "log_scores.info()"
   ]
  },
  {
   "cell_type": "code",
   "execution_count": 19,
   "metadata": {
    "ExecuteTime": {
     "end_time": "2021-04-15T20:19:34.020011Z",
     "start_time": "2021-04-15T20:19:33.979814Z"
    }
   },
   "outputs": [
    {
     "data": {
      "text/html": [
       "<div>\n",
       "<style scoped>\n",
       "    .dataframe tbody tr th:only-of-type {\n",
       "        vertical-align: middle;\n",
       "    }\n",
       "\n",
       "    .dataframe tbody tr th {\n",
       "        vertical-align: top;\n",
       "    }\n",
       "\n",
       "    .dataframe thead th {\n",
       "        text-align: right;\n",
       "    }\n",
       "</style>\n",
       "<table border=\"1\" class=\"dataframe\">\n",
       "  <thead>\n",
       "    <tr style=\"text-align: right;\">\n",
       "      <th></th>\n",
       "      <th>count</th>\n",
       "      <th>mean</th>\n",
       "      <th>std</th>\n",
       "      <th>min</th>\n",
       "      <th>25%</th>\n",
       "      <th>50%</th>\n",
       "      <th>75%</th>\n",
       "      <th>max</th>\n",
       "    </tr>\n",
       "    <tr>\n",
       "      <th>C</th>\n",
       "      <th></th>\n",
       "      <th></th>\n",
       "      <th></th>\n",
       "      <th></th>\n",
       "      <th></th>\n",
       "      <th></th>\n",
       "      <th></th>\n",
       "      <th></th>\n",
       "    </tr>\n",
       "  </thead>\n",
       "  <tbody>\n",
       "    <tr>\n",
       "      <th>0.00001</th>\n",
       "      <td>75.0</td>\n",
       "      <td>0.524727</td>\n",
       "      <td>0.038275</td>\n",
       "      <td>0.431912</td>\n",
       "      <td>0.500632</td>\n",
       "      <td>0.519320</td>\n",
       "      <td>0.552299</td>\n",
       "      <td>0.616825</td>\n",
       "    </tr>\n",
       "    <tr>\n",
       "      <th>0.00010</th>\n",
       "      <td>75.0</td>\n",
       "      <td>0.525483</td>\n",
       "      <td>0.037057</td>\n",
       "      <td>0.438916</td>\n",
       "      <td>0.501516</td>\n",
       "      <td>0.518826</td>\n",
       "      <td>0.548637</td>\n",
       "      <td>0.618981</td>\n",
       "    </tr>\n",
       "    <tr>\n",
       "      <th>0.00100</th>\n",
       "      <td>75.0</td>\n",
       "      <td>0.526241</td>\n",
       "      <td>0.036067</td>\n",
       "      <td>0.448197</td>\n",
       "      <td>0.505144</td>\n",
       "      <td>0.519013</td>\n",
       "      <td>0.545363</td>\n",
       "      <td>0.625923</td>\n",
       "    </tr>\n",
       "    <tr>\n",
       "      <th>0.01000</th>\n",
       "      <td>75.0</td>\n",
       "      <td>0.525099</td>\n",
       "      <td>0.035628</td>\n",
       "      <td>0.458651</td>\n",
       "      <td>0.499935</td>\n",
       "      <td>0.517017</td>\n",
       "      <td>0.546895</td>\n",
       "      <td>0.629195</td>\n",
       "    </tr>\n",
       "    <tr>\n",
       "      <th>0.10000</th>\n",
       "      <td>75.0</td>\n",
       "      <td>0.524362</td>\n",
       "      <td>0.035420</td>\n",
       "      <td>0.465096</td>\n",
       "      <td>0.497714</td>\n",
       "      <td>0.519180</td>\n",
       "      <td>0.544727</td>\n",
       "      <td>0.629268</td>\n",
       "    </tr>\n",
       "    <tr>\n",
       "      <th>1.00000</th>\n",
       "      <td>75.0</td>\n",
       "      <td>0.524209</td>\n",
       "      <td>0.035361</td>\n",
       "      <td>0.464805</td>\n",
       "      <td>0.497591</td>\n",
       "      <td>0.519053</td>\n",
       "      <td>0.544633</td>\n",
       "      <td>0.629237</td>\n",
       "    </tr>\n",
       "    <tr>\n",
       "      <th>10.00000</th>\n",
       "      <td>75.0</td>\n",
       "      <td>0.524213</td>\n",
       "      <td>0.035358</td>\n",
       "      <td>0.464805</td>\n",
       "      <td>0.497628</td>\n",
       "      <td>0.519147</td>\n",
       "      <td>0.544651</td>\n",
       "      <td>0.629279</td>\n",
       "    </tr>\n",
       "    <tr>\n",
       "      <th>100.00000</th>\n",
       "      <td>75.0</td>\n",
       "      <td>0.524209</td>\n",
       "      <td>0.035356</td>\n",
       "      <td>0.464801</td>\n",
       "      <td>0.497649</td>\n",
       "      <td>0.519139</td>\n",
       "      <td>0.544631</td>\n",
       "      <td>0.629268</td>\n",
       "    </tr>\n",
       "    <tr>\n",
       "      <th>1000.00000</th>\n",
       "      <td>75.0</td>\n",
       "      <td>0.524208</td>\n",
       "      <td>0.035356</td>\n",
       "      <td>0.464793</td>\n",
       "      <td>0.497644</td>\n",
       "      <td>0.519147</td>\n",
       "      <td>0.544635</td>\n",
       "      <td>0.629268</td>\n",
       "    </tr>\n",
       "    <tr>\n",
       "      <th>10000.00000</th>\n",
       "      <td>75.0</td>\n",
       "      <td>0.524207</td>\n",
       "      <td>0.035355</td>\n",
       "      <td>0.464793</td>\n",
       "      <td>0.497644</td>\n",
       "      <td>0.519147</td>\n",
       "      <td>0.544635</td>\n",
       "      <td>0.629263</td>\n",
       "    </tr>\n",
       "    <tr>\n",
       "      <th>100000.00000</th>\n",
       "      <td>75.0</td>\n",
       "      <td>0.524207</td>\n",
       "      <td>0.035355</td>\n",
       "      <td>0.464793</td>\n",
       "      <td>0.497644</td>\n",
       "      <td>0.519147</td>\n",
       "      <td>0.544635</td>\n",
       "      <td>0.629263</td>\n",
       "    </tr>\n",
       "  </tbody>\n",
       "</table>\n",
       "</div>"
      ],
      "text/plain": [
       "              count      mean       std       min       25%       50%  \\\n",
       "C                                                                       \n",
       "0.00001        75.0  0.524727  0.038275  0.431912  0.500632  0.519320   \n",
       "0.00010        75.0  0.525483  0.037057  0.438916  0.501516  0.518826   \n",
       "0.00100        75.0  0.526241  0.036067  0.448197  0.505144  0.519013   \n",
       "0.01000        75.0  0.525099  0.035628  0.458651  0.499935  0.517017   \n",
       "0.10000        75.0  0.524362  0.035420  0.465096  0.497714  0.519180   \n",
       "1.00000        75.0  0.524209  0.035361  0.464805  0.497591  0.519053   \n",
       "10.00000       75.0  0.524213  0.035358  0.464805  0.497628  0.519147   \n",
       "100.00000      75.0  0.524209  0.035356  0.464801  0.497649  0.519139   \n",
       "1000.00000     75.0  0.524208  0.035356  0.464793  0.497644  0.519147   \n",
       "10000.00000    75.0  0.524207  0.035355  0.464793  0.497644  0.519147   \n",
       "100000.00000   75.0  0.524207  0.035355  0.464793  0.497644  0.519147   \n",
       "\n",
       "                   75%       max  \n",
       "C                                 \n",
       "0.00001       0.552299  0.616825  \n",
       "0.00010       0.548637  0.618981  \n",
       "0.00100       0.545363  0.625923  \n",
       "0.01000       0.546895  0.629195  \n",
       "0.10000       0.544727  0.629268  \n",
       "1.00000       0.544633  0.629237  \n",
       "10.00000      0.544651  0.629279  \n",
       "100.00000     0.544631  0.629268  \n",
       "1000.00000    0.544635  0.629268  \n",
       "10000.00000   0.544635  0.629263  \n",
       "100000.00000  0.544635  0.629263  "
      ]
     },
     "execution_count": 19,
     "metadata": {},
     "output_type": "execute_result"
    }
   ],
   "source": [
    "log_scores.groupby('C').auc.describe()"
   ]
  },
  {
   "cell_type": "markdown",
   "metadata": {},
   "source": [
    "### Plot Validation Scores"
   ]
  },
  {
   "cell_type": "code",
   "execution_count": 20,
   "metadata": {
    "ExecuteTime": {
     "end_time": "2021-04-15T20:19:34.023860Z",
     "start_time": "2021-04-15T20:19:34.020958Z"
    }
   },
   "outputs": [],
   "source": [
    "def plot_ic_distribution(df, ax=None):\n",
    "    if ax is not None:\n",
    "        sns.distplot(df.ic, ax=ax)    \n",
    "    else:\n",
    "        ax = sns.distplot(df.ic)\n",
    "    mean, median = df.ic.mean(), df.ic.median()\n",
    "    ax.axvline(0, lw=1, ls='--', c='k')\n",
    "    ax.text(x=.05, y=.9, s=f'Mean: {mean:8.2f}\\nMedian: {median:5.2f}',\n",
    "            horizontalalignment='left',\n",
    "            verticalalignment='center',\n",
    "            transform=ax.transAxes)\n",
    "    ax.set_xlabel('Information Coefficient')\n",
    "    sns.despine()\n",
    "    plt.tight_layout()"
   ]
  },
  {
   "cell_type": "code",
   "execution_count": 21,
   "metadata": {
    "ExecuteTime": {
     "end_time": "2021-04-15T20:19:34.625209Z",
     "start_time": "2021-04-15T20:19:34.025174Z"
    }
   },
   "outputs": [
    {
     "data": {
      "image/png": "[encoded data removed]",
      "text/plain": [
       "<Figure size 1500x500 with 2 Axes>"
      ]
     },
     "metadata": {},
     "output_type": "display_data"
    }
   ],
   "source": [
    "fig, axes= plt.subplots(ncols=2, figsize=(15, 5))\n",
    "\n",
    "sns.lineplot(x='C', y='auc', data=log_scores, estimator=np.mean, label='Mean', ax=axes[0])\n",
    "by_alpha = log_scores.groupby('C').auc.agg(['mean', 'median'])\n",
    "best_auc = by_alpha['mean'].idxmax()\n",
    "by_alpha['median'].plot(logx=True, ax=axes[0], label='Median', xlim=(10e-6, 10e5))\n",
    "axes[0].axvline(best_auc, ls='--', c='k', lw=1, label='Max. Mean')\n",
    "axes[0].axvline(by_alpha['median'].idxmax(), ls='-.', c='k', lw=1, label='Max. Median')\n",
    "axes[0].legend()\n",
    "axes[0].set_ylabel('AUC')\n",
    "axes[0].set_xscale('log')\n",
    "axes[0].set_title('Area Under the Curve')\n",
    "\n",
    "plot_ic_distribution(log_scores[log_scores.C==best_auc], ax=axes[1])\n",
    "axes[1].set_title('Information Coefficient')\n",
    "\n",
    "fig.suptitle('Logistic Regression', fontsize=14)\n",
    "sns.despine()\n",
    "fig.tight_layout()\n",
    "fig.subplots_adjust(top=.9);"
   ]
  },
  {
   "cell_type": "code",
   "execution_count": null,
   "metadata": {},
   "outputs": [],
   "source": []
  }
 ],
 "metadata": {
  "kernelspec": {
   "display_name": "Python 3 (ipykernel)",
   "language": "python",
   "name": "python3"
  },
  "language_info": {
   "codemirror_mode": {
    "name": "ipython",
    "version": 3
   },
   "file_extension": ".py",
   "mimetype": "text/x-python",
   "name": "python",
   "nbconvert_exporter": "python",
   "pygments_lexer": "ipython3",
   "version": "3.8.17"
  },
  "toc": {
   "base_numbering": 1,
   "nav_menu": {},
   "number_sections": true,
   "sideBar": true,
   "skip_h1_title": true,
   "title_cell": "Table of Contents",
   "title_sidebar": "Contents",
   "toc_cell": false,
   "toc_position": {},
   "toc_section_display": true,
   "toc_window_display": true
  }
 },
 "nbformat": 4,
 "nbformat_minor": 4
}
