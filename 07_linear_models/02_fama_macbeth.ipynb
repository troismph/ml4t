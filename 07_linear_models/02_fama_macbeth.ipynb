{
 "cells": [
  {
   "cell_type": "markdown",
   "metadata": {},
   "source": [
    "# How to build a linear factor model"
   ]
  },
  {
   "cell_type": "markdown",
   "metadata": {},
   "source": [
    "Algorithmic trading strategies use linear factor models to quantify the relationship between the return of an asset and the sources of risk that represent the main drivers of these returns. Each factor risk carries a premium, and the total asset return can be expected to correspond to a weighted average of these risk premia."
   ]
  },
  {
   "cell_type": "markdown",
   "metadata": {},
   "source": [
    "There are several practical applications of factor models across the portfolio management process from construction and asset selection to risk management and performance evaluation. The importance of factor models continues to grow as common risk factors are now tradeable:\n",
    "\n",
    "- A summary of the returns of many assets by a much smaller number of factors reduces the amount of data required to estimate the covariance matrix when optimizing a portfolio\n",
    "- An estimate of the exposure of an asset or a portfolio to these factors allows for the management of the resultant risk, for instance by entering suitable hedges when risk factors are themselves traded\n",
    "- A factor model also permits the assessment of the incremental signal content of new alpha factors\n",
    "- A factor model can also help assess whether a manager's performance relative to a benchmark is indeed due to skill in selecting assets and timing the market, or if instead, the performance can be explained by portfolio tilts towards known return drivers that can today be replicated as low-cost, passively managed funds without incurring active management fees"
   ]
  },
  {
   "cell_type": "markdown",
   "metadata": {},
   "source": [
    "## Imports & Settings"
   ]
  },
  {
   "cell_type": "code",
   "execution_count": 1,
   "metadata": {
    "ExecuteTime": {
     "end_time": "2021-04-15T19:55:07.984117Z",
     "start_time": "2021-04-15T19:55:07.982285Z"
    }
   },
   "outputs": [],
   "source": [
    "import warnings\n",
    "warnings.filterwarnings('ignore')"
   ]
  },
  {
   "cell_type": "code",
   "execution_count": 3,
   "metadata": {
    "ExecuteTime": {
     "end_time": "2021-04-15T19:55:09.073976Z",
     "start_time": "2021-04-15T19:55:08.102748Z"
    }
   },
   "outputs": [],
   "source": [
    "import pandas as pd\n",
    "import numpy as np\n",
    "\n",
    "from statsmodels.api import OLS, add_constant\n",
    "import pandas_datareader.data as web\n",
    "\n",
    "from linearmodels.asset_pricing import LinearFactorModel\n",
    "\n",
    "import matplotlib.pyplot as plt\n",
    "import seaborn as sns"
   ]
  },
  {
   "cell_type": "code",
   "execution_count": 4,
   "metadata": {
    "ExecuteTime": {
     "end_time": "2021-04-15T19:55:09.077317Z",
     "start_time": "2021-04-15T19:55:09.075045Z"
    }
   },
   "outputs": [],
   "source": [
    "sns.set_style('whitegrid')"
   ]
  },
  {
   "cell_type": "markdown",
   "metadata": {},
   "source": [
    "## Get Data"
   ]
  },
  {
   "cell_type": "markdown",
   "metadata": {},
   "source": [
    "Fama and French make updated risk factor and research portfolio data available through their [website](http://mba.tuck.dartmouth.edu/pages/faculty/ken.french/data_library.html), and you can use the `pandas_datareader` package to obtain the data."
   ]
  },
  {
   "cell_type": "markdown",
   "metadata": {},
   "source": [
    "### Risk Factors"
   ]
  },
  {
   "cell_type": "markdown",
   "metadata": {},
   "source": [
    "In particular, we will be using the five Fama—French factors that result from sorting stocks first into three size groups and then into two for each of the remaining three firm-specific factors. \n",
    "\n",
    "Hence, the factors involve three sets of value-weighted portfolios formed as 3 x 2 sorts on size and book-to-market, size and operating profitability, and size and investment. The risk factor values computed as the average returns of the portfolios (PF) as outlined in the following table:"
   ]
  },
  {
   "cell_type": "markdown",
   "metadata": {},
   "source": [
    "| Label | Name                          | Description                                                                                                                                                                               |\n",
    "|-------|-------------------------------|-------------------------------------------------------------------------------------------------------------------------------------------------------------------------------------------|\n",
    "| SMB   | Small Minus Big               | Average return on the nine small stock portfolios minus the average return on the nine big stock portfolios                                                                               |\n",
    "| HML   | High Minus Low                | Average return on the two value portfolios minus the average return on the two growth portfolios                                                                                          |\n",
    "| RMW   | Robust minus Weak             | Average return on the two robust operating profitability portfolios minus the average return on the two weak operating profitability portfolios                                           |\n",
    "| CMA   | Conservative Minus Aggressive | Average return on the two conservative investment portfolios minus the average return on the two aggressive investment portfolios                                                         |\n",
    "| Rm-Rf | Excess return on the market   | Value-weight return of all firms incorporated in the US and listed on the NYSE, AMEX, or NASDAQ at the beginning of month t with 'good' data for t minus the one-month Treasury bill rate |"
   ]
  },
  {
   "cell_type": "markdown",
   "metadata": {},
   "source": [
    "The Fama-French 5 factors are based on the 6 value-weight portfolios formed on size and book-to-market, the 6 value-weight portfolios formed on size and operating profitability, and the 6 value-weight portfolios formed on size and investment."
   ]
  },
  {
   "cell_type": "markdown",
   "metadata": {},
   "source": [
    "We will use returns at a monthly frequency that we obtain for the period 2010 – 2017 as follows:"
   ]
  },
  {
   "cell_type": "code",
   "execution_count": 5,
   "metadata": {
    "ExecuteTime": {
     "end_time": "2021-04-15T19:55:13.367412Z",
     "start_time": "2021-04-15T19:55:13.065455Z"
    }
   },
   "outputs": [
    {
     "name": "stdout",
     "output_type": "stream",
     "text": [
      "<class 'pandas.core.frame.DataFrame'>\n",
      "PeriodIndex: 96 entries, 2010-01 to 2017-12\n",
      "Freq: M\n",
      "Data columns (total 6 columns):\n",
      " #   Column  Non-Null Count  Dtype  \n",
      "---  ------  --------------  -----  \n",
      " 0   Mkt-RF  96 non-null     float64\n",
      " 1   SMB     96 non-null     float64\n",
      " 2   HML     96 non-null     float64\n",
      " 3   RMW     96 non-null     float64\n",
      " 4   CMA     96 non-null     float64\n",
      " 5   RF      96 non-null     float64\n",
      "dtypes: float64(6)\n",
      "memory usage: 5.2 KB\n"
     ]
    }
   ],
   "source": [
    "ff_factor = 'F-F_Research_Data_5_Factors_2x3'\n",
    "ff_factor_data = web.DataReader(ff_factor, 'famafrench', start='2010', end='2017-12')[0]\n",
    "ff_factor_data.info()"
   ]
  },
  {
   "cell_type": "code",
   "execution_count": 6,
   "metadata": {
    "ExecuteTime": {
     "end_time": "2021-04-15T19:55:13.386698Z",
     "start_time": "2021-04-15T19:55:13.368623Z"
    }
   },
   "outputs": [
    {
     "data": {
      "text/html": [
       "<div>\n",
       "<style scoped>\n",
       "    .dataframe tbody tr th:only-of-type {\n",
       "        vertical-align: middle;\n",
       "    }\n",
       "\n",
       "    .dataframe tbody tr th {\n",
       "        vertical-align: top;\n",
       "    }\n",
       "\n",
       "    .dataframe thead th {\n",
       "        text-align: right;\n",
       "    }\n",
       "</style>\n",
       "<table border=\"1\" class=\"dataframe\">\n",
       "  <thead>\n",
       "    <tr style=\"text-align: right;\">\n",
       "      <th></th>\n",
       "      <th>Mkt-RF</th>\n",
       "      <th>SMB</th>\n",
       "      <th>HML</th>\n",
       "      <th>RMW</th>\n",
       "      <th>CMA</th>\n",
       "      <th>RF</th>\n",
       "    </tr>\n",
       "  </thead>\n",
       "  <tbody>\n",
       "    <tr>\n",
       "      <th>count</th>\n",
       "      <td>96.000000</td>\n",
       "      <td>96.000000</td>\n",
       "      <td>96.000000</td>\n",
       "      <td>96.000000</td>\n",
       "      <td>96.000000</td>\n",
       "      <td>96.000000</td>\n",
       "    </tr>\n",
       "    <tr>\n",
       "      <th>mean</th>\n",
       "      <td>1.158438</td>\n",
       "      <td>0.060417</td>\n",
       "      <td>-0.049792</td>\n",
       "      <td>0.128750</td>\n",
       "      <td>0.047917</td>\n",
       "      <td>0.012604</td>\n",
       "    </tr>\n",
       "    <tr>\n",
       "      <th>std</th>\n",
       "      <td>3.580012</td>\n",
       "      <td>2.302008</td>\n",
       "      <td>2.202941</td>\n",
       "      <td>1.581701</td>\n",
       "      <td>1.411604</td>\n",
       "      <td>0.022583</td>\n",
       "    </tr>\n",
       "    <tr>\n",
       "      <th>min</th>\n",
       "      <td>-7.890000</td>\n",
       "      <td>-4.550000</td>\n",
       "      <td>-4.700000</td>\n",
       "      <td>-3.880000</td>\n",
       "      <td>-3.250000</td>\n",
       "      <td>0.000000</td>\n",
       "    </tr>\n",
       "    <tr>\n",
       "      <th>25%</th>\n",
       "      <td>-0.917500</td>\n",
       "      <td>-1.695000</td>\n",
       "      <td>-1.662500</td>\n",
       "      <td>-1.090000</td>\n",
       "      <td>-0.952500</td>\n",
       "      <td>0.000000</td>\n",
       "    </tr>\n",
       "    <tr>\n",
       "      <th>50%</th>\n",
       "      <td>1.235000</td>\n",
       "      <td>0.205000</td>\n",
       "      <td>-0.310000</td>\n",
       "      <td>0.190000</td>\n",
       "      <td>-0.005000</td>\n",
       "      <td>0.000000</td>\n",
       "    </tr>\n",
       "    <tr>\n",
       "      <th>75%</th>\n",
       "      <td>3.197500</td>\n",
       "      <td>1.590000</td>\n",
       "      <td>1.205000</td>\n",
       "      <td>1.197500</td>\n",
       "      <td>0.922500</td>\n",
       "      <td>0.010000</td>\n",
       "    </tr>\n",
       "    <tr>\n",
       "      <th>max</th>\n",
       "      <td>11.350000</td>\n",
       "      <td>7.070000</td>\n",
       "      <td>8.210000</td>\n",
       "      <td>3.480000</td>\n",
       "      <td>3.700000</td>\n",
       "      <td>0.090000</td>\n",
       "    </tr>\n",
       "  </tbody>\n",
       "</table>\n",
       "</div>"
      ],
      "text/plain": [
       "          Mkt-RF        SMB        HML        RMW        CMA         RF\n",
       "count  96.000000  96.000000  96.000000  96.000000  96.000000  96.000000\n",
       "mean    1.158438   0.060417  -0.049792   0.128750   0.047917   0.012604\n",
       "std     3.580012   2.302008   2.202941   1.581701   1.411604   0.022583\n",
       "min    -7.890000  -4.550000  -4.700000  -3.880000  -3.250000   0.000000\n",
       "25%    -0.917500  -1.695000  -1.662500  -1.090000  -0.952500   0.000000\n",
       "50%     1.235000   0.205000  -0.310000   0.190000  -0.005000   0.000000\n",
       "75%     3.197500   1.590000   1.205000   1.197500   0.922500   0.010000\n",
       "max    11.350000   7.070000   8.210000   3.480000   3.700000   0.090000"
      ]
     },
     "execution_count": 6,
     "metadata": {},
     "output_type": "execute_result"
    }
   ],
   "source": [
    "ff_factor_data.describe()"
   ]
  },
  {
   "cell_type": "code",
   "execution_count": 10,
   "metadata": {},
   "outputs": [
    {
     "data": {
      "text/html": [
       "<div>\n",
       "<style scoped>\n",
       "    .dataframe tbody tr th:only-of-type {\n",
       "        vertical-align: middle;\n",
       "    }\n",
       "\n",
       "    .dataframe tbody tr th {\n",
       "        vertical-align: top;\n",
       "    }\n",
       "\n",
       "    .dataframe thead th {\n",
       "        text-align: right;\n",
       "    }\n",
       "</style>\n",
       "<table border=\"1\" class=\"dataframe\">\n",
       "  <thead>\n",
       "    <tr style=\"text-align: right;\">\n",
       "      <th></th>\n",
       "      <th>Mkt-RF</th>\n",
       "      <th>SMB</th>\n",
       "      <th>HML</th>\n",
       "      <th>RMW</th>\n",
       "      <th>CMA</th>\n",
       "      <th>RF</th>\n",
       "    </tr>\n",
       "    <tr>\n",
       "      <th>Date</th>\n",
       "      <th></th>\n",
       "      <th></th>\n",
       "      <th></th>\n",
       "      <th></th>\n",
       "      <th></th>\n",
       "      <th></th>\n",
       "    </tr>\n",
       "  </thead>\n",
       "  <tbody>\n",
       "    <tr>\n",
       "      <th>2010-01</th>\n",
       "      <td>-3.36</td>\n",
       "      <td>0.34</td>\n",
       "      <td>0.43</td>\n",
       "      <td>-1.27</td>\n",
       "      <td>0.46</td>\n",
       "      <td>0.00</td>\n",
       "    </tr>\n",
       "    <tr>\n",
       "      <th>2010-02</th>\n",
       "      <td>3.40</td>\n",
       "      <td>1.51</td>\n",
       "      <td>3.23</td>\n",
       "      <td>-0.27</td>\n",
       "      <td>1.43</td>\n",
       "      <td>0.00</td>\n",
       "    </tr>\n",
       "    <tr>\n",
       "      <th>2010-03</th>\n",
       "      <td>6.31</td>\n",
       "      <td>1.85</td>\n",
       "      <td>2.21</td>\n",
       "      <td>-0.65</td>\n",
       "      <td>1.69</td>\n",
       "      <td>0.01</td>\n",
       "    </tr>\n",
       "    <tr>\n",
       "      <th>2010-04</th>\n",
       "      <td>2.00</td>\n",
       "      <td>4.98</td>\n",
       "      <td>2.89</td>\n",
       "      <td>0.69</td>\n",
       "      <td>1.72</td>\n",
       "      <td>0.01</td>\n",
       "    </tr>\n",
       "    <tr>\n",
       "      <th>2010-05</th>\n",
       "      <td>-7.89</td>\n",
       "      <td>0.04</td>\n",
       "      <td>-2.44</td>\n",
       "      <td>1.30</td>\n",
       "      <td>-0.21</td>\n",
       "      <td>0.01</td>\n",
       "    </tr>\n",
       "    <tr>\n",
       "      <th>...</th>\n",
       "      <td>...</td>\n",
       "      <td>...</td>\n",
       "      <td>...</td>\n",
       "      <td>...</td>\n",
       "      <td>...</td>\n",
       "      <td>...</td>\n",
       "    </tr>\n",
       "    <tr>\n",
       "      <th>2017-08</th>\n",
       "      <td>0.16</td>\n",
       "      <td>-1.82</td>\n",
       "      <td>-2.09</td>\n",
       "      <td>0.14</td>\n",
       "      <td>-2.38</td>\n",
       "      <td>0.09</td>\n",
       "    </tr>\n",
       "    <tr>\n",
       "      <th>2017-09</th>\n",
       "      <td>2.51</td>\n",
       "      <td>4.78</td>\n",
       "      <td>3.14</td>\n",
       "      <td>-1.47</td>\n",
       "      <td>1.69</td>\n",
       "      <td>0.09</td>\n",
       "    </tr>\n",
       "    <tr>\n",
       "      <th>2017-10</th>\n",
       "      <td>2.25</td>\n",
       "      <td>-1.94</td>\n",
       "      <td>0.20</td>\n",
       "      <td>0.93</td>\n",
       "      <td>-3.25</td>\n",
       "      <td>0.09</td>\n",
       "    </tr>\n",
       "    <tr>\n",
       "      <th>2017-11</th>\n",
       "      <td>3.12</td>\n",
       "      <td>-0.33</td>\n",
       "      <td>-0.03</td>\n",
       "      <td>3.16</td>\n",
       "      <td>-0.05</td>\n",
       "      <td>0.08</td>\n",
       "    </tr>\n",
       "    <tr>\n",
       "      <th>2017-12</th>\n",
       "      <td>1.06</td>\n",
       "      <td>-1.07</td>\n",
       "      <td>0.06</td>\n",
       "      <td>0.74</td>\n",
       "      <td>1.69</td>\n",
       "      <td>0.09</td>\n",
       "    </tr>\n",
       "  </tbody>\n",
       "</table>\n",
       "<p>96 rows × 6 columns</p>\n",
       "</div>"
      ],
      "text/plain": [
       "         Mkt-RF   SMB   HML   RMW   CMA    RF\n",
       "Date                                         \n",
       "2010-01   -3.36  0.34  0.43 -1.27  0.46  0.00\n",
       "2010-02    3.40  1.51  3.23 -0.27  1.43  0.00\n",
       "2010-03    6.31  1.85  2.21 -0.65  1.69  0.01\n",
       "2010-04    2.00  4.98  2.89  0.69  1.72  0.01\n",
       "2010-05   -7.89  0.04 -2.44  1.30 -0.21  0.01\n",
       "...         ...   ...   ...   ...   ...   ...\n",
       "2017-08    0.16 -1.82 -2.09  0.14 -2.38  0.09\n",
       "2017-09    2.51  4.78  3.14 -1.47  1.69  0.09\n",
       "2017-10    2.25 -1.94  0.20  0.93 -3.25  0.09\n",
       "2017-11    3.12 -0.33 -0.03  3.16 -0.05  0.08\n",
       "2017-12    1.06 -1.07  0.06  0.74  1.69  0.09\n",
       "\n",
       "[96 rows x 6 columns]"
      ]
     },
     "execution_count": 10,
     "metadata": {},
     "output_type": "execute_result"
    }
   ],
   "source": [
    "ff_factor_data"
   ]
  },
  {
   "cell_type": "markdown",
   "metadata": {},
   "source": [
    "### Portfolios"
   ]
  },
  {
   "cell_type": "markdown",
   "metadata": {},
   "source": [
    "Fama and French also make available numerous portfolios that we can illustrate the estimation of the factor exposures, as well as the value of the risk premia available in the market for a given time period. We will use a panel of the 17 industry portfolios at a monthly frequency. \n",
    "\n",
    "We will subtract the risk-free rate from the returns because the factor model works with excess returns:"
   ]
  },
  {
   "cell_type": "code",
   "execution_count": 7,
   "metadata": {
    "ExecuteTime": {
     "end_time": "2021-04-15T19:55:14.483710Z",
     "start_time": "2021-04-15T19:55:13.388307Z"
    }
   },
   "outputs": [
    {
     "name": "stdout",
     "output_type": "stream",
     "text": [
      "<class 'pandas.core.frame.DataFrame'>\n",
      "PeriodIndex: 96 entries, 2010-01 to 2017-12\n",
      "Freq: M\n",
      "Data columns (total 17 columns):\n",
      " #   Column  Non-Null Count  Dtype  \n",
      "---  ------  --------------  -----  \n",
      " 0   Food    96 non-null     float64\n",
      " 1   Mines   96 non-null     float64\n",
      " 2   Oil     96 non-null     float64\n",
      " 3   Clths   96 non-null     float64\n",
      " 4   Durbl   96 non-null     float64\n",
      " 5   Chems   96 non-null     float64\n",
      " 6   Cnsum   96 non-null     float64\n",
      " 7   Cnstr   96 non-null     float64\n",
      " 8   Steel   96 non-null     float64\n",
      " 9   FabPr   96 non-null     float64\n",
      " 10  Machn   96 non-null     float64\n",
      " 11  Cars    96 non-null     float64\n",
      " 12  Trans   96 non-null     float64\n",
      " 13  Utils   96 non-null     float64\n",
      " 14  Rtail   96 non-null     float64\n",
      " 15  Finan   96 non-null     float64\n",
      " 16  Other   96 non-null     float64\n",
      "dtypes: float64(17)\n",
      "memory usage: 13.5 KB\n"
     ]
    }
   ],
   "source": [
    "ff_portfolio = '17_Industry_Portfolios'\n",
    "ff_portfolio_data = web.DataReader(ff_portfolio, 'famafrench', start='2010', end='2017-12')[0]\n",
    "ff_portfolio_data = ff_portfolio_data.sub(ff_factor_data.RF, axis=0)\n",
    "ff_portfolio_data.info()"
   ]
  },
  {
   "cell_type": "code",
   "execution_count": 9,
   "metadata": {},
   "outputs": [
    {
     "data": {
      "text/html": [
       "<div>\n",
       "<style scoped>\n",
       "    .dataframe tbody tr th:only-of-type {\n",
       "        vertical-align: middle;\n",
       "    }\n",
       "\n",
       "    .dataframe tbody tr th {\n",
       "        vertical-align: top;\n",
       "    }\n",
       "\n",
       "    .dataframe thead th {\n",
       "        text-align: right;\n",
       "    }\n",
       "</style>\n",
       "<table border=\"1\" class=\"dataframe\">\n",
       "  <thead>\n",
       "    <tr style=\"text-align: right;\">\n",
       "      <th></th>\n",
       "      <th>Food</th>\n",
       "      <th>Mines</th>\n",
       "      <th>Oil</th>\n",
       "      <th>Clths</th>\n",
       "      <th>Durbl</th>\n",
       "      <th>Chems</th>\n",
       "      <th>Cnsum</th>\n",
       "      <th>Cnstr</th>\n",
       "      <th>Steel</th>\n",
       "      <th>FabPr</th>\n",
       "      <th>Machn</th>\n",
       "      <th>Cars</th>\n",
       "      <th>Trans</th>\n",
       "      <th>Utils</th>\n",
       "      <th>Rtail</th>\n",
       "      <th>Finan</th>\n",
       "      <th>Other</th>\n",
       "    </tr>\n",
       "    <tr>\n",
       "      <th>Date</th>\n",
       "      <th></th>\n",
       "      <th></th>\n",
       "      <th></th>\n",
       "      <th></th>\n",
       "      <th></th>\n",
       "      <th></th>\n",
       "      <th></th>\n",
       "      <th></th>\n",
       "      <th></th>\n",
       "      <th></th>\n",
       "      <th></th>\n",
       "      <th></th>\n",
       "      <th></th>\n",
       "      <th></th>\n",
       "      <th></th>\n",
       "      <th></th>\n",
       "      <th></th>\n",
       "    </tr>\n",
       "  </thead>\n",
       "  <tbody>\n",
       "    <tr>\n",
       "      <th>2010-01</th>\n",
       "      <td>-2.15</td>\n",
       "      <td>-12.94</td>\n",
       "      <td>-4.79</td>\n",
       "      <td>-3.63</td>\n",
       "      <td>-3.50</td>\n",
       "      <td>-4.33</td>\n",
       "      <td>-0.47</td>\n",
       "      <td>-2.88</td>\n",
       "      <td>-12.49</td>\n",
       "      <td>-2.91</td>\n",
       "      <td>-7.34</td>\n",
       "      <td>0.36</td>\n",
       "      <td>-2.13</td>\n",
       "      <td>-4.44</td>\n",
       "      <td>-1.29</td>\n",
       "      <td>-0.65</td>\n",
       "      <td>-3.91</td>\n",
       "    </tr>\n",
       "    <tr>\n",
       "      <th>2010-02</th>\n",
       "      <td>1.75</td>\n",
       "      <td>12.41</td>\n",
       "      <td>2.32</td>\n",
       "      <td>7.18</td>\n",
       "      <td>9.80</td>\n",
       "      <td>5.77</td>\n",
       "      <td>1.33</td>\n",
       "      <td>5.92</td>\n",
       "      <td>4.48</td>\n",
       "      <td>7.35</td>\n",
       "      <td>7.27</td>\n",
       "      <td>6.60</td>\n",
       "      <td>6.16</td>\n",
       "      <td>-0.42</td>\n",
       "      <td>3.69</td>\n",
       "      <td>2.91</td>\n",
       "      <td>2.57</td>\n",
       "    </tr>\n",
       "    <tr>\n",
       "      <th>2010-03</th>\n",
       "      <td>4.96</td>\n",
       "      <td>7.32</td>\n",
       "      <td>3.19</td>\n",
       "      <td>11.23</td>\n",
       "      <td>5.50</td>\n",
       "      <td>7.45</td>\n",
       "      <td>3.24</td>\n",
       "      <td>5.54</td>\n",
       "      <td>11.98</td>\n",
       "      <td>5.32</td>\n",
       "      <td>7.77</td>\n",
       "      <td>8.82</td>\n",
       "      <td>8.98</td>\n",
       "      <td>3.11</td>\n",
       "      <td>6.49</td>\n",
       "      <td>8.30</td>\n",
       "      <td>6.19</td>\n",
       "    </tr>\n",
       "    <tr>\n",
       "      <th>2010-04</th>\n",
       "      <td>-1.36</td>\n",
       "      <td>-0.76</td>\n",
       "      <td>4.30</td>\n",
       "      <td>4.91</td>\n",
       "      <td>6.88</td>\n",
       "      <td>2.55</td>\n",
       "      <td>-1.99</td>\n",
       "      <td>10.80</td>\n",
       "      <td>-2.95</td>\n",
       "      <td>3.42</td>\n",
       "      <td>4.82</td>\n",
       "      <td>6.55</td>\n",
       "      <td>2.91</td>\n",
       "      <td>2.84</td>\n",
       "      <td>1.33</td>\n",
       "      <td>1.12</td>\n",
       "      <td>1.41</td>\n",
       "    </tr>\n",
       "    <tr>\n",
       "      <th>2010-05</th>\n",
       "      <td>-4.86</td>\n",
       "      <td>-8.01</td>\n",
       "      <td>-10.15</td>\n",
       "      <td>-6.29</td>\n",
       "      <td>-5.43</td>\n",
       "      <td>-10.63</td>\n",
       "      <td>-6.25</td>\n",
       "      <td>-8.12</td>\n",
       "      <td>-7.48</td>\n",
       "      <td>-8.97</td>\n",
       "      <td>-8.08</td>\n",
       "      <td>-7.20</td>\n",
       "      <td>-7.56</td>\n",
       "      <td>-6.30</td>\n",
       "      <td>-5.73</td>\n",
       "      <td>-9.11</td>\n",
       "      <td>-8.04</td>\n",
       "    </tr>\n",
       "    <tr>\n",
       "      <th>...</th>\n",
       "      <td>...</td>\n",
       "      <td>...</td>\n",
       "      <td>...</td>\n",
       "      <td>...</td>\n",
       "      <td>...</td>\n",
       "      <td>...</td>\n",
       "      <td>...</td>\n",
       "      <td>...</td>\n",
       "      <td>...</td>\n",
       "      <td>...</td>\n",
       "      <td>...</td>\n",
       "      <td>...</td>\n",
       "      <td>...</td>\n",
       "      <td>...</td>\n",
       "      <td>...</td>\n",
       "      <td>...</td>\n",
       "      <td>...</td>\n",
       "    </tr>\n",
       "    <tr>\n",
       "      <th>2017-08</th>\n",
       "      <td>-1.89</td>\n",
       "      <td>0.70</td>\n",
       "      <td>-5.21</td>\n",
       "      <td>-4.41</td>\n",
       "      <td>-3.85</td>\n",
       "      <td>1.54</td>\n",
       "      <td>0.51</td>\n",
       "      <td>-0.47</td>\n",
       "      <td>1.58</td>\n",
       "      <td>-1.51</td>\n",
       "      <td>1.24</td>\n",
       "      <td>0.77</td>\n",
       "      <td>1.54</td>\n",
       "      <td>2.08</td>\n",
       "      <td>-1.38</td>\n",
       "      <td>-1.38</td>\n",
       "      <td>1.60</td>\n",
       "    </tr>\n",
       "    <tr>\n",
       "      <th>2017-09</th>\n",
       "      <td>-0.36</td>\n",
       "      <td>-1.21</td>\n",
       "      <td>10.89</td>\n",
       "      <td>1.13</td>\n",
       "      <td>4.39</td>\n",
       "      <td>6.97</td>\n",
       "      <td>0.60</td>\n",
       "      <td>7.74</td>\n",
       "      <td>3.64</td>\n",
       "      <td>7.29</td>\n",
       "      <td>5.63</td>\n",
       "      <td>7.44</td>\n",
       "      <td>4.66</td>\n",
       "      <td>-2.04</td>\n",
       "      <td>0.63</td>\n",
       "      <td>5.18</td>\n",
       "      <td>0.16</td>\n",
       "    </tr>\n",
       "    <tr>\n",
       "      <th>2017-10</th>\n",
       "      <td>0.89</td>\n",
       "      <td>1.14</td>\n",
       "      <td>0.32</td>\n",
       "      <td>2.96</td>\n",
       "      <td>-1.73</td>\n",
       "      <td>4.70</td>\n",
       "      <td>-3.72</td>\n",
       "      <td>3.99</td>\n",
       "      <td>2.14</td>\n",
       "      <td>1.67</td>\n",
       "      <td>6.07</td>\n",
       "      <td>1.07</td>\n",
       "      <td>-0.33</td>\n",
       "      <td>2.93</td>\n",
       "      <td>3.98</td>\n",
       "      <td>3.28</td>\n",
       "      <td>2.45</td>\n",
       "    </tr>\n",
       "    <tr>\n",
       "      <th>2017-11</th>\n",
       "      <td>4.17</td>\n",
       "      <td>0.78</td>\n",
       "      <td>2.80</td>\n",
       "      <td>7.22</td>\n",
       "      <td>3.75</td>\n",
       "      <td>2.24</td>\n",
       "      <td>2.62</td>\n",
       "      <td>6.90</td>\n",
       "      <td>-1.47</td>\n",
       "      <td>0.30</td>\n",
       "      <td>2.32</td>\n",
       "      <td>2.44</td>\n",
       "      <td>5.48</td>\n",
       "      <td>2.34</td>\n",
       "      <td>8.78</td>\n",
       "      <td>3.88</td>\n",
       "      <td>1.67</td>\n",
       "    </tr>\n",
       "    <tr>\n",
       "      <th>2017-12</th>\n",
       "      <td>1.21</td>\n",
       "      <td>11.28</td>\n",
       "      <td>5.01</td>\n",
       "      <td>3.72</td>\n",
       "      <td>-2.40</td>\n",
       "      <td>0.48</td>\n",
       "      <td>1.76</td>\n",
       "      <td>3.75</td>\n",
       "      <td>13.12</td>\n",
       "      <td>0.52</td>\n",
       "      <td>0.26</td>\n",
       "      <td>-0.61</td>\n",
       "      <td>3.01</td>\n",
       "      <td>-5.07</td>\n",
       "      <td>1.44</td>\n",
       "      <td>0.94</td>\n",
       "      <td>0.57</td>\n",
       "    </tr>\n",
       "  </tbody>\n",
       "</table>\n",
       "<p>96 rows × 17 columns</p>\n",
       "</div>"
      ],
      "text/plain": [
       "         Food   Mines  Oil    Clths  Durbl  Chems  Cnsum  Cnstr  Steel  FabPr  \\\n",
       "Date                                                                            \n",
       "2010-01  -2.15 -12.94  -4.79  -3.63  -3.50  -4.33  -0.47  -2.88 -12.49  -2.91   \n",
       "2010-02   1.75  12.41   2.32   7.18   9.80   5.77   1.33   5.92   4.48   7.35   \n",
       "2010-03   4.96   7.32   3.19  11.23   5.50   7.45   3.24   5.54  11.98   5.32   \n",
       "2010-04  -1.36  -0.76   4.30   4.91   6.88   2.55  -1.99  10.80  -2.95   3.42   \n",
       "2010-05  -4.86  -8.01 -10.15  -6.29  -5.43 -10.63  -6.25  -8.12  -7.48  -8.97   \n",
       "...        ...    ...    ...    ...    ...    ...    ...    ...    ...    ...   \n",
       "2017-08  -1.89   0.70  -5.21  -4.41  -3.85   1.54   0.51  -0.47   1.58  -1.51   \n",
       "2017-09  -0.36  -1.21  10.89   1.13   4.39   6.97   0.60   7.74   3.64   7.29   \n",
       "2017-10   0.89   1.14   0.32   2.96  -1.73   4.70  -3.72   3.99   2.14   1.67   \n",
       "2017-11   4.17   0.78   2.80   7.22   3.75   2.24   2.62   6.90  -1.47   0.30   \n",
       "2017-12   1.21  11.28   5.01   3.72  -2.40   0.48   1.76   3.75  13.12   0.52   \n",
       "\n",
       "         Machn  Cars   Trans  Utils  Rtail  Finan  Other  \n",
       "Date                                                      \n",
       "2010-01  -7.34   0.36  -2.13  -4.44  -1.29  -0.65  -3.91  \n",
       "2010-02   7.27   6.60   6.16  -0.42   3.69   2.91   2.57  \n",
       "2010-03   7.77   8.82   8.98   3.11   6.49   8.30   6.19  \n",
       "2010-04   4.82   6.55   2.91   2.84   1.33   1.12   1.41  \n",
       "2010-05  -8.08  -7.20  -7.56  -6.30  -5.73  -9.11  -8.04  \n",
       "...        ...    ...    ...    ...    ...    ...    ...  \n",
       "2017-08   1.24   0.77   1.54   2.08  -1.38  -1.38   1.60  \n",
       "2017-09   5.63   7.44   4.66  -2.04   0.63   5.18   0.16  \n",
       "2017-10   6.07   1.07  -0.33   2.93   3.98   3.28   2.45  \n",
       "2017-11   2.32   2.44   5.48   2.34   8.78   3.88   1.67  \n",
       "2017-12   0.26  -0.61   3.01  -5.07   1.44   0.94   0.57  \n",
       "\n",
       "[96 rows x 17 columns]"
      ]
     },
     "execution_count": 9,
     "metadata": {},
     "output_type": "execute_result"
    }
   ],
   "source": [
    "ff_portfolio_data"
   ]
  },
  {
   "cell_type": "code",
   "execution_count": 8,
   "metadata": {
    "ExecuteTime": {
     "end_time": "2021-04-15T19:55:14.519355Z",
     "start_time": "2021-04-15T19:55:14.484749Z"
    }
   },
   "outputs": [
    {
     "data": {
      "text/html": [
       "<div>\n",
       "<style scoped>\n",
       "    .dataframe tbody tr th:only-of-type {\n",
       "        vertical-align: middle;\n",
       "    }\n",
       "\n",
       "    .dataframe tbody tr th {\n",
       "        vertical-align: top;\n",
       "    }\n",
       "\n",
       "    .dataframe thead th {\n",
       "        text-align: right;\n",
       "    }\n",
       "</style>\n",
       "<table border=\"1\" class=\"dataframe\">\n",
       "  <thead>\n",
       "    <tr style=\"text-align: right;\">\n",
       "      <th></th>\n",
       "      <th>Food</th>\n",
       "      <th>Mines</th>\n",
       "      <th>Oil</th>\n",
       "      <th>Clths</th>\n",
       "      <th>Durbl</th>\n",
       "      <th>Chems</th>\n",
       "      <th>Cnsum</th>\n",
       "      <th>Cnstr</th>\n",
       "      <th>Steel</th>\n",
       "      <th>FabPr</th>\n",
       "      <th>Machn</th>\n",
       "      <th>Cars</th>\n",
       "      <th>Trans</th>\n",
       "      <th>Utils</th>\n",
       "      <th>Rtail</th>\n",
       "      <th>Finan</th>\n",
       "      <th>Other</th>\n",
       "    </tr>\n",
       "  </thead>\n",
       "  <tbody>\n",
       "    <tr>\n",
       "      <th>count</th>\n",
       "      <td>96.000000</td>\n",
       "      <td>96.000000</td>\n",
       "      <td>96.000000</td>\n",
       "      <td>96.000000</td>\n",
       "      <td>96.000000</td>\n",
       "      <td>96.000000</td>\n",
       "      <td>96.000000</td>\n",
       "      <td>96.000000</td>\n",
       "      <td>96.000000</td>\n",
       "      <td>96.000000</td>\n",
       "      <td>96.000000</td>\n",
       "      <td>96.000000</td>\n",
       "      <td>96.000000</td>\n",
       "      <td>96.000000</td>\n",
       "      <td>96.000000</td>\n",
       "      <td>96.000000</td>\n",
       "      <td>96.000000</td>\n",
       "    </tr>\n",
       "    <tr>\n",
       "      <th>mean</th>\n",
       "      <td>1.035417</td>\n",
       "      <td>0.210000</td>\n",
       "      <td>0.594896</td>\n",
       "      <td>1.383646</td>\n",
       "      <td>1.141771</td>\n",
       "      <td>1.327604</td>\n",
       "      <td>1.189063</td>\n",
       "      <td>1.734167</td>\n",
       "      <td>0.535521</td>\n",
       "      <td>1.350208</td>\n",
       "      <td>1.219271</td>\n",
       "      <td>1.282292</td>\n",
       "      <td>1.469792</td>\n",
       "      <td>0.894271</td>\n",
       "      <td>1.240417</td>\n",
       "      <td>1.247292</td>\n",
       "      <td>1.286250</td>\n",
       "    </tr>\n",
       "    <tr>\n",
       "      <th>std</th>\n",
       "      <td>2.805824</td>\n",
       "      <td>7.942856</td>\n",
       "      <td>5.504306</td>\n",
       "      <td>5.007997</td>\n",
       "      <td>5.207729</td>\n",
       "      <td>5.585949</td>\n",
       "      <td>3.141205</td>\n",
       "      <td>5.249994</td>\n",
       "      <td>7.424776</td>\n",
       "      <td>4.713899</td>\n",
       "      <td>4.801381</td>\n",
       "      <td>5.757512</td>\n",
       "      <td>4.167801</td>\n",
       "      <td>3.232446</td>\n",
       "      <td>3.519087</td>\n",
       "      <td>4.868399</td>\n",
       "      <td>3.674353</td>\n",
       "    </tr>\n",
       "    <tr>\n",
       "      <th>min</th>\n",
       "      <td>-5.160000</td>\n",
       "      <td>-24.510000</td>\n",
       "      <td>-11.760000</td>\n",
       "      <td>-9.770000</td>\n",
       "      <td>-13.170000</td>\n",
       "      <td>-16.770000</td>\n",
       "      <td>-7.180000</td>\n",
       "      <td>-14.140000</td>\n",
       "      <td>-20.570000</td>\n",
       "      <td>-12.180000</td>\n",
       "      <td>-9.110000</td>\n",
       "      <td>-11.770000</td>\n",
       "      <td>-8.660000</td>\n",
       "      <td>-7.110000</td>\n",
       "      <td>-9.200000</td>\n",
       "      <td>-11.290000</td>\n",
       "      <td>-8.040000</td>\n",
       "    </tr>\n",
       "    <tr>\n",
       "      <th>25%</th>\n",
       "      <td>-0.797500</td>\n",
       "      <td>-5.810000</td>\n",
       "      <td>-3.167500</td>\n",
       "      <td>-1.572500</td>\n",
       "      <td>-2.272500</td>\n",
       "      <td>-1.337500</td>\n",
       "      <td>-0.895000</td>\n",
       "      <td>-2.435000</td>\n",
       "      <td>-4.385000</td>\n",
       "      <td>-1.450000</td>\n",
       "      <td>-2.010000</td>\n",
       "      <td>-1.255000</td>\n",
       "      <td>-0.860000</td>\n",
       "      <td>-0.735000</td>\n",
       "      <td>-0.952500</td>\n",
       "      <td>-1.530000</td>\n",
       "      <td>-1.147500</td>\n",
       "    </tr>\n",
       "    <tr>\n",
       "      <th>50%</th>\n",
       "      <td>0.940000</td>\n",
       "      <td>-0.480000</td>\n",
       "      <td>0.990000</td>\n",
       "      <td>1.155000</td>\n",
       "      <td>1.225000</td>\n",
       "      <td>1.445000</td>\n",
       "      <td>1.465000</td>\n",
       "      <td>2.160000</td>\n",
       "      <td>0.655000</td>\n",
       "      <td>1.500000</td>\n",
       "      <td>1.495000</td>\n",
       "      <td>0.620000</td>\n",
       "      <td>1.520000</td>\n",
       "      <td>1.275000</td>\n",
       "      <td>0.885000</td>\n",
       "      <td>1.790000</td>\n",
       "      <td>1.570000</td>\n",
       "    </tr>\n",
       "    <tr>\n",
       "      <th>75%</th>\n",
       "      <td>3.210000</td>\n",
       "      <td>5.905000</td>\n",
       "      <td>4.195000</td>\n",
       "      <td>3.770000</td>\n",
       "      <td>4.627500</td>\n",
       "      <td>4.437500</td>\n",
       "      <td>3.295000</td>\n",
       "      <td>5.555000</td>\n",
       "      <td>4.270000</td>\n",
       "      <td>3.845000</td>\n",
       "      <td>4.582500</td>\n",
       "      <td>4.815000</td>\n",
       "      <td>4.342500</td>\n",
       "      <td>2.930000</td>\n",
       "      <td>3.367500</td>\n",
       "      <td>4.147500</td>\n",
       "      <td>3.425000</td>\n",
       "    </tr>\n",
       "    <tr>\n",
       "      <th>max</th>\n",
       "      <td>6.680000</td>\n",
       "      <td>22.030000</td>\n",
       "      <td>16.030000</td>\n",
       "      <td>17.320000</td>\n",
       "      <td>16.580000</td>\n",
       "      <td>18.360000</td>\n",
       "      <td>8.280000</td>\n",
       "      <td>15.580000</td>\n",
       "      <td>21.620000</td>\n",
       "      <td>17.870000</td>\n",
       "      <td>14.740000</td>\n",
       "      <td>21.040000</td>\n",
       "      <td>13.030000</td>\n",
       "      <td>7.840000</td>\n",
       "      <td>12.460000</td>\n",
       "      <td>13.500000</td>\n",
       "      <td>10.430000</td>\n",
       "    </tr>\n",
       "  </tbody>\n",
       "</table>\n",
       "</div>"
      ],
      "text/plain": [
       "           Food       Mines      Oil        Clths      Durbl      Chems  \\\n",
       "count  96.000000  96.000000  96.000000  96.000000  96.000000  96.000000   \n",
       "mean    1.035417   0.210000   0.594896   1.383646   1.141771   1.327604   \n",
       "std     2.805824   7.942856   5.504306   5.007997   5.207729   5.585949   \n",
       "min    -5.160000 -24.510000 -11.760000  -9.770000 -13.170000 -16.770000   \n",
       "25%    -0.797500  -5.810000  -3.167500  -1.572500  -2.272500  -1.337500   \n",
       "50%     0.940000  -0.480000   0.990000   1.155000   1.225000   1.445000   \n",
       "75%     3.210000   5.905000   4.195000   3.770000   4.627500   4.437500   \n",
       "max     6.680000  22.030000  16.030000  17.320000  16.580000  18.360000   \n",
       "\n",
       "           Cnsum      Cnstr      Steel      FabPr      Machn      Cars   \\\n",
       "count  96.000000  96.000000  96.000000  96.000000  96.000000  96.000000   \n",
       "mean    1.189063   1.734167   0.535521   1.350208   1.219271   1.282292   \n",
       "std     3.141205   5.249994   7.424776   4.713899   4.801381   5.757512   \n",
       "min    -7.180000 -14.140000 -20.570000 -12.180000  -9.110000 -11.770000   \n",
       "25%    -0.895000  -2.435000  -4.385000  -1.450000  -2.010000  -1.255000   \n",
       "50%     1.465000   2.160000   0.655000   1.500000   1.495000   0.620000   \n",
       "75%     3.295000   5.555000   4.270000   3.845000   4.582500   4.815000   \n",
       "max     8.280000  15.580000  21.620000  17.870000  14.740000  21.040000   \n",
       "\n",
       "           Trans      Utils      Rtail      Finan      Other  \n",
       "count  96.000000  96.000000  96.000000  96.000000  96.000000  \n",
       "mean    1.469792   0.894271   1.240417   1.247292   1.286250  \n",
       "std     4.167801   3.232446   3.519087   4.868399   3.674353  \n",
       "min    -8.660000  -7.110000  -9.200000 -11.290000  -8.040000  \n",
       "25%    -0.860000  -0.735000  -0.952500  -1.530000  -1.147500  \n",
       "50%     1.520000   1.275000   0.885000   1.790000   1.570000  \n",
       "75%     4.342500   2.930000   3.367500   4.147500   3.425000  \n",
       "max    13.030000   7.840000  12.460000  13.500000  10.430000  "
      ]
     },
     "execution_count": 8,
     "metadata": {},
     "output_type": "execute_result"
    }
   ],
   "source": [
    "ff_portfolio_data.describe()"
   ]
  },
  {
   "cell_type": "markdown",
   "metadata": {},
   "source": [
    "### Equity Data"
   ]
  },
  {
   "cell_type": "code",
   "execution_count": 11,
   "metadata": {
    "ExecuteTime": {
     "end_time": "2021-04-15T19:55:20.200618Z",
     "start_time": "2021-04-15T19:55:14.520935Z"
    }
   },
   "outputs": [],
   "source": [
    "with pd.HDFStore('../data/assets.h5') as store:\n",
    "    prices = store['/quandl/wiki/prices'].adj_close.unstack().loc['2010':'2017']\n",
    "    equities = store['/us_equities/stocks'].drop_duplicates()"
   ]
  },
  {
   "cell_type": "code",
   "execution_count": 12,
   "metadata": {
    "ExecuteTime": {
     "end_time": "2021-04-15T19:55:20.245270Z",
     "start_time": "2021-04-15T19:55:20.201602Z"
    }
   },
   "outputs": [],
   "source": [
    "sectors = equities.filter(prices.columns, axis=0).sector.to_dict()\n",
    "prices = prices.filter(sectors.keys()).dropna(how='all', axis=1)"
   ]
  },
  {
   "cell_type": "code",
   "execution_count": 13,
   "metadata": {
    "ExecuteTime": {
     "end_time": "2021-04-15T19:55:20.330305Z",
     "start_time": "2021-04-15T19:55:20.246605Z"
    }
   },
   "outputs": [
    {
     "name": "stdout",
     "output_type": "stream",
     "text": [
      "<class 'pandas.core.frame.DataFrame'>\n",
      "PeriodIndex: 95 entries, 2010-02 to 2017-12\n",
      "Freq: M\n",
      "Columns: 1986 entries, A to ZUMZ\n",
      "dtypes: float64(1986)\n",
      "memory usage: 1.4 MB\n"
     ]
    }
   ],
   "source": [
    "returns = prices.resample('M').last().pct_change().mul(100).to_period('M')\n",
    "returns = returns.dropna(how='all').dropna(axis=1)\n",
    "returns.info()"
   ]
  },
  {
   "cell_type": "markdown",
   "metadata": {},
   "source": [
    "### Align data"
   ]
  },
  {
   "cell_type": "code",
   "execution_count": 14,
   "metadata": {
    "ExecuteTime": {
     "end_time": "2021-04-15T19:55:20.336370Z",
     "start_time": "2021-04-15T19:55:20.332866Z"
    }
   },
   "outputs": [],
   "source": [
    "ff_factor_data = ff_factor_data.loc[returns.index]\n",
    "ff_portfolio_data = ff_portfolio_data.loc[returns.index]"
   ]
  },
  {
   "cell_type": "code",
   "execution_count": 15,
   "metadata": {
    "ExecuteTime": {
     "end_time": "2021-04-15T19:55:20.370190Z",
     "start_time": "2021-04-15T19:55:20.338297Z"
    }
   },
   "outputs": [
    {
     "data": {
      "text/html": [
       "<div>\n",
       "<style scoped>\n",
       "    .dataframe tbody tr th:only-of-type {\n",
       "        vertical-align: middle;\n",
       "    }\n",
       "\n",
       "    .dataframe tbody tr th {\n",
       "        vertical-align: top;\n",
       "    }\n",
       "\n",
       "    .dataframe thead th {\n",
       "        text-align: right;\n",
       "    }\n",
       "</style>\n",
       "<table border=\"1\" class=\"dataframe\">\n",
       "  <thead>\n",
       "    <tr style=\"text-align: right;\">\n",
       "      <th></th>\n",
       "      <th>Mkt-RF</th>\n",
       "      <th>SMB</th>\n",
       "      <th>HML</th>\n",
       "      <th>RMW</th>\n",
       "      <th>CMA</th>\n",
       "      <th>RF</th>\n",
       "    </tr>\n",
       "  </thead>\n",
       "  <tbody>\n",
       "    <tr>\n",
       "      <th>count</th>\n",
       "      <td>95.000000</td>\n",
       "      <td>95.000000</td>\n",
       "      <td>95.000000</td>\n",
       "      <td>95.000000</td>\n",
       "      <td>95.000000</td>\n",
       "      <td>95.000000</td>\n",
       "    </tr>\n",
       "    <tr>\n",
       "      <th>mean</th>\n",
       "      <td>1.206000</td>\n",
       "      <td>0.057474</td>\n",
       "      <td>-0.054842</td>\n",
       "      <td>0.143474</td>\n",
       "      <td>0.043579</td>\n",
       "      <td>0.012737</td>\n",
       "    </tr>\n",
       "    <tr>\n",
       "      <th>std</th>\n",
       "      <td>3.568382</td>\n",
       "      <td>2.314039</td>\n",
       "      <td>2.214069</td>\n",
       "      <td>1.583465</td>\n",
       "      <td>1.418450</td>\n",
       "      <td>0.022665</td>\n",
       "    </tr>\n",
       "    <tr>\n",
       "      <th>min</th>\n",
       "      <td>-7.890000</td>\n",
       "      <td>-4.550000</td>\n",
       "      <td>-4.700000</td>\n",
       "      <td>-3.880000</td>\n",
       "      <td>-3.250000</td>\n",
       "      <td>0.000000</td>\n",
       "    </tr>\n",
       "    <tr>\n",
       "      <th>25%</th>\n",
       "      <td>-0.565000</td>\n",
       "      <td>-1.700000</td>\n",
       "      <td>-1.665000</td>\n",
       "      <td>-0.925000</td>\n",
       "      <td>-0.965000</td>\n",
       "      <td>0.000000</td>\n",
       "    </tr>\n",
       "    <tr>\n",
       "      <th>50%</th>\n",
       "      <td>1.290000</td>\n",
       "      <td>0.160000</td>\n",
       "      <td>-0.310000</td>\n",
       "      <td>0.240000</td>\n",
       "      <td>-0.010000</td>\n",
       "      <td>0.000000</td>\n",
       "    </tr>\n",
       "    <tr>\n",
       "      <th>75%</th>\n",
       "      <td>3.265000</td>\n",
       "      <td>1.610000</td>\n",
       "      <td>1.220000</td>\n",
       "      <td>1.205000</td>\n",
       "      <td>0.935000</td>\n",
       "      <td>0.010000</td>\n",
       "    </tr>\n",
       "    <tr>\n",
       "      <th>max</th>\n",
       "      <td>11.350000</td>\n",
       "      <td>7.070000</td>\n",
       "      <td>8.210000</td>\n",
       "      <td>3.480000</td>\n",
       "      <td>3.700000</td>\n",
       "      <td>0.090000</td>\n",
       "    </tr>\n",
       "  </tbody>\n",
       "</table>\n",
       "</div>"
      ],
      "text/plain": [
       "          Mkt-RF        SMB        HML        RMW        CMA         RF\n",
       "count  95.000000  95.000000  95.000000  95.000000  95.000000  95.000000\n",
       "mean    1.206000   0.057474  -0.054842   0.143474   0.043579   0.012737\n",
       "std     3.568382   2.314039   2.214069   1.583465   1.418450   0.022665\n",
       "min    -7.890000  -4.550000  -4.700000  -3.880000  -3.250000   0.000000\n",
       "25%    -0.565000  -1.700000  -1.665000  -0.925000  -0.965000   0.000000\n",
       "50%     1.290000   0.160000  -0.310000   0.240000  -0.010000   0.000000\n",
       "75%     3.265000   1.610000   1.220000   1.205000   0.935000   0.010000\n",
       "max    11.350000   7.070000   8.210000   3.480000   3.700000   0.090000"
      ]
     },
     "execution_count": 15,
     "metadata": {},
     "output_type": "execute_result"
    }
   ],
   "source": [
    "ff_factor_data.describe()"
   ]
  },
  {
   "cell_type": "markdown",
   "metadata": {},
   "source": [
    "### Compute excess Returns"
   ]
  },
  {
   "cell_type": "code",
   "execution_count": 16,
   "metadata": {
    "ExecuteTime": {
     "end_time": "2021-04-15T19:55:20.493870Z",
     "start_time": "2021-04-15T19:55:20.371460Z"
    }
   },
   "outputs": [
    {
     "name": "stdout",
     "output_type": "stream",
     "text": [
      "<class 'pandas.core.frame.DataFrame'>\n",
      "PeriodIndex: 95 entries, 2010-02 to 2017-12\n",
      "Freq: M\n",
      "Columns: 1986 entries, A to ZUMZ\n",
      "dtypes: float64(1986)\n",
      "memory usage: 1.4 MB\n"
     ]
    }
   ],
   "source": [
    "excess_returns = returns.sub(ff_factor_data.RF, axis=0)\n",
    "excess_returns.info()"
   ]
  },
  {
   "cell_type": "code",
   "execution_count": 17,
   "metadata": {
    "ExecuteTime": {
     "end_time": "2021-04-15T19:55:20.510527Z",
     "start_time": "2021-04-15T19:55:20.495111Z"
    }
   },
   "outputs": [],
   "source": [
    "excess_returns = excess_returns.clip(lower=np.percentile(excess_returns, 1),\n",
    "                                     upper=np.percentile(excess_returns, 99))"
   ]
  },
  {
   "cell_type": "markdown",
   "metadata": {},
   "source": [
    "## Fama-Macbeth Regression"
   ]
  },
  {
   "cell_type": "markdown",
   "metadata": {},
   "source": [
    "Given data on risk factors and portfolio returns, it is useful to estimate the portfolio's exposure, that is, how much the risk factors drive portfolio returns, as well as how much the exposure to a given factor is worth, that is, the what market's risk factor premium is. The risk premium then permits to estimate the return for any portfolio provided the factor exposure is known or can be assumed."
   ]
  },
  {
   "cell_type": "code",
   "execution_count": 18,
   "metadata": {
    "ExecuteTime": {
     "end_time": "2021-04-15T19:55:20.520870Z",
     "start_time": "2021-04-15T19:55:20.511704Z"
    }
   },
   "outputs": [
    {
     "name": "stdout",
     "output_type": "stream",
     "text": [
      "<class 'pandas.core.frame.DataFrame'>\n",
      "PeriodIndex: 95 entries, 2010-02 to 2017-12\n",
      "Freq: M\n",
      "Data columns (total 17 columns):\n",
      " #   Column  Non-Null Count  Dtype  \n",
      "---  ------  --------------  -----  \n",
      " 0   Food    95 non-null     float64\n",
      " 1   Mines   95 non-null     float64\n",
      " 2   Oil     95 non-null     float64\n",
      " 3   Clths   95 non-null     float64\n",
      " 4   Durbl   95 non-null     float64\n",
      " 5   Chems   95 non-null     float64\n",
      " 6   Cnsum   95 non-null     float64\n",
      " 7   Cnstr   95 non-null     float64\n",
      " 8   Steel   95 non-null     float64\n",
      " 9   FabPr   95 non-null     float64\n",
      " 10  Machn   95 non-null     float64\n",
      " 11  Cars    95 non-null     float64\n",
      " 12  Trans   95 non-null     float64\n",
      " 13  Utils   95 non-null     float64\n",
      " 14  Rtail   95 non-null     float64\n",
      " 15  Finan   95 non-null     float64\n",
      " 16  Other   95 non-null     float64\n",
      "dtypes: float64(17)\n",
      "memory usage: 13.4 KB\n"
     ]
    }
   ],
   "source": [
    "ff_portfolio_data.info()"
   ]
  },
  {
   "cell_type": "code",
   "execution_count": 19,
   "metadata": {
    "ExecuteTime": {
     "end_time": "2021-04-15T19:55:20.538124Z",
     "start_time": "2021-04-15T19:55:20.521998Z"
    }
   },
   "outputs": [
    {
     "name": "stdout",
     "output_type": "stream",
     "text": [
      "<class 'pandas.core.frame.DataFrame'>\n",
      "PeriodIndex: 95 entries, 2010-02 to 2017-12\n",
      "Freq: M\n",
      "Data columns (total 5 columns):\n",
      " #   Column  Non-Null Count  Dtype  \n",
      "---  ------  --------------  -----  \n",
      " 0   Mkt-RF  95 non-null     float64\n",
      " 1   SMB     95 non-null     float64\n",
      " 2   HML     95 non-null     float64\n",
      " 3   RMW     95 non-null     float64\n",
      " 4   CMA     95 non-null     float64\n",
      "dtypes: float64(5)\n",
      "memory usage: 4.5 KB\n"
     ]
    }
   ],
   "source": [
    "ff_factor_data = ff_factor_data.drop('RF', axis=1)\n",
    "ff_factor_data.info()"
   ]
  },
  {
   "cell_type": "markdown",
   "metadata": {},
   "source": [
    "To address the inference problem caused by the correlation of the residuals, Fama and MacBeth proposed a two-step methodology for a cross-sectional regression of returns on factors. The two-stage Fama—Macbeth regression is designed to estimate the premium rewarded for the exposure to a particular risk factor by the market. The two stages consist of:\n",
    "\n",
    "- First stage: N time-series regression, one for each asset or portfolio, of its excess returns on the factors to estimate the factor loadings.\n",
    "\n",
    "- Second stage: T cross-sectional regression, one for each time period, to estimate the risk premium.\n",
    "\n",
    "See corresponding section in Chapter 7 of [Machine Learning for Trading](https://www.amazon.com/Hands-Machine-Learning-Algorithmic-Trading-ebook/dp/B07JLFH7C5/ref=sr_1_2?ie=UTF8&qid=1548455634&sr=8-2&keywords=machine+learning+algorithmic+trading) for details."
   ]
  },
  {
   "cell_type": "markdown",
   "metadata": {},
   "source": [
    "Now we can compute the factor risk premia as the time average and get t-statistic to assess their individual significance, using the assumption that the risk premia estimates are independent over time.\n",
    "\n",
    "If we had a very large and representative data sample on traded risk factors we could use the sample mean as a risk premium estimate. However, we typically do not have a sufficiently long history to and the margin of error around the sample mean could be quite large. \n",
    "\n",
    "The Fama—Macbeth methodology leverages the covariance of the factors with other assets to determine the factor premia. The second moment of asset returns is easier to estimate than the first moment, and obtaining more granular data improves estimation considerably, which is not true of mean estimation."
   ]
  },
  {
   "cell_type": "markdown",
   "metadata": {},
   "source": [
    "### Step 1: Factor Exposures"
   ]
  },
  {
   "cell_type": "markdown",
   "metadata": {},
   "source": [
    "We can implement the first stage to obtain the 17 factor loading estimates as follows:"
   ]
  },
  {
   "cell_type": "code",
   "execution_count": 20,
   "metadata": {
    "ExecuteTime": {
     "end_time": "2021-04-15T19:55:20.643488Z",
     "start_time": "2021-04-15T19:55:20.539304Z"
    }
   },
   "outputs": [],
   "source": [
    "betas = []\n",
    "for industry in ff_portfolio_data:\n",
    "    step1 = OLS(endog=ff_portfolio_data.loc[ff_factor_data.index, industry], \n",
    "                exog=add_constant(ff_factor_data)).fit()\n",
    "    betas.append(step1.params.drop('const'))"
   ]
  },
  {
   "cell_type": "code",
   "execution_count": 21,
   "metadata": {
    "ExecuteTime": {
     "end_time": "2021-04-15T19:55:20.658189Z",
     "start_time": "2021-04-15T19:55:20.646568Z"
    }
   },
   "outputs": [
    {
     "name": "stdout",
     "output_type": "stream",
     "text": [
      "<class 'pandas.core.frame.DataFrame'>\n",
      "Index: 17 entries, Food  to Other\n",
      "Data columns (total 5 columns):\n",
      " #   Column  Non-Null Count  Dtype  \n",
      "---  ------  --------------  -----  \n",
      " 0   Mkt-RF  17 non-null     float64\n",
      " 1   SMB     17 non-null     float64\n",
      " 2   HML     17 non-null     float64\n",
      " 3   RMW     17 non-null     float64\n",
      " 4   CMA     17 non-null     float64\n",
      "dtypes: float64(5)\n",
      "memory usage: 1.3+ KB\n"
     ]
    }
   ],
   "source": [
    "betas = pd.DataFrame(betas, \n",
    "                     columns=ff_factor_data.columns, \n",
    "                     index=ff_portfolio_data.columns)\n",
    "betas.info()"
   ]
  },
  {
   "cell_type": "markdown",
   "metadata": {},
   "source": [
    "### Step 2: Risk Premia"
   ]
  },
  {
   "cell_type": "markdown",
   "metadata": {},
   "source": [
    "For the second stage, we run 96 regressions of the period returns for the cross section of portfolios on the factor loadings"
   ]
  },
  {
   "cell_type": "code",
   "execution_count": 22,
   "metadata": {
    "ExecuteTime": {
     "end_time": "2021-04-15T19:55:20.759883Z",
     "start_time": "2021-04-15T19:55:20.659165Z"
    }
   },
   "outputs": [],
   "source": [
    "lambdas = []\n",
    "for period in ff_portfolio_data.index:\n",
    "    step2 = OLS(endog=ff_portfolio_data.loc[period, betas.index], \n",
    "                exog=betas).fit()\n",
    "    lambdas.append(step2.params)"
   ]
  },
  {
   "cell_type": "code",
   "execution_count": 23,
   "metadata": {
    "ExecuteTime": {
     "end_time": "2021-04-15T19:55:20.780931Z",
     "start_time": "2021-04-15T19:55:20.760976Z"
    }
   },
   "outputs": [
    {
     "name": "stdout",
     "output_type": "stream",
     "text": [
      "<class 'pandas.core.frame.DataFrame'>\n",
      "PeriodIndex: 95 entries, 2010-02 to 2017-12\n",
      "Freq: M\n",
      "Data columns (total 5 columns):\n",
      " #   Column  Non-Null Count  Dtype  \n",
      "---  ------  --------------  -----  \n",
      " 0   Mkt-RF  95 non-null     float64\n",
      " 1   SMB     95 non-null     float64\n",
      " 2   HML     95 non-null     float64\n",
      " 3   RMW     95 non-null     float64\n",
      " 4   CMA     95 non-null     float64\n",
      "dtypes: float64(5)\n",
      "memory usage: 6.5 KB\n"
     ]
    }
   ],
   "source": [
    "lambdas = pd.DataFrame(lambdas, \n",
    "                       index=ff_portfolio_data.index,\n",
    "                       columns=betas.columns.tolist())\n",
    "lambdas.info()"
   ]
  },
  {
   "cell_type": "code",
   "execution_count": 24,
   "metadata": {
    "ExecuteTime": {
     "end_time": "2021-04-15T19:55:20.902217Z",
     "start_time": "2021-04-15T19:55:20.781976Z"
    }
   },
   "outputs": [
    {
     "data": {
      "image/png": "[encoded data removed]",
      "text/plain": [
       "<Figure size 1200x400 with 1 Axes>"
      ]
     },
     "metadata": {},
     "output_type": "display_data"
    }
   ],
   "source": [
    "lambdas.mean().sort_values().plot.barh(figsize=(12, 4))\n",
    "sns.despine()\n",
    "plt.tight_layout();"
   ]
  },
  {
   "cell_type": "code",
   "execution_count": 25,
   "metadata": {
    "ExecuteTime": {
     "end_time": "2021-04-15T19:55:20.908357Z",
     "start_time": "2021-04-15T19:55:20.903193Z"
    }
   },
   "outputs": [
    {
     "data": {
      "text/plain": [
       "Mkt-RF    0.343438\n",
       "SMB      -0.003531\n",
       "HML      -0.266623\n",
       "RMW      -0.086461\n",
       "CMA      -0.147476\n",
       "dtype: float64"
      ]
     },
     "execution_count": 25,
     "metadata": {},
     "output_type": "execute_result"
    }
   ],
   "source": [
    "t = lambdas.mean().div(lambdas.std())\n",
    "t"
   ]
  },
  {
   "cell_type": "markdown",
   "metadata": {},
   "source": [
    "#### Results"
   ]
  },
  {
   "cell_type": "code",
   "execution_count": 26,
   "metadata": {
    "ExecuteTime": {
     "end_time": "2021-04-15T19:55:21.278124Z",
     "start_time": "2021-04-15T19:55:20.909336Z"
    }
   },
   "outputs": [
    {
     "data": {
      "image/png": "[encoded data removed]",
      "text/plain": [
       "<Figure size 1400x500 with 2 Axes>"
      ]
     },
     "metadata": {},
     "output_type": "display_data"
    }
   ],
   "source": [
    "window = 24  # months\n",
    "ax1 = plt.subplot2grid((1, 3), (0, 0))\n",
    "ax2 = plt.subplot2grid((1, 3), (0, 1), colspan=2)\n",
    "lambdas.mean().sort_values().plot.barh(ax=ax1)\n",
    "lambdas.rolling(window).mean().dropna().plot(lw=1,\n",
    "                                             figsize=(14, 5),\n",
    "                                             sharey=True,\n",
    "                                             ax=ax2)\n",
    "sns.despine()\n",
    "plt.tight_layout()"
   ]
  },
  {
   "cell_type": "code",
   "execution_count": 27,
   "metadata": {
    "ExecuteTime": {
     "end_time": "2021-04-15T19:55:21.839217Z",
     "start_time": "2021-04-15T19:55:21.279210Z"
    }
   },
   "outputs": [
    {
     "data": {
      "image/png": "[encoded data removed]",
      "text/plain": [
       "<Figure size 1400x700 with 5 Axes>"
      ]
     },
     "metadata": {},
     "output_type": "display_data"
    }
   ],
   "source": [
    "window = 24  # months\n",
    "lambdas.rolling(window).mean().dropna().plot(lw=2,\n",
    "                                             figsize=(14, 7),\n",
    "                                             subplots=True,\n",
    "                                             sharey=True)\n",
    "sns.despine()\n",
    "plt.tight_layout()"
   ]
  },
  {
   "cell_type": "markdown",
   "metadata": {},
   "source": [
    "## Fama-Macbeth with the LinearModels library"
   ]
  },
  {
   "cell_type": "markdown",
   "metadata": {},
   "source": [
    "The linear_models library extends statsmodels with various models for panel data and also implements the two-stage Fama—MacBeth procedure:"
   ]
  },
  {
   "cell_type": "code",
   "execution_count": 28,
   "metadata": {
    "ExecuteTime": {
     "end_time": "2021-04-15T19:55:21.859424Z",
     "start_time": "2021-04-15T19:55:21.840019Z"
    }
   },
   "outputs": [
    {
     "name": "stdout",
     "output_type": "stream",
     "text": [
      "                      LinearFactorModel Estimation Summary                      \n",
      "================================================================================\n",
      "No. Test Portfolios:                 17   R-squared:                      0.6897\n",
      "No. Factors:                          5   J-statistic:                    15.927\n",
      "No. Observations:                    95   P-value                         0.1946\n",
      "Date:                  Wed, Sep 27 2023   Distribution:                 chi2(12)\n",
      "Time:                          19:42:13                                         \n",
      "Cov. Estimator:                  robust                                         \n",
      "                                                                                \n",
      "                            Risk Premia Estimates                             \n",
      "==============================================================================\n",
      "            Parameter  Std. Err.     T-stat    P-value    Lower CI    Upper CI\n",
      "------------------------------------------------------------------------------\n",
      "Mkt-RF         1.2323     0.4068     3.0294     0.0025      0.4350      2.0295\n",
      "SMB           -0.0138     0.8667    -0.0159     0.9873     -1.7124      1.6848\n",
      "HML           -1.0810     0.6239    -1.7328     0.0831     -2.3038      0.1417\n",
      "RMW           -0.2588     0.8179    -0.3164     0.7517     -1.8618      1.3443\n",
      "CMA           -0.5184     0.5671    -0.9141     0.3607     -1.6299      0.5931\n",
      "==============================================================================\n",
      "\n",
      "Covariance estimator:\n",
      "HeteroskedasticCovariance\n",
      "See full_summary for complete results\n"
     ]
    }
   ],
   "source": [
    "mod = LinearFactorModel(portfolios=ff_portfolio_data, \n",
    "                        factors=ff_factor_data)\n",
    "res = mod.fit()\n",
    "print(res)"
   ]
  },
  {
   "cell_type": "code",
   "execution_count": 29,
   "metadata": {
    "ExecuteTime": {
     "end_time": "2021-04-15T19:55:21.921756Z",
     "start_time": "2021-04-15T19:55:21.861590Z"
    }
   },
   "outputs": [
    {
     "name": "stdout",
     "output_type": "stream",
     "text": [
      "                      LinearFactorModel Estimation Summary                      \n",
      "================================================================================\n",
      "No. Test Portfolios:                 17   R-squared:                      0.6897\n",
      "No. Factors:                          5   J-statistic:                    15.927\n",
      "No. Observations:                    95   P-value                         0.1946\n",
      "Date:                  Wed, Sep 27 2023   Distribution:                 chi2(12)\n",
      "Time:                          19:42:13                                         \n",
      "Cov. Estimator:                  robust                                         \n",
      "                                                                                \n",
      "                            Risk Premia Estimates                             \n",
      "==============================================================================\n",
      "            Parameter  Std. Err.     T-stat    P-value    Lower CI    Upper CI\n",
      "------------------------------------------------------------------------------\n",
      "Mkt-RF         1.2323     0.4068     3.0294     0.0025      0.4350      2.0295\n",
      "SMB           -0.0138     0.8667    -0.0159     0.9873     -1.7124      1.6848\n",
      "HML           -1.0810     0.6239    -1.7328     0.0831     -2.3038      0.1417\n",
      "RMW           -0.2588     0.8179    -0.3164     0.7517     -1.8618      1.3443\n",
      "CMA           -0.5184     0.5671    -0.9141     0.3607     -1.6299      0.5931\n",
      "\n",
      "\n",
      "                              Food  Coefficients                              \n",
      "==============================================================================\n",
      "            Parameter  Std. Err.     T-stat    P-value    Lower CI    Upper CI\n",
      "------------------------------------------------------------------------------\n",
      "alpha          0.1604     0.2561     0.6262     0.5312     -0.3416      0.6624\n",
      "Mkt-RF         0.6879     0.0474     14.524     0.0000      0.5951      0.7807\n",
      "SMB           -0.3108     0.1154    -2.6931     0.0071     -0.5371     -0.0846\n",
      "HML           -0.3506     0.1371    -2.5574     0.0105     -0.6193     -0.0819\n",
      "RMW            0.3105     0.1284     2.4176     0.0156      0.0588      0.5622\n",
      "CMA            0.4669     0.1604     2.9111     0.0036      0.1526      0.7813\n",
      "\n",
      "\n",
      "                              Mines Coefficients                              \n",
      "==============================================================================\n",
      "alpha         -0.6812     0.5274    -1.2917     0.1965     -1.7149      0.3525\n",
      "Mkt-RF         1.3124     0.1972     6.6564     0.0000      0.9260      1.6989\n",
      "SMB            0.1907     0.3384     0.5634     0.5732     -0.4726      0.8539\n",
      "HML            0.2145     0.3329     0.6445     0.5193     -0.4379      0.8670\n",
      "RMW            0.2300     0.4415     0.5210     0.6024     -0.6352      1.0952\n",
      "CMA            0.5662     0.5572     1.0162     0.3096     -0.5259      1.6583\n",
      "\n",
      "\n",
      "                              Oil   Coefficients                              \n",
      "==============================================================================\n",
      "alpha          0.2466     0.3482     0.7082     0.4788     -0.4358      0.9289\n",
      "Mkt-RF         1.0357     0.1016     10.195     0.0000      0.8366      1.2348\n",
      "SMB            0.1704     0.1900     0.8968     0.3698     -0.2021      0.5429\n",
      "HML            0.6541     0.2037     3.2107     0.0013      0.2548      1.0533\n",
      "RMW           -0.0064     0.2329    -0.0274     0.9781     -0.4628      0.4501\n",
      "CMA            0.3153     0.2823     1.1169     0.2640     -0.2380      0.8687\n",
      "\n",
      "\n",
      "                              Clths Coefficients                              \n",
      "==============================================================================\n",
      "alpha          0.2342     0.3417     0.6854     0.4931     -0.4356      0.9040\n",
      "Mkt-RF         0.9791     0.1206     8.1159     0.0000      0.7426      1.2155\n",
      "SMB            0.3769     0.1950     1.9329     0.0532     -0.0053      0.7591\n",
      "HML           -0.1545     0.2083    -0.7417     0.4583     -0.5628      0.2538\n",
      "RMW            0.6433     0.2640     2.4365     0.0148      0.1258      1.1607\n",
      "CMA           -0.0007     0.3078    -0.0022     0.9982     -0.6039      0.6025\n",
      "\n",
      "\n",
      "                              Durbl Coefficients                              \n",
      "==============================================================================\n",
      "alpha         -0.1158     0.3104    -0.3730     0.7091     -0.7240      0.4925\n",
      "Mkt-RF         1.1755     0.0844     13.924     0.0000      1.0101      1.3410\n",
      "SMB            0.6093     0.1202     5.0673     0.0000      0.3736      0.8449\n",
      "HML            0.0468     0.1509     0.3104     0.7562     -0.2489      0.3426\n",
      "RMW            0.5673     0.1981     2.8642     0.0042      0.1791      0.9555\n",
      "CMA           -0.1229     0.2681    -0.4583     0.6467     -0.6484      0.4026\n",
      "\n",
      "\n",
      "                              Chems Coefficients                              \n",
      "==============================================================================\n",
      "alpha         -0.1486     0.3238    -0.4590     0.6462     -0.7832      0.4859\n",
      "Mkt-RF         1.3511     0.1050     12.865     0.0000      1.1453      1.5570\n",
      "SMB            0.1686     0.1472     1.1459     0.2518     -0.1198      0.4571\n",
      "HML            0.1863     0.1471     1.2665     0.2053     -0.1020      0.4745\n",
      "RMW            0.1433     0.1914     0.7488     0.4540     -0.2318      0.5185\n",
      "CMA           -0.2153     0.2583    -0.8336     0.4045     -0.7215      0.2909\n",
      "\n",
      "\n",
      "                              Cnsum Coefficients                              \n",
      "==============================================================================\n",
      "alpha         -0.0417     0.3683    -0.1131     0.9099     -0.7634      0.6801\n",
      "Mkt-RF         0.7553     0.0581     12.998     0.0000      0.6414      0.8692\n",
      "SMB           -0.3402     0.1026    -3.3146     0.0009     -0.5414     -0.1390\n",
      "HML           -0.5541     0.1204    -4.6018     0.0000     -0.7902     -0.3181\n",
      "RMW           -0.0601     0.1358    -0.4424     0.6582     -0.3262      0.2060\n",
      "CMA            0.5823     0.2192     2.6566     0.0079      0.1527      1.0119\n",
      "\n",
      "\n",
      "                              Cnstr Coefficients                              \n",
      "==============================================================================\n",
      "alpha          0.5854     0.4282     1.3670     0.1716     -0.2539      1.4246\n",
      "Mkt-RF         1.1189     0.0823     13.593     0.0000      0.9576      1.2802\n",
      "SMB            0.4281     0.1334     3.2082     0.0013      0.1666      0.6896\n",
      "HML            0.0870     0.1893     0.4596     0.6458     -0.2841      0.4581\n",
      "RMW           -0.0202     0.2201    -0.0917     0.9269     -0.4516      0.4112\n",
      "CMA            0.1672     0.2388     0.6999     0.4840     -0.3009      0.6352\n",
      "\n",
      "\n",
      "                              Steel Coefficients                              \n",
      "==============================================================================\n",
      "alpha         -0.3979     0.4173    -0.9535     0.3403     -1.2157      0.4200\n",
      "Mkt-RF         1.4754     0.1371     10.759     0.0000      1.2067      1.7442\n",
      "SMB            0.4168     0.2584     1.6129     0.1068     -0.0897      0.9233\n",
      "HML            0.4243     0.2636     1.6097     0.1075     -0.0923      0.9410\n",
      "RMW            0.2045     0.3401     0.6013     0.5476     -0.4621      0.8711\n",
      "CMA            0.4442     0.4188     1.0606     0.2889     -0.3766      1.2649\n",
      "\n",
      "\n",
      "                              FabPr Coefficients                              \n",
      "==============================================================================\n",
      "alpha          0.1818     0.2973     0.6116     0.5408     -0.4008      0.7645\n",
      "Mkt-RF         1.0720     0.0750     14.295     0.0000      0.9251      1.2190\n",
      "SMB            0.4621     0.0993     4.6544     0.0000      0.2675      0.6566\n",
      "HML           -0.0363     0.1135    -0.3197     0.7492     -0.2586      0.1861\n",
      "RMW            0.1649     0.1460     1.1294     0.2587     -0.1213      0.4511\n",
      "CMA            0.1890     0.1921     0.9839     0.3252     -0.1875      0.5654\n",
      "\n",
      "\n",
      "                              Machn Coefficients                              \n",
      "==============================================================================\n",
      "alpha         -0.2951     0.2750    -1.0731     0.2832     -0.8340      0.2438\n",
      "Mkt-RF         1.1893     0.0580     20.498     0.0000      1.0756      1.3030\n",
      "SMB            0.1761     0.1061     1.6596     0.0970     -0.0319      0.3840\n",
      "HML            0.0326     0.1048     0.3114     0.7555     -0.1728      0.2381\n",
      "RMW            0.0538     0.1591     0.3384     0.7351     -0.2580      0.3657\n",
      "CMA           -0.3676     0.1761    -2.0878     0.0368     -0.7128     -0.0225\n",
      "\n",
      "\n",
      "                              Cars  Coefficients                              \n",
      "==============================================================================\n",
      "alpha         -0.1484     0.3978    -0.3732     0.7090     -0.9281      0.6312\n",
      "Mkt-RF         1.2016     0.0999     12.023     0.0000      1.0057      1.3975\n",
      "SMB            0.5930     0.1324     4.4785     0.0000      0.3335      0.8525\n",
      "HML            0.0292     0.1753     0.1663     0.8679     -0.3145      0.3728\n",
      "RMW            0.0382     0.2204     0.1735     0.8623     -0.3938      0.4703\n",
      "CMA           -0.0181     0.3053    -0.0592     0.9528     -0.6164      0.5802\n",
      "\n",
      "\n",
      "                              Trans Coefficients                              \n",
      "==============================================================================\n",
      "alpha          0.4972     0.3216     1.5458     0.1221     -0.1332      1.1275\n",
      "Mkt-RF         1.0228     0.0507     20.167     0.0000      0.9234      1.1222\n",
      "SMB            0.2674     0.1053     2.5380     0.0111      0.0609      0.4739\n",
      "HML           -0.0062     0.1231    -0.0508     0.9595     -0.2475      0.2350\n",
      "RMW            0.3826     0.1635     2.3394     0.0193      0.0621      0.7031\n",
      "CMA            0.2969     0.2021     1.4692     0.1418     -0.0992      0.6931\n",
      "\n",
      "\n",
      "                              Utils Coefficients                              \n",
      "==============================================================================\n",
      "alpha          0.3597     0.3098     1.1609     0.2457     -0.2476      0.9669\n",
      "Mkt-RF         0.4996     0.0903     5.5300     0.0000      0.3225      0.6766\n",
      "SMB           -0.2510     0.1548    -1.6208     0.1051     -0.5545      0.0525\n",
      "HML           -0.2931     0.1770    -1.6561     0.0977     -0.6400      0.0538\n",
      "RMW            0.2305     0.1936     1.1905     0.2338     -0.1490      0.6099\n",
      "CMA            0.5508     0.2994     1.8396     0.0658     -0.0361      1.1376\n",
      "\n",
      "\n",
      "                              Rtail Coefficients                              \n",
      "==============================================================================\n",
      "alpha          0.0264     0.2753     0.0959     0.9236     -0.5132      0.5661\n",
      "Mkt-RF         0.9058     0.0702     12.912     0.0000      0.7683      1.0433\n",
      "SMB            0.1329     0.0998     1.3318     0.1829     -0.0627      0.3285\n",
      "HML           -0.3767     0.1319    -2.8557     0.0043     -0.6353     -0.1182\n",
      "RMW            0.6937     0.1620     4.2812     0.0000      0.3761      1.0113\n",
      "CMA            0.1957     0.1761     1.1111     0.2665     -0.1495      0.5409\n",
      "\n",
      "\n",
      "                              Finan Coefficients                              \n",
      "==============================================================================\n",
      "alpha          0.3995     0.3758     1.0631     0.2877     -0.3370      1.1360\n",
      "Mkt-RF         1.0551     0.0442     23.877     0.0000      0.9685      1.1417\n",
      "SMB            0.0813     0.0894     0.9101     0.3628     -0.0938      0.2565\n",
      "HML            0.7656     0.0911     8.4020     0.0000      0.5870      0.9442\n",
      "RMW           -0.4583     0.1095    -4.1869     0.0000     -0.6729     -0.2438\n",
      "CMA           -0.5359     0.1160    -4.6210     0.0000     -0.7631     -0.3086\n",
      "\n",
      "\n",
      "                              Other Coefficients                              \n",
      "==============================================================================\n",
      "alpha         -0.1935     0.2272    -0.8518     0.3943     -0.6388      0.2518\n",
      "Mkt-RF         1.0327     0.0242     42.642     0.0000      0.9852      1.0802\n",
      "SMB           -0.1207     0.0393    -3.0756     0.0021     -0.1977     -0.0438\n",
      "HML           -0.1983     0.0348    -5.6934     0.0000     -0.2666     -0.1301\n",
      "RMW           -0.0964     0.0618    -1.5608     0.1186     -0.2175      0.0247\n",
      "CMA           -0.0403     0.0623    -0.6469     0.5177     -0.1625      0.0819\n",
      "==============================================================================\n",
      "\n",
      "Covariance estimator:\n",
      "HeteroskedasticCovariance\n",
      "See full_summary for complete results\n"
     ]
    }
   ],
   "source": [
    "print(res.full_summary)"
   ]
  },
  {
   "cell_type": "markdown",
   "metadata": {},
   "source": [
    "This provides us with the same result:"
   ]
  },
  {
   "cell_type": "code",
   "execution_count": 30,
   "metadata": {
    "ExecuteTime": {
     "end_time": "2021-04-15T19:55:21.926652Z",
     "start_time": "2021-04-15T19:55:21.922840Z"
    }
   },
   "outputs": [
    {
     "data": {
      "text/plain": [
       "Mkt-RF    1.232254\n",
       "SMB      -0.013807\n",
       "HML      -1.081013\n",
       "RMW      -0.258766\n",
       "CMA      -0.518381\n",
       "dtype: float64"
      ]
     },
     "execution_count": 30,
     "metadata": {},
     "output_type": "execute_result"
    }
   ],
   "source": [
    "lambdas.mean()"
   ]
  },
  {
   "cell_type": "code",
   "execution_count": null,
   "metadata": {},
   "outputs": [],
   "source": []
  }
 ],
 "metadata": {
  "kernelspec": {
   "display_name": "Python 3 (ipykernel)",
   "language": "python",
   "name": "python3"
  },
  "language_info": {
   "codemirror_mode": {
    "name": "ipython",
    "version": 3
   },
   "file_extension": ".py",
   "mimetype": "text/x-python",
   "name": "python",
   "nbconvert_exporter": "python",
   "pygments_lexer": "ipython3",
   "version": "3.8.17"
  },
  "toc": {
   "base_numbering": 1,
   "nav_menu": {},
   "number_sections": true,
   "sideBar": true,
   "skip_h1_title": true,
   "title_cell": "Table of Contents",
   "title_sidebar": "Contents",
   "toc_cell": false,
   "toc_position": {},
   "toc_section_display": true,
   "toc_window_display": true
  }
 },
 "nbformat": 4,
 "nbformat_minor": 4
}
