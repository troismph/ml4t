{
 "cells": [
  {
   "cell_type": "code",
   "execution_count": 2,
   "id": "7a0e5f46-bacc-41cd-98e5-0d47f022bd9a",
   "metadata": {},
   "outputs": [
    {
     "name": "stdout",
     "output_type": "stream",
     "text": [
      "TimeSeriesSplit(gap=0, max_train_size=None, n_splits=3, test_size=None)\n",
      "[0 1 2] [3]\n",
      "[0 1 2 3] [4]\n",
      "[0 1 2 3 4] [5]\n"
     ]
    }
   ],
   "source": [
    "import numpy as np\n",
    "from sklearn.model_selection import TimeSeriesSplit\n",
    "\n",
    "X = np.array([[1, 2], [3, 4], [1, 2], [3, 4], [1, 2], [3, 4]])\n",
    "y = np.array([1, 2, 3, 4, 5, 6])\n",
    "tscv = TimeSeriesSplit(n_splits=3)\n",
    "print(tscv)\n",
    "for train, test in tscv.split(X):\n",
    "    print(\"%s %s\" % (train, test))"
   ]
  },
  {
   "cell_type": "code",
   "execution_count": 14,
   "id": "3f9d078e-9c62-4509-a5ae-8e74b3d69282",
   "metadata": {},
   "outputs": [
    {
     "name": "stdout",
     "output_type": "stream",
     "text": [
      "[0], [1 2 3]\n",
      "[2 3], [4 5 6]\n",
      "[5 6], [7 8 9]\n"
     ]
    }
   ],
   "source": [
    "z = np.array([0, 1, 2, 3, 4, 5, 6, 7, 8, 9])\n",
    "tscv = TimeSeriesSplit(n_splits=3, test_size=3, max_train_size=2)\n",
    "for train, test in tscv.split(z):\n",
    "    print(f\"{train}, {test}\")"
   ]
  },
  {
   "cell_type": "code",
   "execution_count": null,
   "id": "fbe0f08a-fa32-4159-953c-d473d73dff3c",
   "metadata": {},
   "outputs": [],
   "source": []
  }
 ],
 "metadata": {
  "kernelspec": {
   "display_name": "Python 3 (ipykernel)",
   "language": "python",
   "name": "python3"
  },
  "language_info": {
   "codemirror_mode": {
    "name": "ipython",
    "version": 3
   },
   "file_extension": ".py",
   "mimetype": "text/x-python",
   "name": "python",
   "nbconvert_exporter": "python",
   "pygments_lexer": "ipython3",
   "version": "3.8.17"
  }
 },
 "nbformat": 4,
 "nbformat_minor": 5
}
